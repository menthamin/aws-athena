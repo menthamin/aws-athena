{
 "cells": [
  {
   "cell_type": "code",
   "execution_count": null,
   "outputs": [],
   "source": [
    "import os\n",
    "import boto3\n",
    "import pandas as pd\n",
    "import pyarrow as pa\n",
    "import pyarrow.parquet as pq\n",
    "from decimal import Decimal\n",
    "from s3fs import S3FileSystem\n",
    "from datetime import datetime\n",
    "from dotenv import load_dotenv"
   ],
   "metadata": {
    "collapsed": false,
    "pycharm": {
     "name": "#%%\n"
    }
   }
  },
  {
   "cell_type": "code",
   "execution_count": null,
   "outputs": [],
   "source": [
    "load_dotenv()"
   ],
   "metadata": {
    "collapsed": false,
    "pycharm": {
     "name": "#%%\n"
    }
   }
  },
  {
   "cell_type": "markdown",
   "source": [
    "\n",
    "# 1. Create Bucket"
   ],
   "metadata": {
    "collapsed": false,
    "pycharm": {
     "name": "#%% md\n"
    }
   }
  },
  {
   "cell_type": "code",
   "execution_count": null,
   "outputs": [],
   "source": [
    "session = boto3.Session(profile_name=\"mentha\")\n",
    "s3_client = session.client(\"s3\")"
   ],
   "metadata": {
    "collapsed": false,
    "pycharm": {
     "name": "#%%\n"
    }
   }
  },
  {
   "cell_type": "markdown",
   "source": [],
   "metadata": {
    "collapsed": false,
    "pycharm": {
     "name": "#%% md\n"
    }
   }
  },
  {
   "cell_type": "code",
   "execution_count": null,
   "outputs": [],
   "source": [
    "# s3_client.list_buckets()[\"Buckets\"]\n",
    "\n",
    "# s3_client.create_bucket(Bucket=\"mentha-athena-datastore\",\n",
    "#                         ACL=\"public-read\",\n",
    "#                         CreateBucketConfiguration={\n",
    "#                             \"LocationConstraint\": \"ap-northeast-2\"\n",
    "#                         }\n",
    "# )\n",
    "\n",
    "s3_client.list_buckets()[\"Buckets\"]"
   ],
   "metadata": {
    "collapsed": false,
    "pycharm": {
     "name": "#%%\n"
    }
   }
  },
  {
   "cell_type": "markdown",
   "source": [
    "# 2. Convert csv(local) to parquet(s3)"
   ],
   "metadata": {
    "collapsed": false,
    "pycharm": {
     "name": "#%% md\n"
    }
   }
  },
  {
   "cell_type": "markdown",
   "source": [
    "## 2.1. Read csv"
   ],
   "metadata": {
    "collapsed": false,
    "pycharm": {
     "name": "#%% md\n"
    }
   }
  },
  {
   "cell_type": "code",
   "execution_count": null,
   "outputs": [],
   "source": [
    "def decimal_from_value(value):\n",
    "    if value == \"null\":\n",
    "        return pd.NA\n",
    "    else:\n",
    "        return Decimal(value)\n",
    "\n",
    "event_metadata = {\n",
    "    \"column_list\": [\"identity_adid\", \"os\", \"model\", \"country\", \"event_name\", \"log_id\", \"server_datetime\", \"quantity\", \"price\"],\n",
    "    \"dtype_dict\": {\n",
    "        \"identity_adid\": \"str\",\n",
    "        \"os\": \"str\",\n",
    "        \"model\": \"str\",\n",
    "        \"country\": \"str\",\n",
    "        \"event_name\": \"str\",\n",
    "        \"log_id\": \"str\",\n",
    "        \"quantity\": \"Int64\",\n",
    "        \"server_datetime\": \"str\"\n",
    "    },\n",
    "    \"convert_dict\": {\n",
    "        \"price\": decimal_from_value\n",
    "    },\n",
    "}\n",
    "\n",
    "attribution_metadata = {\n",
    "    \"column_list\": [\"partner\", \"campaign\", \"server_datetime\", \"tracker_id\", \"log_id\", \"attribution_type\", \"identity_adid\"],\n",
    "    \"dtype_dict\": {\n",
    "        \"partner\": \"str\",\n",
    "        \"campaign\": \"str\",\n",
    "        \"tracker_id\": \"str\",\n",
    "        \"log_id\": \"str\",\n",
    "        \"attribution_type\": \"Int64\",\n",
    "        \"identity_adid\": \"str\",\n",
    "        \"server_datetime\": \"str\"\n",
    "    }\n",
    "}"
   ],
   "metadata": {
    "collapsed": false,
    "pycharm": {
     "name": "#%%\n"
    }
   }
  },
  {
   "cell_type": "code",
   "execution_count": null,
   "outputs": [],
   "source": [
    "df_event = pd.read_csv(\"data/event.csv\",\n",
    "                       names=event_metadata[\"column_list\"],\n",
    "                       dtype=event_metadata[\"dtype_dict\"],\n",
    "                       converters=event_metadata[\"convert_dict\"]\n",
    ")"
   ],
   "metadata": {
    "collapsed": false,
    "pycharm": {
     "name": "#%%\n"
    }
   }
  },
  {
   "cell_type": "code",
   "execution_count": null,
   "outputs": [],
   "source": [
    "df_attribution = pd.read_csv(\"data/attribution.csv\",\n",
    "                             names=attribution_metadata[\"column_list\"],\n",
    "                             dtype=attribution_metadata[\"dtype_dict\"],\n",
    ")"
   ],
   "metadata": {
    "collapsed": false,
    "pycharm": {
     "name": "#%%\n"
    }
   }
  },
  {
   "cell_type": "markdown",
   "source": [
    "### server_datetime 에러 케이스 확인\n",
    "- event 테이블에서 \"0001-01-01 00:00:00.0\"인 경우 Null로 대체하자"
   ],
   "metadata": {
    "collapsed": false,
    "pycharm": {
     "name": "#%% md\n"
    }
   }
  },
  {
   "cell_type": "code",
   "execution_count": null,
   "outputs": [],
   "source": [
    "df_event[\"server_datetime\"] = pd.to_datetime(df_event[\"server_datetime\"], errors = \"coerce\")\n",
    "df_attribution[\"server_datetime\"] = pd.to_datetime(df_attribution[\"server_datetime\"], errors = \"coerce\")"
   ],
   "metadata": {
    "collapsed": false,
    "pycharm": {
     "name": "#%%\n"
    }
   }
  },
  {
   "cell_type": "code",
   "execution_count": null,
   "outputs": [],
   "source": [
    "df_event[\"date\"] = df_event[\"server_datetime\"].dt.date\n",
    "df_attribution[\"date\"] = df_attribution[\"server_datetime\"].dt.date"
   ],
   "metadata": {
    "collapsed": false,
    "pycharm": {
     "name": "#%%\n"
    }
   }
  },
  {
   "cell_type": "code",
   "execution_count": null,
   "outputs": [],
   "source": [
    "df_event.info()"
   ],
   "metadata": {
    "collapsed": false,
    "pycharm": {
     "name": "#%%\n"
    }
   }
  },
  {
   "cell_type": "code",
   "execution_count": null,
   "outputs": [],
   "source": [
    "df_event.head(5)"
   ],
   "metadata": {
    "collapsed": false,
    "pycharm": {
     "name": "#%%\n"
    }
   }
  },
  {
   "cell_type": "code",
   "execution_count": null,
   "outputs": [],
   "source": [
    "df_attribution.info()"
   ],
   "metadata": {
    "collapsed": false,
    "pycharm": {
     "name": "#%%\n"
    }
   }
  },
  {
   "cell_type": "code",
   "execution_count": null,
   "outputs": [],
   "source": [
    "df_attribution.head(5)"
   ],
   "metadata": {
    "collapsed": false,
    "pycharm": {
     "name": "#%%\n"
    }
   }
  },
  {
   "cell_type": "markdown",
   "source": [
    "## 2.2. Convert csv to parquet"
   ],
   "metadata": {
    "collapsed": false,
    "pycharm": {
     "name": "#%% md\n"
    }
   }
  },
  {
   "cell_type": "code",
   "execution_count": null,
   "outputs": [],
   "source": [
    "event_table = pa.Table.from_pandas(df_event)\n",
    "attribution_table = pa.Table.from_pandas(df_attribution)\n",
    "# event_output_path = \"s3://mentha-athena-datastore/sample/event\"\n",
    "# attribution_output_path = \"s3://mentha-athena-datastore/sample/attribution\""
   ],
   "metadata": {
    "collapsed": false,
    "pycharm": {
     "name": "#%%\n"
    }
   }
  },
  {
   "cell_type": "markdown",
   "source": [],
   "metadata": {
    "collapsed": false,
    "pycharm": {
     "name": "#%% md\n"
    }
   }
  },
  {
   "cell_type": "code",
   "execution_count": null,
   "outputs": [],
   "source": [
    "pq.write_to_dataset(event_table,\n",
    "                    root_path=\"data/event/\",\n",
    "                    partition_cols=[\"date\"]\n",
    ")\n",
    "\n",
    "pq.write_to_dataset(attribution_table,\n",
    "                    root_path=\"data/attribution/\",\n",
    "                    partition_cols=[\"date\"]\n",
    ")"
   ],
   "metadata": {
    "collapsed": false,
    "pycharm": {
     "name": "#%%\n"
    }
   }
  },
  {
   "cell_type": "code",
   "execution_count": null,
   "outputs": [],
   "source": [
    "# pq.write_table(event_table, \"data/event.parquet\")\n",
    "# pq.write_table(attribution_table, \"data/attribution.parquet\")\n",
    "# # https://arrow.apache.org/docs/python/generated/pyarrow.parquet.read_metadata.html"
   ],
   "metadata": {
    "collapsed": false,
    "pycharm": {
     "name": "#%%\n"
    }
   }
  },
  {
   "cell_type": "code",
   "execution_count": null,
   "outputs": [],
   "source": [
    "# pq.read_metadata(\"data/event.parquet\")\n",
    "# read_event_schema = pq.read_schema(\"data/event.parquet\")\n",
    "# read_event_schema"
   ],
   "metadata": {
    "collapsed": false,
    "pycharm": {
     "name": "#%%\n"
    }
   }
  },
  {
   "cell_type": "markdown",
   "source": [
    "## 2.3. Upload parquet files to S3\n",
    "- ref: https://stackoverflow.com/questions/25380774/upload-a-directory-to-s3-with-boto"
   ],
   "metadata": {
    "collapsed": false,
    "pycharm": {
     "name": "#%% md\n"
    }
   }
  },
  {
   "cell_type": "code",
   "execution_count": null,
   "outputs": [],
   "source": [
    "def upload_folder_to_s3(s3bucket, inputDir, s3Path):\n",
    "    print(\"Uploading results to s3 initiated...\")\n",
    "    print(\"Local Source:\", inputDir)\n",
    "    os.system(\"ls -ltR \" + inputDir)\n",
    "\n",
    "    print(\"Dest  S3path:\", s3Path)\n",
    "\n",
    "    try:\n",
    "        for path, subdirs, files in os.walk(inputDir):\n",
    "            for file in files:\n",
    "                dest_path = path.replace(inputDir,\"\")\n",
    "                __s3file = os.path.normpath(s3Path + '/' + dest_path + '/' + file)\n",
    "                __local_file = os.path.join(path, file)\n",
    "                print(\"upload : \", __local_file, \" to Target: \", __s3file, end=\"\")\n",
    "                s3bucket.upload_file(__local_file, __s3file)\n",
    "                print(\" ...Success\")\n",
    "    except Exception as e:\n",
    "        print(\" ... Failed!! Quitting Upload!!\")\n",
    "        print(e)\n",
    "        raise e"
   ],
   "metadata": {
    "collapsed": false,
    "pycharm": {
     "name": "#%%\n"
    }
   }
  },
  {
   "cell_type": "code",
   "execution_count": null,
   "outputs": [],
   "source": [
    "s3 = boto3.resource(\"s3\")\n",
    "s3bucket = s3.Bucket(\"mentha-athena-datastore\")"
   ],
   "metadata": {
    "collapsed": false,
    "pycharm": {
     "name": "#%%\n"
    }
   }
  },
  {
   "cell_type": "code",
   "execution_count": null,
   "outputs": [],
   "source": [
    "upload_folder_to_s3(s3bucket, \"data/attribution\", \"sample/attribution\")\n",
    "upload_folder_to_s3(s3bucket, \"data/event\", \"sample/event\")"
   ],
   "metadata": {
    "collapsed": false,
    "pycharm": {
     "name": "#%%\n"
    }
   }
  },
  {
   "cell_type": "code",
   "execution_count": null,
   "outputs": [],
   "source": [],
   "metadata": {
    "collapsed": false,
    "pycharm": {
     "name": "#%%\n"
    }
   }
  },
  {
   "cell_type": "code",
   "execution_count": null,
   "outputs": [],
   "source": [
    "# s3_client.upload_file(Filename=\"data/event.parquet\",\n",
    "#                       Bucket=\"mentha-athena-datastore\",\n",
    "#                       Key=\"sample/event/event.parquet\"\n",
    "# )"
   ],
   "metadata": {
    "collapsed": false,
    "pycharm": {
     "name": "#%%\n"
    }
   }
  },
  {
   "cell_type": "code",
   "execution_count": null,
   "outputs": [],
   "source": [
    "# s3_client.upload_file(Filename=\"data/attribution.parquet\",\n",
    "#                       Bucket=\"mentha-athena-datastore\",\n",
    "#                       Key=\"sample/attribution/attribution.parquet\"\n",
    "# )"
   ],
   "metadata": {
    "collapsed": false,
    "pycharm": {
     "name": "#%%\n"
    }
   }
  },
  {
   "cell_type": "code",
   "execution_count": null,
   "outputs": [],
   "source": [
    "# s3 = S3FileSystem()\n",
    "pq.write_to_dataset(event_table, root_path=event_output_path, filesystem=s3)\n",
    "# pq.write_to_dataset(attribution_table, root_path=attribution_output_path, filesystem=s3)"
   ],
   "metadata": {
    "collapsed": false,
    "pycharm": {
     "name": "#%%\n"
    }
   }
  },
  {
   "cell_type": "markdown",
   "source": [
    "# 3. Athena"
   ],
   "metadata": {
    "collapsed": false,
    "pycharm": {
     "name": "#%% md\n"
    }
   }
  },
  {
   "cell_type": "markdown",
   "source": [
    "## 3.1. Create Athena tables"
   ],
   "metadata": {
    "collapsed": false,
    "pycharm": {
     "name": "#%% md\n"
    }
   }
  },
  {
   "cell_type": "code",
   "execution_count": 19,
   "outputs": [],
   "source": [
    "from pyathena import connect"
   ],
   "metadata": {
    "collapsed": false,
    "pycharm": {
     "name": "#%%\n"
    }
   }
  },
  {
   "cell_type": "code",
   "execution_count": 20,
   "outputs": [],
   "source": [
    "cursor = connect(s3_staging_dir=\"s3://mentha-athena-query-result/sample\",\n",
    "                 region_name=\"ap-northeast-2\",\n",
    "                 schema_name=\"data_store\"\n",
    ").cursor()"
   ],
   "metadata": {
    "collapsed": false,
    "pycharm": {
     "name": "#%%\n"
    }
   }
  },
  {
   "cell_type": "code",
   "execution_count": 21,
   "outputs": [],
   "source": [
    "create_event_table = \"\"\"\n",
    "CREATE EXTERNAL TABLE IF NOT EXISTS `data_store`.`event` (\n",
    "  `identity_adid` string,\n",
    "  `os` string,\n",
    "  `model` string,\n",
    "  `country` string,\n",
    "  `event_name` string,\n",
    "  `log_id` string,\n",
    "  `server_datetime` timestamp,\n",
    "  `quantity` int,\n",
    "  `price` decimal(10, 1)\n",
    ")\n",
    "PARTITIONED BY (date date)\n",
    "ROW FORMAT SERDE 'org.apache.hadoop.hive.ql.io.parquet.serde.ParquetHiveSerDe'\n",
    "WITH SERDEPROPERTIES ('serialization.format' = '1')\n",
    "LOCATION 's3://mentha-athena-datastore/sample/event/'\n",
    "TBLPROPERTIES ('has_encrypted_data' = 'false');\n",
    "\"\"\"\n",
    "\n",
    "create_event_partition = \"\"\"\n",
    "MSCK REPAIR TABLE `data_store`.`event`;\n",
    "\"\"\""
   ],
   "metadata": {
    "collapsed": false,
    "pycharm": {
     "name": "#%%\n"
    }
   }
  },
  {
   "cell_type": "code",
   "execution_count": 22,
   "outputs": [],
   "source": [
    "create_attribution_table = \"\"\"\n",
    "CREATE EXTERNAL TABLE IF NOT EXISTS `data_store`.`attribution` (\n",
    "  `partner` string,\n",
    "  `campaign` string,\n",
    "  `server_datetime` timestamp,\n",
    "  `tracker_id` string,\n",
    "  `log_id` string,\n",
    "  `attribution_type` int,\n",
    "  `identity_adid` string\n",
    ")\n",
    "PARTITIONED BY (date date)\n",
    "ROW FORMAT SERDE 'org.apache.hadoop.hive.ql.io.parquet.serde.ParquetHiveSerDe'\n",
    "WITH SERDEPROPERTIES ('serialization.format' = '1')\n",
    "LOCATION 's3://mentha-athena-datastore/sample/attribution/'\n",
    "TBLPROPERTIES ('has_encrypted_data' = 'false');\n",
    "\"\"\"\n",
    "\n",
    "create_attribution_partition = \"\"\"\n",
    "MSCK REPAIR TABLE `data_store`.`attribution`;\n",
    "\"\"\""
   ],
   "metadata": {
    "collapsed": false,
    "pycharm": {
     "name": "#%%\n"
    }
   }
  },
  {
   "cell_type": "code",
   "execution_count": 26,
   "outputs": [],
   "source": [
    "# cursor.execute(\"drop table event\")\n",
    "# cursor.execute(\"drop table attribution\")"
   ],
   "metadata": {
    "collapsed": false,
    "pycharm": {
     "name": "#%%\n"
    }
   }
  },
  {
   "cell_type": "code",
   "execution_count": 27,
   "outputs": [
    {
     "data": {
      "text/plain": "<pyathena.cursor.Cursor at 0x7fd368985580>"
     },
     "execution_count": 27,
     "metadata": {},
     "output_type": "execute_result"
    }
   ],
   "source": [
    "cursor.execute(create_event_table)\n",
    "cursor.execute(create_attribution_table)"
   ],
   "metadata": {
    "collapsed": false,
    "pycharm": {
     "name": "#%%\n"
    }
   }
  },
  {
   "cell_type": "code",
   "execution_count": 28,
   "outputs": [
    {
     "data": {
      "text/plain": "<pyathena.cursor.Cursor at 0x7fd368985580>"
     },
     "execution_count": 28,
     "metadata": {},
     "output_type": "execute_result"
    }
   ],
   "source": [
    "cursor.execute(create_event_partition)\n",
    "cursor.execute(create_attribution_partition)"
   ],
   "metadata": {
    "collapsed": false,
    "pycharm": {
     "name": "#%%\n"
    }
   }
  },
  {
   "cell_type": "code",
   "execution_count": 29,
   "outputs": [
    {
     "data": {
      "text/plain": "[('attribution',), ('event',), ('timestamp_error',), ('whether',)]"
     },
     "execution_count": 29,
     "metadata": {},
     "output_type": "execute_result"
    }
   ],
   "source": [
    "cursor.execute(\"show tables\")\n",
    "cursor.fetchall()"
   ],
   "metadata": {
    "collapsed": false,
    "pycharm": {
     "name": "#%%\n"
    }
   }
  },
  {
   "cell_type": "code",
   "execution_count": 31,
   "outputs": [
    {
     "data": {
      "text/plain": "[('825810027',\n  '7.1',\n  '7.1',\n  'ge',\n  'abx:firstopen',\n  '4239bfd7-d073-4e57-b4bf-059e90a7fc0f',\n  datetime.datetime(2018, 5, 22, 23, 55, 59, 325000),\n  None,\n  None,\n  datetime.date(2018, 5, 22)),\n ('1530000398',\n  '3.4',\n  '3.4',\n  'kr',\n  'custom:battle',\n  '7624f64e-bab3-46b2-a970-e89abfd36d3f',\n  datetime.datetime(2018, 5, 22, 23, 56, 42, 933000),\n  None,\n  None,\n  datetime.date(2018, 5, 22))]"
     },
     "execution_count": 31,
     "metadata": {},
     "output_type": "execute_result"
    }
   ],
   "source": [
    "cursor.execute(\"select * from event limit 2\")\n",
    "cursor.fetchall()"
   ],
   "metadata": {
    "collapsed": false,
    "pycharm": {
     "name": "#%%\n"
    }
   }
  },
  {
   "cell_type": "code",
   "execution_count": 32,
   "outputs": [
    {
     "data": {
      "text/plain": "[('8MCosUQMik2Muvd-MU0lew',\n  'campaign2',\n  datetime.datetime(2018, 6, 13, 0, 1, 33, 733000),\n  'LI7IlqzGk0uq3JdkfpKWZg',\n  '60f2cad9-7572-492a-b25e-367b0cb7e704',\n  1,\n  '1360564381',\n  datetime.date(2018, 6, 13)),\n ('8MCosUQMik2Muvd-MU0lew',\n  'campaign2',\n  datetime.datetime(2018, 6, 13, 0, 1, 3, 894000),\n  'LI7IlqzGk0uq3JdkfpKWZg',\n  '450683da-5fe5-4c79-8984-1e59f2269e85',\n  1,\n  '536133847',\n  datetime.date(2018, 6, 13))]"
     },
     "execution_count": 32,
     "metadata": {},
     "output_type": "execute_result"
    }
   ],
   "source": [
    "cursor.execute(\"select * from attribution limit 2\")\n",
    "cursor.fetchall()"
   ],
   "metadata": {
    "collapsed": false,
    "pycharm": {
     "name": "#%%\n"
    }
   }
  },
  {
   "cell_type": "code",
   "execution_count": null,
   "outputs": [],
   "source": [],
   "metadata": {
    "collapsed": false,
    "pycharm": {
     "name": "#%%\n"
    }
   }
  }
 ],
 "metadata": {
  "kernelspec": {
   "display_name": "Python 3",
   "language": "python",
   "name": "python3"
  },
  "language_info": {
   "codemirror_mode": {
    "name": "ipython",
    "version": 2
   },
   "file_extension": ".py",
   "mimetype": "text/x-python",
   "name": "python",
   "nbconvert_exporter": "python",
   "pygments_lexer": "ipython2",
   "version": "2.7.6"
  }
 },
 "nbformat": 4,
 "nbformat_minor": 0
}