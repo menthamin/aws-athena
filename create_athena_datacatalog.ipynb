{
 "cells": [
  {
   "cell_type": "code",
   "execution_count": 1,
   "outputs": [],
   "source": [
    "import os\n",
    "import boto3\n",
    "import pandas as pd\n",
    "import pyarrow as pa\n",
    "import pyarrow.parquet as pq\n",
    "from decimal import Decimal\n",
    "from s3fs import S3FileSystem\n",
    "from datetime import datetime\n",
    "from dotenv import load_dotenv"
   ],
   "metadata": {
    "collapsed": false,
    "pycharm": {
     "name": "#%%\n"
    }
   }
  },
  {
   "cell_type": "code",
   "execution_count": 2,
   "outputs": [
    {
     "data": {
      "text/plain": "True"
     },
     "execution_count": 2,
     "metadata": {},
     "output_type": "execute_result"
    }
   ],
   "source": [
    "load_dotenv()"
   ],
   "metadata": {
    "collapsed": false,
    "pycharm": {
     "name": "#%%\n"
    }
   }
  },
  {
   "cell_type": "markdown",
   "source": [
    "\n",
    "# 1. Create Bucket"
   ],
   "metadata": {
    "collapsed": false,
    "pycharm": {
     "name": "#%% md\n"
    }
   }
  },
  {
   "cell_type": "code",
   "execution_count": 3,
   "outputs": [],
   "source": [
    "session = boto3.Session(profile_name=\"mentha\")\n",
    "s3_client = session.client(\"s3\")"
   ],
   "metadata": {
    "collapsed": false,
    "pycharm": {
     "name": "#%%\n"
    }
   }
  },
  {
   "cell_type": "markdown",
   "source": [],
   "metadata": {
    "collapsed": false,
    "pycharm": {
     "name": "#%% md\n"
    }
   }
  },
  {
   "cell_type": "code",
   "execution_count": 4,
   "outputs": [
    {
     "data": {
      "text/plain": "[{'Name': 'aws-glue-assets-305045122135-ap-northeast-2',\n  'CreationDate': datetime.datetime(2022, 5, 19, 14, 23, 19, tzinfo=tzutc())},\n {'Name': 'mentha-athena-datastore',\n  'CreationDate': datetime.datetime(2022, 10, 2, 5, 52, 13, tzinfo=tzutc())},\n {'Name': 'mentha-athena-query-result',\n  'CreationDate': datetime.datetime(2022, 5, 22, 4, 57, 56, tzinfo=tzutc())},\n {'Name': 'mentha-datastore',\n  'CreationDate': datetime.datetime(2022, 10, 2, 6, 33, tzinfo=tzutc())},\n {'Name': 'mentha-sample-datastore',\n  'CreationDate': datetime.datetime(2022, 5, 22, 5, 40, 57, tzinfo=tzutc())}]"
     },
     "execution_count": 4,
     "metadata": {},
     "output_type": "execute_result"
    }
   ],
   "source": [
    "# s3_client.list_buckets()[\"Buckets\"]\n",
    "\n",
    "# s3_client.create_bucket(Bucket=\"mentha-athena-datastore\",\n",
    "#                         ACL=\"public-read\",\n",
    "#                         CreateBucketConfiguration={\n",
    "#                             \"LocationConstraint\": \"ap-northeast-2\"\n",
    "#                         }\n",
    "# )\n",
    "\n",
    "s3_client.list_buckets()[\"Buckets\"]"
   ],
   "metadata": {
    "collapsed": false,
    "pycharm": {
     "name": "#%%\n"
    }
   }
  },
  {
   "cell_type": "markdown",
   "source": [
    "# 2. Convert csv(local) to parquet(s3)"
   ],
   "metadata": {
    "collapsed": false,
    "pycharm": {
     "name": "#%% md\n"
    }
   }
  },
  {
   "cell_type": "markdown",
   "source": [
    "## 2.1. Read csv"
   ],
   "metadata": {
    "collapsed": false,
    "pycharm": {
     "name": "#%% md\n"
    }
   }
  },
  {
   "cell_type": "code",
   "execution_count": 5,
   "outputs": [],
   "source": [
    "def decimal_from_value(value):\n",
    "    if value == \"null\":\n",
    "        return pd.NA\n",
    "    else:\n",
    "        return Decimal(value)\n",
    "\n",
    "event_metadata = {\n",
    "    \"column_list\": [\"identity_adid\", \"os\", \"model\", \"country\", \"event_name\", \"log_id\", \"server_datetime\", \"quantity\", \"price\"],\n",
    "    \"dtype_dict\": {\n",
    "        \"identity_adid\": \"str\",\n",
    "        \"os\": \"str\",\n",
    "        \"model\": \"str\",\n",
    "        \"country\": \"str\",\n",
    "        \"event_name\": \"str\",\n",
    "        \"log_id\": \"str\",\n",
    "        \"quantity\": \"Int64\",\n",
    "        \"server_datetime\": \"str\"\n",
    "    },\n",
    "    \"convert_dict\": {\n",
    "        \"price\": decimal_from_value\n",
    "    },\n",
    "}\n",
    "\n",
    "attribution_metadata = {\n",
    "    \"column_list\": [\"partner\", \"campaign\", \"server_datetime\", \"tracker_id\", \"log_id\", \"attribution_type\", \"identity_adid\"],\n",
    "    \"dtype_dict\": {\n",
    "        \"partner\": \"str\",\n",
    "        \"campaign\": \"str\",\n",
    "        \"tracker_id\": \"str\",\n",
    "        \"log_id\": \"str\",\n",
    "        \"attribution_type\": \"Int64\",\n",
    "        \"identity_adid\": \"str\",\n",
    "        \"server_datetime\": \"str\"\n",
    "    }\n",
    "}"
   ],
   "metadata": {
    "collapsed": false,
    "pycharm": {
     "name": "#%%\n"
    }
   }
  },
  {
   "cell_type": "code",
   "execution_count": 6,
   "outputs": [],
   "source": [
    "df_event = pd.read_csv(\"data/event.csv\",\n",
    "                       names=event_metadata[\"column_list\"],\n",
    "                       dtype=event_metadata[\"dtype_dict\"],\n",
    "                       converters=event_metadata[\"convert_dict\"]\n",
    ")"
   ],
   "metadata": {
    "collapsed": false,
    "pycharm": {
     "name": "#%%\n"
    }
   }
  },
  {
   "cell_type": "code",
   "execution_count": 7,
   "outputs": [],
   "source": [
    "df_attribution = pd.read_csv(\"data/attribution.csv\",\n",
    "                             names=attribution_metadata[\"column_list\"],\n",
    "                             dtype=attribution_metadata[\"dtype_dict\"],\n",
    ")"
   ],
   "metadata": {
    "collapsed": false,
    "pycharm": {
     "name": "#%%\n"
    }
   }
  },
  {
   "cell_type": "markdown",
   "source": [
    "### server_datetime 에러 케이스 확인\n",
    "- event 테이블에서 \"0001-01-01 00:00:00.0\"인 경우 Null로 대체하자"
   ],
   "metadata": {
    "collapsed": false,
    "pycharm": {
     "name": "#%% md\n"
    }
   }
  },
  {
   "cell_type": "code",
   "execution_count": 8,
   "outputs": [],
   "source": [
    "df_event[\"server_datetime\"] = pd.to_datetime(df_event[\"server_datetime\"], errors = \"coerce\")\n",
    "df_attribution[\"server_datetime\"] = pd.to_datetime(df_attribution[\"server_datetime\"], errors = \"coerce\")"
   ],
   "metadata": {
    "collapsed": false,
    "pycharm": {
     "name": "#%%\n"
    }
   }
  },
  {
   "cell_type": "code",
   "execution_count": 9,
   "outputs": [],
   "source": [
    "df_event[\"date\"] = df_event[\"server_datetime\"].dt.date\n",
    "df_attribution[\"date\"] = df_attribution[\"server_datetime\"].dt.date"
   ],
   "metadata": {
    "collapsed": false,
    "pycharm": {
     "name": "#%%\n"
    }
   }
  },
  {
   "cell_type": "code",
   "execution_count": 10,
   "outputs": [
    {
     "name": "stdout",
     "output_type": "stream",
     "text": [
      "<class 'pandas.core.frame.DataFrame'>\n",
      "RangeIndex: 17966166 entries, 0 to 17966165\n",
      "Data columns (total 10 columns):\n",
      " #   Column           Dtype         \n",
      "---  ------           -----         \n",
      " 0   identity_adid    object        \n",
      " 1   os               object        \n",
      " 2   model            object        \n",
      " 3   country          object        \n",
      " 4   event_name       object        \n",
      " 5   log_id           object        \n",
      " 6   server_datetime  datetime64[ns]\n",
      " 7   quantity         Int64         \n",
      " 8   price            object        \n",
      " 9   date             object        \n",
      "dtypes: Int64(1), datetime64[ns](1), object(8)\n",
      "memory usage: 1.4+ GB\n"
     ]
    }
   ],
   "source": [
    "df_event.info()"
   ],
   "metadata": {
    "collapsed": false,
    "pycharm": {
     "name": "#%%\n"
    }
   }
  },
  {
   "cell_type": "code",
   "execution_count": 11,
   "outputs": [
    {
     "data": {
      "text/plain": "  identity_adid   os model country         event_name  \\\n0     984549936  8.9   8.9      jp          abx:login   \n1     885033552  8.9   8.9      gb          abx:login   \n2     768602461  7.1   7.1      ge      abx:firstopen   \n3    1666798466  3.4   3.4      gb    abx:end_session   \n4     683694696  7.1   7.1      kr  abx:start_session   \n\n                                 log_id         server_datetime  quantity  \\\n0  c21efdb8-b6e5-4ccc-a474-aff72a62c248 2018-05-18 12:23:15.303      <NA>   \n1  b4470f3b-4bb9-43ef-9248-25b503fa5660 2018-05-18 12:32:46.395      <NA>   \n2  372dfecc-a27f-4a16-8e31-eccf34b8855f 2018-05-18 12:34:55.196      <NA>   \n3  08730bdc-2895-4061-8399-f45df94d3fd0 2018-05-18 12:30:23.945      <NA>   \n4  a9556df7-f6ee-4600-af5b-89a44f18673c 2018-05-18 12:31:14.824      <NA>   \n\n  price        date  \n0  <NA>  2018-05-18  \n1  <NA>  2018-05-18  \n2  <NA>  2018-05-18  \n3  <NA>  2018-05-18  \n4  <NA>  2018-05-18  ",
      "text/html": "<div>\n<style scoped>\n    .dataframe tbody tr th:only-of-type {\n        vertical-align: middle;\n    }\n\n    .dataframe tbody tr th {\n        vertical-align: top;\n    }\n\n    .dataframe thead th {\n        text-align: right;\n    }\n</style>\n<table border=\"1\" class=\"dataframe\">\n  <thead>\n    <tr style=\"text-align: right;\">\n      <th></th>\n      <th>identity_adid</th>\n      <th>os</th>\n      <th>model</th>\n      <th>country</th>\n      <th>event_name</th>\n      <th>log_id</th>\n      <th>server_datetime</th>\n      <th>quantity</th>\n      <th>price</th>\n      <th>date</th>\n    </tr>\n  </thead>\n  <tbody>\n    <tr>\n      <th>0</th>\n      <td>984549936</td>\n      <td>8.9</td>\n      <td>8.9</td>\n      <td>jp</td>\n      <td>abx:login</td>\n      <td>c21efdb8-b6e5-4ccc-a474-aff72a62c248</td>\n      <td>2018-05-18 12:23:15.303</td>\n      <td>&lt;NA&gt;</td>\n      <td>&lt;NA&gt;</td>\n      <td>2018-05-18</td>\n    </tr>\n    <tr>\n      <th>1</th>\n      <td>885033552</td>\n      <td>8.9</td>\n      <td>8.9</td>\n      <td>gb</td>\n      <td>abx:login</td>\n      <td>b4470f3b-4bb9-43ef-9248-25b503fa5660</td>\n      <td>2018-05-18 12:32:46.395</td>\n      <td>&lt;NA&gt;</td>\n      <td>&lt;NA&gt;</td>\n      <td>2018-05-18</td>\n    </tr>\n    <tr>\n      <th>2</th>\n      <td>768602461</td>\n      <td>7.1</td>\n      <td>7.1</td>\n      <td>ge</td>\n      <td>abx:firstopen</td>\n      <td>372dfecc-a27f-4a16-8e31-eccf34b8855f</td>\n      <td>2018-05-18 12:34:55.196</td>\n      <td>&lt;NA&gt;</td>\n      <td>&lt;NA&gt;</td>\n      <td>2018-05-18</td>\n    </tr>\n    <tr>\n      <th>3</th>\n      <td>1666798466</td>\n      <td>3.4</td>\n      <td>3.4</td>\n      <td>gb</td>\n      <td>abx:end_session</td>\n      <td>08730bdc-2895-4061-8399-f45df94d3fd0</td>\n      <td>2018-05-18 12:30:23.945</td>\n      <td>&lt;NA&gt;</td>\n      <td>&lt;NA&gt;</td>\n      <td>2018-05-18</td>\n    </tr>\n    <tr>\n      <th>4</th>\n      <td>683694696</td>\n      <td>7.1</td>\n      <td>7.1</td>\n      <td>kr</td>\n      <td>abx:start_session</td>\n      <td>a9556df7-f6ee-4600-af5b-89a44f18673c</td>\n      <td>2018-05-18 12:31:14.824</td>\n      <td>&lt;NA&gt;</td>\n      <td>&lt;NA&gt;</td>\n      <td>2018-05-18</td>\n    </tr>\n  </tbody>\n</table>\n</div>"
     },
     "execution_count": 11,
     "metadata": {},
     "output_type": "execute_result"
    }
   ],
   "source": [
    "df_event.head(5)"
   ],
   "metadata": {
    "collapsed": false,
    "pycharm": {
     "name": "#%%\n"
    }
   }
  },
  {
   "cell_type": "code",
   "execution_count": 12,
   "outputs": [
    {
     "name": "stdout",
     "output_type": "stream",
     "text": [
      "<class 'pandas.core.frame.DataFrame'>\n",
      "RangeIndex: 3760185 entries, 0 to 3760184\n",
      "Data columns (total 8 columns):\n",
      " #   Column            Dtype         \n",
      "---  ------            -----         \n",
      " 0   partner           object        \n",
      " 1   campaign          object        \n",
      " 2   server_datetime   datetime64[ns]\n",
      " 3   tracker_id        object        \n",
      " 4   log_id            object        \n",
      " 5   attribution_type  Int64         \n",
      " 6   identity_adid     object        \n",
      " 7   date              object        \n",
      "dtypes: Int64(1), datetime64[ns](1), object(6)\n",
      "memory usage: 233.1+ MB\n"
     ]
    }
   ],
   "source": [
    "df_attribution.info()"
   ],
   "metadata": {
    "collapsed": false,
    "pycharm": {
     "name": "#%%\n"
    }
   }
  },
  {
   "cell_type": "code",
   "execution_count": 13,
   "outputs": [
    {
     "data": {
      "text/plain": "  partner campaign         server_datetime tracker_id  \\\n0     NaN      NaN 2018-05-03 07:19:24.813        NaN   \n1     NaN      NaN 2018-05-03 10:25:11.034        NaN   \n2     NaN      NaN 2018-05-03 10:26:08.081        NaN   \n3     NaN      NaN 2018-05-03 22:38:15.378        NaN   \n4     NaN      NaN 2018-05-03 04:14:55.453        NaN   \n\n                                 log_id  attribution_type identity_adid  \\\n0  bdb8fc95-4f66-4d1d-8186-d10e86fe6433                 0     764796223   \n1  67c41325-a700-4f98-ad72-108025e9af8d                 0    2126194985   \n2  0e41af66-3f17-4bde-91db-806296209ad1                 0     738518810   \n3  a5f7ed1f-5d4e-4adf-96ce-e94f6820c2c2                 0     595719449   \n4  1e1aae33-282d-4dc2-9267-22fbd4ee2798                 0     302402748   \n\n         date  \n0  2018-05-03  \n1  2018-05-03  \n2  2018-05-03  \n3  2018-05-03  \n4  2018-05-03  ",
      "text/html": "<div>\n<style scoped>\n    .dataframe tbody tr th:only-of-type {\n        vertical-align: middle;\n    }\n\n    .dataframe tbody tr th {\n        vertical-align: top;\n    }\n\n    .dataframe thead th {\n        text-align: right;\n    }\n</style>\n<table border=\"1\" class=\"dataframe\">\n  <thead>\n    <tr style=\"text-align: right;\">\n      <th></th>\n      <th>partner</th>\n      <th>campaign</th>\n      <th>server_datetime</th>\n      <th>tracker_id</th>\n      <th>log_id</th>\n      <th>attribution_type</th>\n      <th>identity_adid</th>\n      <th>date</th>\n    </tr>\n  </thead>\n  <tbody>\n    <tr>\n      <th>0</th>\n      <td>NaN</td>\n      <td>NaN</td>\n      <td>2018-05-03 07:19:24.813</td>\n      <td>NaN</td>\n      <td>bdb8fc95-4f66-4d1d-8186-d10e86fe6433</td>\n      <td>0</td>\n      <td>764796223</td>\n      <td>2018-05-03</td>\n    </tr>\n    <tr>\n      <th>1</th>\n      <td>NaN</td>\n      <td>NaN</td>\n      <td>2018-05-03 10:25:11.034</td>\n      <td>NaN</td>\n      <td>67c41325-a700-4f98-ad72-108025e9af8d</td>\n      <td>0</td>\n      <td>2126194985</td>\n      <td>2018-05-03</td>\n    </tr>\n    <tr>\n      <th>2</th>\n      <td>NaN</td>\n      <td>NaN</td>\n      <td>2018-05-03 10:26:08.081</td>\n      <td>NaN</td>\n      <td>0e41af66-3f17-4bde-91db-806296209ad1</td>\n      <td>0</td>\n      <td>738518810</td>\n      <td>2018-05-03</td>\n    </tr>\n    <tr>\n      <th>3</th>\n      <td>NaN</td>\n      <td>NaN</td>\n      <td>2018-05-03 22:38:15.378</td>\n      <td>NaN</td>\n      <td>a5f7ed1f-5d4e-4adf-96ce-e94f6820c2c2</td>\n      <td>0</td>\n      <td>595719449</td>\n      <td>2018-05-03</td>\n    </tr>\n    <tr>\n      <th>4</th>\n      <td>NaN</td>\n      <td>NaN</td>\n      <td>2018-05-03 04:14:55.453</td>\n      <td>NaN</td>\n      <td>1e1aae33-282d-4dc2-9267-22fbd4ee2798</td>\n      <td>0</td>\n      <td>302402748</td>\n      <td>2018-05-03</td>\n    </tr>\n  </tbody>\n</table>\n</div>"
     },
     "execution_count": 13,
     "metadata": {},
     "output_type": "execute_result"
    }
   ],
   "source": [
    "df_attribution.head(5)"
   ],
   "metadata": {
    "collapsed": false,
    "pycharm": {
     "name": "#%%\n"
    }
   }
  },
  {
   "cell_type": "markdown",
   "source": [
    "## 2.2. Convert csv to parquet"
   ],
   "metadata": {
    "collapsed": false,
    "pycharm": {
     "name": "#%% md\n"
    }
   }
  },
  {
   "cell_type": "code",
   "execution_count": 15,
   "outputs": [],
   "source": [
    "event_table = pa.Table.from_pandas(df_event)\n",
    "attribution_table = pa.Table.from_pandas(df_attribution)\n",
    "# event_output_path = \"s3://mentha-athena-datastore/sample/event\"\n",
    "# attribution_output_path = \"s3://mentha-athena-datastore/sample/attribution\""
   ],
   "metadata": {
    "collapsed": false,
    "pycharm": {
     "name": "#%%\n"
    }
   }
  },
  {
   "cell_type": "markdown",
   "source": [],
   "metadata": {
    "collapsed": false,
    "pycharm": {
     "name": "#%% md\n"
    }
   }
  },
  {
   "cell_type": "code",
   "execution_count": 16,
   "outputs": [],
   "source": [
    "pq.write_to_dataset(event_table,\n",
    "                    root_path=\"data/event/\",\n",
    "                    partition_cols=[\"date\"]\n",
    ")\n",
    "\n",
    "pq.write_to_dataset(attribution_table,\n",
    "                    root_path=\"data/attribution/\",\n",
    "                    partition_cols=[\"date\"]\n",
    ")"
   ],
   "metadata": {
    "collapsed": false,
    "pycharm": {
     "name": "#%%\n"
    }
   }
  },
  {
   "cell_type": "code",
   "execution_count": null,
   "outputs": [],
   "source": [
    "# pq.write_table(event_table, \"data/event.parquet\")\n",
    "# pq.write_table(attribution_table, \"data/attribution.parquet\")\n",
    "# # https://arrow.apache.org/docs/python/generated/pyarrow.parquet.read_metadata.html"
   ],
   "metadata": {
    "collapsed": false,
    "pycharm": {
     "name": "#%%\n"
    }
   }
  },
  {
   "cell_type": "code",
   "execution_count": null,
   "outputs": [],
   "source": [
    "# pq.read_metadata(\"data/event.parquet\")\n",
    "# read_event_schema = pq.read_schema(\"data/event.parquet\")\n",
    "# read_event_schema"
   ],
   "metadata": {
    "collapsed": false,
    "pycharm": {
     "name": "#%%\n"
    }
   }
  },
  {
   "cell_type": "markdown",
   "source": [
    "## 2.3. Upload parquet files to S3\n",
    "- ref: https://stackoverflow.com/questions/25380774/upload-a-directory-to-s3-with-boto"
   ],
   "metadata": {
    "collapsed": false,
    "pycharm": {
     "name": "#%% md\n"
    }
   }
  },
  {
   "cell_type": "code",
   "execution_count": 17,
   "outputs": [],
   "source": [
    "def upload_folder_to_s3(s3bucket, inputDir, s3Path):\n",
    "    print(\"Uploading results to s3 initiated...\")\n",
    "    print(\"Local Source:\", inputDir)\n",
    "    os.system(\"ls -ltR \" + inputDir)\n",
    "\n",
    "    print(\"Dest  S3path:\", s3Path)\n",
    "\n",
    "    try:\n",
    "        for path, subdirs, files in os.walk(inputDir):\n",
    "            for file in files:\n",
    "                dest_path = path.replace(inputDir,\"\")\n",
    "                __s3file = os.path.normpath(s3Path + '/' + dest_path + '/' + file)\n",
    "                __local_file = os.path.join(path, file)\n",
    "                print(\"upload : \", __local_file, \" to Target: \", __s3file, end=\"\")\n",
    "                s3bucket.upload_file(__local_file, __s3file)\n",
    "                print(\" ...Success\")\n",
    "    except Exception as e:\n",
    "        print(\" ... Failed!! Quitting Upload!!\")\n",
    "        print(e)\n",
    "        raise e"
   ],
   "metadata": {
    "collapsed": false,
    "pycharm": {
     "name": "#%%\n"
    }
   }
  },
  {
   "cell_type": "code",
   "execution_count": 18,
   "outputs": [],
   "source": [
    "s3 = boto3.resource(\"s3\")\n",
    "s3bucket = s3.Bucket(\"mentha-athena-datastore\")"
   ],
   "metadata": {
    "collapsed": false,
    "pycharm": {
     "name": "#%%\n"
    }
   }
  },
  {
   "cell_type": "code",
   "execution_count": null,
   "outputs": [],
   "source": [
    "upload_folder_to_s3(s3bucket, \"data/attribution\", \"sample/attribution\")\n",
    "upload_folder_to_s3(s3bucket, \"data/event\", \"sample/event\")"
   ],
   "metadata": {
    "collapsed": false,
    "pycharm": {
     "name": "#%%\n"
    }
   }
  },
  {
   "cell_type": "code",
   "execution_count": null,
   "outputs": [],
   "source": [],
   "metadata": {
    "collapsed": false,
    "pycharm": {
     "name": "#%%\n"
    }
   }
  },
  {
   "cell_type": "code",
   "execution_count": null,
   "outputs": [],
   "source": [
    "# s3_client.upload_file(Filename=\"data/event.parquet\",\n",
    "#                       Bucket=\"mentha-athena-datastore\",\n",
    "#                       Key=\"sample/event/event.parquet\"\n",
    "# )"
   ],
   "metadata": {
    "collapsed": false,
    "pycharm": {
     "name": "#%%\n"
    }
   }
  },
  {
   "cell_type": "code",
   "execution_count": null,
   "outputs": [],
   "source": [
    "# s3_client.upload_file(Filename=\"data/attribution.parquet\",\n",
    "#                       Bucket=\"mentha-athena-datastore\",\n",
    "#                       Key=\"sample/attribution/attribution.parquet\"\n",
    "# )"
   ],
   "metadata": {
    "collapsed": false,
    "pycharm": {
     "name": "#%%\n"
    }
   }
  },
  {
   "cell_type": "code",
   "execution_count": null,
   "outputs": [],
   "source": [
    "# s3 = S3FileSystem()\n",
    "pq.write_to_dataset(event_table, root_path=event_output_path, filesystem=s3)\n",
    "# pq.write_to_dataset(attribution_table, root_path=attribution_output_path, filesystem=s3)"
   ],
   "metadata": {
    "collapsed": false,
    "pycharm": {
     "name": "#%%\n"
    }
   }
  },
  {
   "cell_type": "markdown",
   "source": [
    "# 3. Athena"
   ],
   "metadata": {
    "collapsed": false,
    "pycharm": {
     "name": "#%% md\n"
    }
   }
  },
  {
   "cell_type": "markdown",
   "source": [
    "## 3.1. Create Athena tables"
   ],
   "metadata": {
    "collapsed": false,
    "pycharm": {
     "name": "#%% md\n"
    }
   }
  },
  {
   "cell_type": "code",
   "execution_count": 19,
   "outputs": [],
   "source": [
    "from pyathena import connect"
   ],
   "metadata": {
    "collapsed": false,
    "pycharm": {
     "name": "#%%\n"
    }
   }
  },
  {
   "cell_type": "code",
   "execution_count": 20,
   "outputs": [],
   "source": [
    "cursor = connect(s3_staging_dir=\"s3://mentha-athena-query-result/sample\",\n",
    "                 region_name=\"ap-northeast-2\",\n",
    "                 schema_name=\"data_store\"\n",
    ").cursor()"
   ],
   "metadata": {
    "collapsed": false,
    "pycharm": {
     "name": "#%%\n"
    }
   }
  },
  {
   "cell_type": "code",
   "execution_count": 21,
   "outputs": [],
   "source": [
    "create_event_table = \"\"\"\n",
    "CREATE EXTERNAL TABLE IF NOT EXISTS `data_store`.`event` (\n",
    "  `identity_adid` string,\n",
    "  `os` string,\n",
    "  `model` string,\n",
    "  `country` string,\n",
    "  `event_name` string,\n",
    "  `log_id` string,\n",
    "  `server_datetime` timestamp,\n",
    "  `quantity` int,\n",
    "  `price` decimal(10, 1)\n",
    ")\n",
    "PARTITIONED BY (date date)\n",
    "ROW FORMAT SERDE 'org.apache.hadoop.hive.ql.io.parquet.serde.ParquetHiveSerDe'\n",
    "WITH SERDEPROPERTIES ('serialization.format' = '1')\n",
    "LOCATION 's3://mentha-athena-datastore/sample/event/'\n",
    "TBLPROPERTIES ('has_encrypted_data' = 'false');\n",
    "\"\"\"\n",
    "\n",
    "create_event_partition = \"\"\"\n",
    "MSCK REPAIR TABLE `data_store`.`event`;\n",
    "\"\"\""
   ],
   "metadata": {
    "collapsed": false,
    "pycharm": {
     "name": "#%%\n"
    }
   }
  },
  {
   "cell_type": "code",
   "execution_count": 22,
   "outputs": [],
   "source": [
    "create_attribution_table = \"\"\"\n",
    "CREATE EXTERNAL TABLE IF NOT EXISTS `data_store`.`attribution` (\n",
    "  `partner` string,\n",
    "  `campaign` string,\n",
    "  `server_datetime` timestamp,\n",
    "  `tracker_id` string,\n",
    "  `log_id` string,\n",
    "  `attribution_type` int,\n",
    "  `identity_adid` string\n",
    ")\n",
    "PARTITIONED BY (date date)\n",
    "ROW FORMAT SERDE 'org.apache.hadoop.hive.ql.io.parquet.serde.ParquetHiveSerDe'\n",
    "WITH SERDEPROPERTIES ('serialization.format' = '1')\n",
    "LOCATION 's3://mentha-athena-datastore/sample/attribution/'\n",
    "TBLPROPERTIES ('has_encrypted_data' = 'false');\n",
    "\"\"\"\n",
    "\n",
    "create_attribution_partition = \"\"\"\n",
    "MSCK REPAIR TABLE `data_store`.`attribution`;\n",
    "\"\"\""
   ],
   "metadata": {
    "collapsed": false,
    "pycharm": {
     "name": "#%%\n"
    }
   }
  },
  {
   "cell_type": "code",
   "execution_count": 26,
   "outputs": [],
   "source": [
    "# cursor.execute(\"drop table event\")\n",
    "# cursor.execute(\"drop table attribution\")"
   ],
   "metadata": {
    "collapsed": false,
    "pycharm": {
     "name": "#%%\n"
    }
   }
  },
  {
   "cell_type": "code",
   "execution_count": 27,
   "outputs": [
    {
     "data": {
      "text/plain": "<pyathena.cursor.Cursor at 0x7fd368985580>"
     },
     "execution_count": 27,
     "metadata": {},
     "output_type": "execute_result"
    }
   ],
   "source": [
    "cursor.execute(create_event_table)\n",
    "cursor.execute(create_attribution_table)"
   ],
   "metadata": {
    "collapsed": false,
    "pycharm": {
     "name": "#%%\n"
    }
   }
  },
  {
   "cell_type": "code",
   "execution_count": 28,
   "outputs": [
    {
     "data": {
      "text/plain": "<pyathena.cursor.Cursor at 0x7fd368985580>"
     },
     "execution_count": 28,
     "metadata": {},
     "output_type": "execute_result"
    }
   ],
   "source": [
    "cursor.execute(create_event_partition)\n",
    "cursor.execute(create_attribution_partition)"
   ],
   "metadata": {
    "collapsed": false,
    "pycharm": {
     "name": "#%%\n"
    }
   }
  },
  {
   "cell_type": "code",
   "execution_count": 29,
   "outputs": [
    {
     "data": {
      "text/plain": "[('attribution',), ('event',), ('timestamp_error',), ('whether',)]"
     },
     "execution_count": 29,
     "metadata": {},
     "output_type": "execute_result"
    }
   ],
   "source": [
    "cursor.execute(\"show tables\")\n",
    "cursor.fetchall()"
   ],
   "metadata": {
    "collapsed": false,
    "pycharm": {
     "name": "#%%\n"
    }
   }
  },
  {
   "cell_type": "code",
   "execution_count": 31,
   "outputs": [
    {
     "data": {
      "text/plain": "[('825810027',\n  '7.1',\n  '7.1',\n  'ge',\n  'abx:firstopen',\n  '4239bfd7-d073-4e57-b4bf-059e90a7fc0f',\n  datetime.datetime(2018, 5, 22, 23, 55, 59, 325000),\n  None,\n  None,\n  datetime.date(2018, 5, 22)),\n ('1530000398',\n  '3.4',\n  '3.4',\n  'kr',\n  'custom:battle',\n  '7624f64e-bab3-46b2-a970-e89abfd36d3f',\n  datetime.datetime(2018, 5, 22, 23, 56, 42, 933000),\n  None,\n  None,\n  datetime.date(2018, 5, 22))]"
     },
     "execution_count": 31,
     "metadata": {},
     "output_type": "execute_result"
    }
   ],
   "source": [
    "cursor.execute(\"select * from event limit 2\")\n",
    "cursor.fetchall()"
   ],
   "metadata": {
    "collapsed": false,
    "pycharm": {
     "name": "#%%\n"
    }
   }
  },
  {
   "cell_type": "code",
   "execution_count": 32,
   "outputs": [
    {
     "data": {
      "text/plain": "[('8MCosUQMik2Muvd-MU0lew',\n  'campaign2',\n  datetime.datetime(2018, 6, 13, 0, 1, 33, 733000),\n  'LI7IlqzGk0uq3JdkfpKWZg',\n  '60f2cad9-7572-492a-b25e-367b0cb7e704',\n  1,\n  '1360564381',\n  datetime.date(2018, 6, 13)),\n ('8MCosUQMik2Muvd-MU0lew',\n  'campaign2',\n  datetime.datetime(2018, 6, 13, 0, 1, 3, 894000),\n  'LI7IlqzGk0uq3JdkfpKWZg',\n  '450683da-5fe5-4c79-8984-1e59f2269e85',\n  1,\n  '536133847',\n  datetime.date(2018, 6, 13))]"
     },
     "execution_count": 32,
     "metadata": {},
     "output_type": "execute_result"
    }
   ],
   "source": [
    "cursor.execute(\"select * from attribution limit 2\")\n",
    "cursor.fetchall()"
   ],
   "metadata": {
    "collapsed": false,
    "pycharm": {
     "name": "#%%\n"
    }
   }
  },
  {
   "cell_type": "code",
   "execution_count": null,
   "outputs": [],
   "source": [],
   "metadata": {
    "collapsed": false,
    "pycharm": {
     "name": "#%%\n"
    }
   }
  }
 ],
 "metadata": {
  "kernelspec": {
   "display_name": "Python 3",
   "language": "python",
   "name": "python3"
  },
  "language_info": {
   "codemirror_mode": {
    "name": "ipython",
    "version": 2
   },
   "file_extension": ".py",
   "mimetype": "text/x-python",
   "name": "python",
   "nbconvert_exporter": "python",
   "pygments_lexer": "ipython2",
   "version": "2.7.6"
  }
 },
 "nbformat": 4,
 "nbformat_minor": 0
}