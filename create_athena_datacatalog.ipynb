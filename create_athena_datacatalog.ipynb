{
 "cells": [
  {
   "cell_type": "code",
   "execution_count": 160,
   "outputs": [],
   "source": [
    "import boto3\n",
    "import pandas as pd\n",
    "import pyarrow as pa\n",
    "import pyarrow.parquet as pq\n",
    "from decimal import Decimal\n",
    "from s3fs import S3FileSystem\n",
    "from datetime import datetime\n",
    "from dotenv import load_dotenv"
   ],
   "metadata": {
    "collapsed": false,
    "pycharm": {
     "name": "#%%\n"
    }
   }
  },
  {
   "cell_type": "code",
   "execution_count": 161,
   "outputs": [
    {
     "data": {
      "text/plain": "True"
     },
     "execution_count": 161,
     "metadata": {},
     "output_type": "execute_result"
    }
   ],
   "source": [
    "load_dotenv()"
   ],
   "metadata": {
    "collapsed": false,
    "pycharm": {
     "name": "#%%\n"
    }
   }
  },
  {
   "cell_type": "markdown",
   "source": [
    "\n",
    "# 1. Create Bucket"
   ],
   "metadata": {
    "collapsed": false,
    "pycharm": {
     "name": "#%% md\n"
    }
   }
  },
  {
   "cell_type": "code",
   "execution_count": 46,
   "outputs": [],
   "source": [
    "session = boto3.Session(profile_name=\"mentha\")\n",
    "s3_client = session.client(\"s3\")"
   ],
   "metadata": {
    "collapsed": false,
    "pycharm": {
     "name": "#%%\n"
    }
   }
  },
  {
   "cell_type": "markdown",
   "source": [],
   "metadata": {
    "collapsed": false,
    "pycharm": {
     "name": "#%% md\n"
    }
   }
  },
  {
   "cell_type": "code",
   "execution_count": 47,
   "outputs": [
    {
     "data": {
      "text/plain": "[{'Name': 'aws-glue-assets-305045122135-ap-northeast-2',\n  'CreationDate': datetime.datetime(2022, 5, 19, 14, 23, 19, tzinfo=tzutc())},\n {'Name': 'mentha-athena-datastore',\n  'CreationDate': datetime.datetime(2022, 10, 2, 5, 52, 13, tzinfo=tzutc())},\n {'Name': 'mentha-athena-query-result',\n  'CreationDate': datetime.datetime(2022, 5, 22, 4, 57, 56, tzinfo=tzutc())},\n {'Name': 'mentha-sample-datastore',\n  'CreationDate': datetime.datetime(2022, 5, 22, 5, 40, 57, tzinfo=tzutc())}]"
     },
     "execution_count": 47,
     "metadata": {},
     "output_type": "execute_result"
    }
   ],
   "source": [
    "# s3_client.list_buckets()[\"Buckets\"]\n",
    "\n",
    "# s3_client.create_bucket(Bucket=\"mentha-athena-datastore\",\n",
    "#                         ACL=\"public-read\",\n",
    "#                         CreateBucketConfiguration={\n",
    "#                             \"LocationConstraint\": \"ap-northeast-2\"\n",
    "#                         }\n",
    "# )\n",
    "\n",
    "s3_client.list_buckets()[\"Buckets\"]"
   ],
   "metadata": {
    "collapsed": false,
    "pycharm": {
     "name": "#%%\n"
    }
   }
  },
  {
   "cell_type": "markdown",
   "source": [
    "# 2. Convert csv(local) to parquet(s3)"
   ],
   "metadata": {
    "collapsed": false,
    "pycharm": {
     "name": "#%% md\n"
    }
   }
  },
  {
   "cell_type": "markdown",
   "source": [
    "## 2.1. Read csv"
   ],
   "metadata": {
    "collapsed": false,
    "pycharm": {
     "name": "#%% md\n"
    }
   }
  },
  {
   "cell_type": "code",
   "execution_count": 78,
   "outputs": [],
   "source": [
    "def decimal_from_value(value):\n",
    "    if value == \"null\":\n",
    "        return pd.NA\n",
    "    else:\n",
    "        return Decimal(value)\n",
    "\n",
    "event_metadata = {\n",
    "    \"column_list\": [\"identity_adid\", \"os\", \"model\", \"country\", \"event_name\", \"log_id\", \"server_datetime\", \"quantity\", \"price\"],\n",
    "    \"dtype_dict\": {\n",
    "        \"identity_adid\": \"str\",\n",
    "        \"os\": \"str\",\n",
    "        \"model\": \"str\",\n",
    "        \"country\": \"str\",\n",
    "        \"event_name\": \"str\",\n",
    "        \"log_id\": \"str\",\n",
    "        \"quantity\": \"Int64\",\n",
    "        \"server_datetime\": \"str\"\n",
    "    },\n",
    "    \"convert_dict\": {\n",
    "        \"price\": decimal_from_value\n",
    "    },\n",
    "}\n",
    "\n",
    "attribution_metadata = {\n",
    "    \"column_list\": [\"partner\", \"campaign\", \"server_datetime\", \"tracker_id\", \"log_id\", \"attribution_type\", \"identity_adid\"],\n",
    "    \"dtype_dict\": {\n",
    "        \"partner\": \"str\",\n",
    "        \"campaign\": \"str\",\n",
    "        \"tracker_id\": \"str\",\n",
    "        \"log_id\": \"str\",\n",
    "        \"attribution_type\": \"Int64\",\n",
    "        \"identity_adid\": \"str\",\n",
    "        \"server_datetime\": \"str\"\n",
    "    }\n",
    "}"
   ],
   "metadata": {
    "collapsed": false,
    "pycharm": {
     "name": "#%%\n"
    }
   }
  },
  {
   "cell_type": "code",
   "execution_count": 79,
   "outputs": [],
   "source": [
    "df_event = pd.read_csv(\"data/event.csv\",\n",
    "                       names=event_metadata[\"column_list\"],\n",
    "                       dtype=event_metadata[\"dtype_dict\"],\n",
    "                       converters=event_metadata[\"convert_dict\"]\n",
    ")"
   ],
   "metadata": {
    "collapsed": false,
    "pycharm": {
     "name": "#%%\n"
    }
   }
  },
  {
   "cell_type": "code",
   "execution_count": 6,
   "outputs": [],
   "source": [
    "df_attribution = pd.read_csv(\"data/attribution.csv\",\n",
    "                             names=attribution_metadata[\"column_list\"],\n",
    "                             dtype=attribution_metadata[\"dtype_dict\"],\n",
    ")"
   ],
   "metadata": {
    "collapsed": false,
    "pycharm": {
     "name": "#%%\n"
    }
   }
  },
  {
   "cell_type": "markdown",
   "source": [
    "### server_datetime 에러 케이스 확인\n",
    "- event 테이블에서 \"0001-01-01 00:00:00.0\"인 경우 Null로 대체하자"
   ],
   "metadata": {
    "collapsed": false,
    "pycharm": {
     "name": "#%% md\n"
    }
   }
  },
  {
   "cell_type": "code",
   "execution_count": 80,
   "outputs": [],
   "source": [
    "df_event[\"server_datetime\"] = pd.to_datetime(df_event[\"server_datetime\"], errors = \"coerce\")\n",
    "df_attribution[\"server_datetime\"] = pd.to_datetime(df_attribution[\"server_datetime\"], errors = \"coerce\")"
   ],
   "metadata": {
    "collapsed": false,
    "pycharm": {
     "name": "#%%\n"
    }
   }
  },
  {
   "cell_type": "code",
   "execution_count": 81,
   "outputs": [
    {
     "data": {
      "text/plain": "         identity_adid   os model country         event_name  \\\n0            984549936  8.9   8.9      jp          abx:login   \n1            885033552  8.9   8.9      gb          abx:login   \n2            768602461  7.1   7.1      ge      abx:firstopen   \n3           1666798466  3.4   3.4      gb    abx:end_session   \n4            683694696  7.1   7.1      kr  abx:start_session   \n...                ...  ...   ...     ...                ...   \n17966161    1749474380  3.4   3.4      kr    abx:end_session   \n17966162    1726546019  3.4   3.4      jp      abx:firstopen   \n17966163    1907229027  3.4   3.4      kr      custom:battle   \n17966164    1207201212  8.9   8.9      kr      abx:firstopen   \n17966165    1762544899  3.4   3.4      jp          abx:login   \n\n                                        log_id         server_datetime  \\\n0         c21efdb8-b6e5-4ccc-a474-aff72a62c248 2018-05-18 12:23:15.303   \n1         b4470f3b-4bb9-43ef-9248-25b503fa5660 2018-05-18 12:32:46.395   \n2         372dfecc-a27f-4a16-8e31-eccf34b8855f 2018-05-18 12:34:55.196   \n3         08730bdc-2895-4061-8399-f45df94d3fd0 2018-05-18 12:30:23.945   \n4         a9556df7-f6ee-4600-af5b-89a44f18673c 2018-05-18 12:31:14.824   \n...                                        ...                     ...   \n17966161  cffc81ac-79e7-430d-978b-6502f065e312 2018-06-10 13:26:22.264   \n17966162  fff04bbd-31b7-4211-bcb8-d7a1a5453d0f 2018-06-10 13:28:15.121   \n17966163  08f6b396-f171-43d9-9193-5d0d6ee584c9 2018-06-10 12:55:55.752   \n17966164  dd3bc02f-3e24-440a-97b3-7936c74f0786 2018-06-10 12:56:49.561   \n17966165  b76131ee-6d60-4fbd-b208-c3efb6532559 2018-06-10 12:58:07.376   \n\n          quantity price  \n0             <NA>  <NA>  \n1             <NA>  <NA>  \n2             <NA>  <NA>  \n3             <NA>  <NA>  \n4             <NA>  <NA>  \n...            ...   ...  \n17966161      <NA>  <NA>  \n17966162      <NA>  <NA>  \n17966163      <NA>  <NA>  \n17966164      <NA>  <NA>  \n17966165      <NA>  <NA>  \n\n[17966166 rows x 9 columns]",
      "text/html": "<div>\n<style scoped>\n    .dataframe tbody tr th:only-of-type {\n        vertical-align: middle;\n    }\n\n    .dataframe tbody tr th {\n        vertical-align: top;\n    }\n\n    .dataframe thead th {\n        text-align: right;\n    }\n</style>\n<table border=\"1\" class=\"dataframe\">\n  <thead>\n    <tr style=\"text-align: right;\">\n      <th></th>\n      <th>identity_adid</th>\n      <th>os</th>\n      <th>model</th>\n      <th>country</th>\n      <th>event_name</th>\n      <th>log_id</th>\n      <th>server_datetime</th>\n      <th>quantity</th>\n      <th>price</th>\n    </tr>\n  </thead>\n  <tbody>\n    <tr>\n      <th>0</th>\n      <td>984549936</td>\n      <td>8.9</td>\n      <td>8.9</td>\n      <td>jp</td>\n      <td>abx:login</td>\n      <td>c21efdb8-b6e5-4ccc-a474-aff72a62c248</td>\n      <td>2018-05-18 12:23:15.303</td>\n      <td>&lt;NA&gt;</td>\n      <td>&lt;NA&gt;</td>\n    </tr>\n    <tr>\n      <th>1</th>\n      <td>885033552</td>\n      <td>8.9</td>\n      <td>8.9</td>\n      <td>gb</td>\n      <td>abx:login</td>\n      <td>b4470f3b-4bb9-43ef-9248-25b503fa5660</td>\n      <td>2018-05-18 12:32:46.395</td>\n      <td>&lt;NA&gt;</td>\n      <td>&lt;NA&gt;</td>\n    </tr>\n    <tr>\n      <th>2</th>\n      <td>768602461</td>\n      <td>7.1</td>\n      <td>7.1</td>\n      <td>ge</td>\n      <td>abx:firstopen</td>\n      <td>372dfecc-a27f-4a16-8e31-eccf34b8855f</td>\n      <td>2018-05-18 12:34:55.196</td>\n      <td>&lt;NA&gt;</td>\n      <td>&lt;NA&gt;</td>\n    </tr>\n    <tr>\n      <th>3</th>\n      <td>1666798466</td>\n      <td>3.4</td>\n      <td>3.4</td>\n      <td>gb</td>\n      <td>abx:end_session</td>\n      <td>08730bdc-2895-4061-8399-f45df94d3fd0</td>\n      <td>2018-05-18 12:30:23.945</td>\n      <td>&lt;NA&gt;</td>\n      <td>&lt;NA&gt;</td>\n    </tr>\n    <tr>\n      <th>4</th>\n      <td>683694696</td>\n      <td>7.1</td>\n      <td>7.1</td>\n      <td>kr</td>\n      <td>abx:start_session</td>\n      <td>a9556df7-f6ee-4600-af5b-89a44f18673c</td>\n      <td>2018-05-18 12:31:14.824</td>\n      <td>&lt;NA&gt;</td>\n      <td>&lt;NA&gt;</td>\n    </tr>\n    <tr>\n      <th>...</th>\n      <td>...</td>\n      <td>...</td>\n      <td>...</td>\n      <td>...</td>\n      <td>...</td>\n      <td>...</td>\n      <td>...</td>\n      <td>...</td>\n      <td>...</td>\n    </tr>\n    <tr>\n      <th>17966161</th>\n      <td>1749474380</td>\n      <td>3.4</td>\n      <td>3.4</td>\n      <td>kr</td>\n      <td>abx:end_session</td>\n      <td>cffc81ac-79e7-430d-978b-6502f065e312</td>\n      <td>2018-06-10 13:26:22.264</td>\n      <td>&lt;NA&gt;</td>\n      <td>&lt;NA&gt;</td>\n    </tr>\n    <tr>\n      <th>17966162</th>\n      <td>1726546019</td>\n      <td>3.4</td>\n      <td>3.4</td>\n      <td>jp</td>\n      <td>abx:firstopen</td>\n      <td>fff04bbd-31b7-4211-bcb8-d7a1a5453d0f</td>\n      <td>2018-06-10 13:28:15.121</td>\n      <td>&lt;NA&gt;</td>\n      <td>&lt;NA&gt;</td>\n    </tr>\n    <tr>\n      <th>17966163</th>\n      <td>1907229027</td>\n      <td>3.4</td>\n      <td>3.4</td>\n      <td>kr</td>\n      <td>custom:battle</td>\n      <td>08f6b396-f171-43d9-9193-5d0d6ee584c9</td>\n      <td>2018-06-10 12:55:55.752</td>\n      <td>&lt;NA&gt;</td>\n      <td>&lt;NA&gt;</td>\n    </tr>\n    <tr>\n      <th>17966164</th>\n      <td>1207201212</td>\n      <td>8.9</td>\n      <td>8.9</td>\n      <td>kr</td>\n      <td>abx:firstopen</td>\n      <td>dd3bc02f-3e24-440a-97b3-7936c74f0786</td>\n      <td>2018-06-10 12:56:49.561</td>\n      <td>&lt;NA&gt;</td>\n      <td>&lt;NA&gt;</td>\n    </tr>\n    <tr>\n      <th>17966165</th>\n      <td>1762544899</td>\n      <td>3.4</td>\n      <td>3.4</td>\n      <td>jp</td>\n      <td>abx:login</td>\n      <td>b76131ee-6d60-4fbd-b208-c3efb6532559</td>\n      <td>2018-06-10 12:58:07.376</td>\n      <td>&lt;NA&gt;</td>\n      <td>&lt;NA&gt;</td>\n    </tr>\n  </tbody>\n</table>\n<p>17966166 rows × 9 columns</p>\n</div>"
     },
     "execution_count": 81,
     "metadata": {},
     "output_type": "execute_result"
    }
   ],
   "source": [
    "df_event"
   ],
   "metadata": {
    "collapsed": false,
    "pycharm": {
     "name": "#%%\n"
    }
   }
  },
  {
   "cell_type": "code",
   "execution_count": 82,
   "outputs": [
    {
     "name": "stdout",
     "output_type": "stream",
     "text": [
      "<class 'pandas.core.frame.DataFrame'>\n",
      "RangeIndex: 17966166 entries, 0 to 17966165\n",
      "Data columns (total 9 columns):\n",
      " #   Column           Dtype         \n",
      "---  ------           -----         \n",
      " 0   identity_adid    object        \n",
      " 1   os               object        \n",
      " 2   model            object        \n",
      " 3   country          object        \n",
      " 4   event_name       object        \n",
      " 5   log_id           object        \n",
      " 6   server_datetime  datetime64[ns]\n",
      " 7   quantity         Int64         \n",
      " 8   price            object        \n",
      "dtypes: Int64(1), datetime64[ns](1), object(7)\n",
      "memory usage: 1.2+ GB\n"
     ]
    }
   ],
   "source": [
    "df_event.info()"
   ],
   "metadata": {
    "collapsed": false,
    "pycharm": {
     "name": "#%%\n"
    }
   }
  },
  {
   "cell_type": "code",
   "execution_count": 13,
   "outputs": [
    {
     "data": {
      "text/plain": "  identity_adid   os model country         event_name  \\\n0     984549936  8.9   8.9      jp          abx:login   \n1     885033552  8.9   8.9      gb          abx:login   \n2     768602461  7.1   7.1      ge      abx:firstopen   \n3    1666798466  3.4   3.4      gb    abx:end_session   \n4     683694696  7.1   7.1      kr  abx:start_session   \n\n                                 log_id         server_datetime  quantity  \\\n0  c21efdb8-b6e5-4ccc-a474-aff72a62c248 2018-05-18 12:23:15.303      <NA>   \n1  b4470f3b-4bb9-43ef-9248-25b503fa5660 2018-05-18 12:32:46.395      <NA>   \n2  372dfecc-a27f-4a16-8e31-eccf34b8855f 2018-05-18 12:34:55.196      <NA>   \n3  08730bdc-2895-4061-8399-f45df94d3fd0 2018-05-18 12:30:23.945      <NA>   \n4  a9556df7-f6ee-4600-af5b-89a44f18673c 2018-05-18 12:31:14.824      <NA>   \n\n  price  \n0   NaN  \n1   NaN  \n2   NaN  \n3   NaN  \n4   NaN  ",
      "text/html": "<div>\n<style scoped>\n    .dataframe tbody tr th:only-of-type {\n        vertical-align: middle;\n    }\n\n    .dataframe tbody tr th {\n        vertical-align: top;\n    }\n\n    .dataframe thead th {\n        text-align: right;\n    }\n</style>\n<table border=\"1\" class=\"dataframe\">\n  <thead>\n    <tr style=\"text-align: right;\">\n      <th></th>\n      <th>identity_adid</th>\n      <th>os</th>\n      <th>model</th>\n      <th>country</th>\n      <th>event_name</th>\n      <th>log_id</th>\n      <th>server_datetime</th>\n      <th>quantity</th>\n      <th>price</th>\n    </tr>\n  </thead>\n  <tbody>\n    <tr>\n      <th>0</th>\n      <td>984549936</td>\n      <td>8.9</td>\n      <td>8.9</td>\n      <td>jp</td>\n      <td>abx:login</td>\n      <td>c21efdb8-b6e5-4ccc-a474-aff72a62c248</td>\n      <td>2018-05-18 12:23:15.303</td>\n      <td>&lt;NA&gt;</td>\n      <td>NaN</td>\n    </tr>\n    <tr>\n      <th>1</th>\n      <td>885033552</td>\n      <td>8.9</td>\n      <td>8.9</td>\n      <td>gb</td>\n      <td>abx:login</td>\n      <td>b4470f3b-4bb9-43ef-9248-25b503fa5660</td>\n      <td>2018-05-18 12:32:46.395</td>\n      <td>&lt;NA&gt;</td>\n      <td>NaN</td>\n    </tr>\n    <tr>\n      <th>2</th>\n      <td>768602461</td>\n      <td>7.1</td>\n      <td>7.1</td>\n      <td>ge</td>\n      <td>abx:firstopen</td>\n      <td>372dfecc-a27f-4a16-8e31-eccf34b8855f</td>\n      <td>2018-05-18 12:34:55.196</td>\n      <td>&lt;NA&gt;</td>\n      <td>NaN</td>\n    </tr>\n    <tr>\n      <th>3</th>\n      <td>1666798466</td>\n      <td>3.4</td>\n      <td>3.4</td>\n      <td>gb</td>\n      <td>abx:end_session</td>\n      <td>08730bdc-2895-4061-8399-f45df94d3fd0</td>\n      <td>2018-05-18 12:30:23.945</td>\n      <td>&lt;NA&gt;</td>\n      <td>NaN</td>\n    </tr>\n    <tr>\n      <th>4</th>\n      <td>683694696</td>\n      <td>7.1</td>\n      <td>7.1</td>\n      <td>kr</td>\n      <td>abx:start_session</td>\n      <td>a9556df7-f6ee-4600-af5b-89a44f18673c</td>\n      <td>2018-05-18 12:31:14.824</td>\n      <td>&lt;NA&gt;</td>\n      <td>NaN</td>\n    </tr>\n  </tbody>\n</table>\n</div>"
     },
     "execution_count": 13,
     "metadata": {},
     "output_type": "execute_result"
    }
   ],
   "source": [
    "df_event.head(5)"
   ],
   "metadata": {
    "collapsed": false,
    "pycharm": {
     "name": "#%%\n"
    }
   }
  },
  {
   "cell_type": "code",
   "execution_count": 15,
   "outputs": [
    {
     "name": "stdout",
     "output_type": "stream",
     "text": [
      "<class 'pandas.core.frame.DataFrame'>\n",
      "RangeIndex: 3760185 entries, 0 to 3760184\n",
      "Data columns (total 7 columns):\n",
      " #   Column            Dtype         \n",
      "---  ------            -----         \n",
      " 0   partner           object        \n",
      " 1   campaign          object        \n",
      " 2   server_datetime   datetime64[ns]\n",
      " 3   tracker_id        object        \n",
      " 4   log_id            object        \n",
      " 5   attribution_type  Int64         \n",
      " 6   identity_adid     object        \n",
      "dtypes: Int64(1), datetime64[ns](1), object(5)\n",
      "memory usage: 204.4+ MB\n"
     ]
    }
   ],
   "source": [
    "df_attribution.info()"
   ],
   "metadata": {
    "collapsed": false,
    "pycharm": {
     "name": "#%%\n"
    }
   }
  },
  {
   "cell_type": "code",
   "execution_count": 16,
   "outputs": [
    {
     "data": {
      "text/plain": "  partner campaign         server_datetime tracker_id  \\\n0     NaN      NaN 2018-05-03 07:19:24.813        NaN   \n1     NaN      NaN 2018-05-03 10:25:11.034        NaN   \n2     NaN      NaN 2018-05-03 10:26:08.081        NaN   \n3     NaN      NaN 2018-05-03 22:38:15.378        NaN   \n4     NaN      NaN 2018-05-03 04:14:55.453        NaN   \n\n                                 log_id  attribution_type identity_adid  \n0  bdb8fc95-4f66-4d1d-8186-d10e86fe6433                 0     764796223  \n1  67c41325-a700-4f98-ad72-108025e9af8d                 0    2126194985  \n2  0e41af66-3f17-4bde-91db-806296209ad1                 0     738518810  \n3  a5f7ed1f-5d4e-4adf-96ce-e94f6820c2c2                 0     595719449  \n4  1e1aae33-282d-4dc2-9267-22fbd4ee2798                 0     302402748  ",
      "text/html": "<div>\n<style scoped>\n    .dataframe tbody tr th:only-of-type {\n        vertical-align: middle;\n    }\n\n    .dataframe tbody tr th {\n        vertical-align: top;\n    }\n\n    .dataframe thead th {\n        text-align: right;\n    }\n</style>\n<table border=\"1\" class=\"dataframe\">\n  <thead>\n    <tr style=\"text-align: right;\">\n      <th></th>\n      <th>partner</th>\n      <th>campaign</th>\n      <th>server_datetime</th>\n      <th>tracker_id</th>\n      <th>log_id</th>\n      <th>attribution_type</th>\n      <th>identity_adid</th>\n    </tr>\n  </thead>\n  <tbody>\n    <tr>\n      <th>0</th>\n      <td>NaN</td>\n      <td>NaN</td>\n      <td>2018-05-03 07:19:24.813</td>\n      <td>NaN</td>\n      <td>bdb8fc95-4f66-4d1d-8186-d10e86fe6433</td>\n      <td>0</td>\n      <td>764796223</td>\n    </tr>\n    <tr>\n      <th>1</th>\n      <td>NaN</td>\n      <td>NaN</td>\n      <td>2018-05-03 10:25:11.034</td>\n      <td>NaN</td>\n      <td>67c41325-a700-4f98-ad72-108025e9af8d</td>\n      <td>0</td>\n      <td>2126194985</td>\n    </tr>\n    <tr>\n      <th>2</th>\n      <td>NaN</td>\n      <td>NaN</td>\n      <td>2018-05-03 10:26:08.081</td>\n      <td>NaN</td>\n      <td>0e41af66-3f17-4bde-91db-806296209ad1</td>\n      <td>0</td>\n      <td>738518810</td>\n    </tr>\n    <tr>\n      <th>3</th>\n      <td>NaN</td>\n      <td>NaN</td>\n      <td>2018-05-03 22:38:15.378</td>\n      <td>NaN</td>\n      <td>a5f7ed1f-5d4e-4adf-96ce-e94f6820c2c2</td>\n      <td>0</td>\n      <td>595719449</td>\n    </tr>\n    <tr>\n      <th>4</th>\n      <td>NaN</td>\n      <td>NaN</td>\n      <td>2018-05-03 04:14:55.453</td>\n      <td>NaN</td>\n      <td>1e1aae33-282d-4dc2-9267-22fbd4ee2798</td>\n      <td>0</td>\n      <td>302402748</td>\n    </tr>\n  </tbody>\n</table>\n</div>"
     },
     "execution_count": 16,
     "metadata": {},
     "output_type": "execute_result"
    }
   ],
   "source": [
    "df_attribution.head(5)"
   ],
   "metadata": {
    "collapsed": false,
    "pycharm": {
     "name": "#%%\n"
    }
   }
  },
  {
   "cell_type": "markdown",
   "source": [
    "## 2.2. Convert csv to parquet"
   ],
   "metadata": {
    "collapsed": false,
    "pycharm": {
     "name": "#%% md\n"
    }
   }
  },
  {
   "cell_type": "code",
   "execution_count": 83,
   "outputs": [],
   "source": [
    "event_table = pa.Table.from_pandas(df_event)\n",
    "attribution_table = pa.Table.from_pandas(df_attribution)\n",
    "event_output_path = \"s3://mentha-athena-datastore/sample/event\"\n",
    "attribution_output_path = \"s3://mentha-athena-datastore/sample/attribution\""
   ],
   "metadata": {
    "collapsed": false,
    "pycharm": {
     "name": "#%%\n"
    }
   }
  },
  {
   "cell_type": "markdown",
   "source": [],
   "metadata": {
    "collapsed": false,
    "pycharm": {
     "name": "#%% md\n"
    }
   }
  },
  {
   "cell_type": "code",
   "execution_count": 84,
   "outputs": [],
   "source": [
    "pq.write_table(event_table, \"data/event.parquet\")\n",
    "pq.write_table(attribution_table, \"data/attribution.parquet\")\n",
    "# # https://arrow.apache.org/docs/python/generated/pyarrow.parquet.read_metadata.html"
   ],
   "metadata": {
    "collapsed": false,
    "pycharm": {
     "name": "#%%\n"
    }
   }
  },
  {
   "cell_type": "code",
   "execution_count": 67,
   "outputs": [],
   "source": [
    "# pq.read_metadata(\"data/event.parquet\")\n",
    "# read_event_schema = pq.read_schema(\"data/event.parquet\")\n",
    "# read_event_schema"
   ],
   "metadata": {
    "collapsed": false,
    "pycharm": {
     "name": "#%%\n"
    }
   }
  },
  {
   "cell_type": "markdown",
   "source": [
    "## 2.3. Upload parquet files to S3"
   ],
   "metadata": {
    "collapsed": false,
    "pycharm": {
     "name": "#%% md\n"
    }
   }
  },
  {
   "cell_type": "code",
   "execution_count": 85,
   "outputs": [],
   "source": [
    "s3_client.upload_file(Filename=\"data/event.parquet\",\n",
    "                      Bucket=\"mentha-athena-datastore\",\n",
    "                      Key=\"sample/event/event.parquet\"\n",
    ")"
   ],
   "metadata": {
    "collapsed": false,
    "pycharm": {
     "name": "#%%\n"
    }
   }
  },
  {
   "cell_type": "code",
   "execution_count": 72,
   "outputs": [],
   "source": [
    "s3_client.upload_file(Filename=\"data/attribution.parquet\",\n",
    "                      Bucket=\"mentha-athena-datastore\",\n",
    "                      Key=\"sample/attribution/attribution.parquet\"\n",
    ")"
   ],
   "metadata": {
    "collapsed": false,
    "pycharm": {
     "name": "#%%\n"
    }
   }
  },
  {
   "cell_type": "code",
   "execution_count": 64,
   "outputs": [],
   "source": [
    "# s3 = S3FileSystem()\n",
    "# pq.write_to_dataset(event_table, root_path=event_output_path, filesystem=s3)\n",
    "# pq.write_to_dataset(attribution_table, root_path=attribution_output_path, filesystem=s3)"
   ],
   "metadata": {
    "collapsed": false,
    "pycharm": {
     "name": "#%%\n"
    }
   }
  },
  {
   "cell_type": "markdown",
   "source": [
    "# 3. Athena"
   ],
   "metadata": {
    "collapsed": false,
    "pycharm": {
     "name": "#%% md\n"
    }
   }
  },
  {
   "cell_type": "markdown",
   "source": [
    "## 3.1. Create Athena tables"
   ],
   "metadata": {
    "collapsed": false,
    "pycharm": {
     "name": "#%% md\n"
    }
   }
  },
  {
   "cell_type": "code",
   "execution_count": 179,
   "outputs": [],
   "source": [
    "from pyathena import connect"
   ],
   "metadata": {
    "collapsed": false,
    "pycharm": {
     "name": "#%%\n"
    }
   }
  },
  {
   "cell_type": "code",
   "execution_count": 208,
   "outputs": [],
   "source": [
    "cursor = connect(s3_staging_dir=\"s3://mentha-athena-query-result/sample\",\n",
    "                 region_name=\"ap-northeast-2\",\n",
    "                 schema_name=\"data_store\"\n",
    ").cursor()"
   ],
   "metadata": {
    "collapsed": false,
    "pycharm": {
     "name": "#%%\n"
    }
   }
  },
  {
   "cell_type": "code",
   "execution_count": 209,
   "outputs": [],
   "source": [
    "create_event_table = \"\"\"\n",
    "CREATE EXTERNAL TABLE IF NOT EXISTS `data_store`.`event` (\n",
    "  `identity_adid` string,\n",
    "  `os` string,\n",
    "  `model` string,\n",
    "  `country` string,\n",
    "  `event_name` string,\n",
    "  `log_id` string,\n",
    "  `server_datetime` timestamp,\n",
    "  `quantity` int,\n",
    "  `price` decimal(10, 1)\n",
    ")\n",
    "ROW FORMAT SERDE 'org.apache.hadoop.hive.ql.io.parquet.serde.ParquetHiveSerDe'\n",
    "WITH SERDEPROPERTIES ('serialization.format' = '1')\n",
    "LOCATION 's3://mentha-athena-datastore/sample/event/'\n",
    "TBLPROPERTIES ('has_encrypted_data' = 'false');\n",
    "\"\"\""
   ],
   "metadata": {
    "collapsed": false,
    "pycharm": {
     "name": "#%%\n"
    }
   }
  },
  {
   "cell_type": "code",
   "execution_count": 210,
   "outputs": [],
   "source": [
    "create_attribution_table = \"\"\"\n",
    "CREATE EXTERNAL TABLE IF NOT EXISTS `data_store`.`attribution` (\n",
    "  `partner` string,\n",
    "  `campaign` string,\n",
    "  `server_datetime` timestamp,\n",
    "  `tracker_id` string,\n",
    "  `log_id` string,\n",
    "  `attribution_type` int,\n",
    "  `identity_adid` string\n",
    ")\n",
    "ROW FORMAT SERDE 'org.apache.hadoop.hive.ql.io.parquet.serde.ParquetHiveSerDe'\n",
    "WITH SERDEPROPERTIES ('serialization.format' = '1')\n",
    "LOCATION 's3://mentha-athena-datastore/sample/attribution/'\n",
    "TBLPROPERTIES ('has_encrypted_data' = 'false');\n",
    "\"\"\""
   ],
   "metadata": {
    "collapsed": false,
    "pycharm": {
     "name": "#%%\n"
    }
   }
  },
  {
   "cell_type": "code",
   "execution_count": 211,
   "outputs": [
    {
     "data": {
      "text/plain": "<pyathena.cursor.Cursor at 0x7f8fd96fd370>"
     },
     "execution_count": 211,
     "metadata": {},
     "output_type": "execute_result"
    }
   ],
   "source": [
    "cursor.execute(create_event_table)\n",
    "cursor.execute(create_attribution_table)"
   ],
   "metadata": {
    "collapsed": false,
    "pycharm": {
     "name": "#%%\n"
    }
   }
  },
  {
   "cell_type": "code",
   "execution_count": 212,
   "outputs": [
    {
     "data": {
      "text/plain": "[('attribution',), ('event',), ('timestamp_error',), ('whether',)]"
     },
     "execution_count": 212,
     "metadata": {},
     "output_type": "execute_result"
    }
   ],
   "source": [
    "cursor.execute(\"show tables\")\n",
    "cursor.fetchall()"
   ],
   "metadata": {
    "collapsed": false,
    "pycharm": {
     "name": "#%%\n"
    }
   }
  },
  {
   "cell_type": "code",
   "execution_count": 213,
   "outputs": [
    {
     "data": {
      "text/plain": "<pyathena.cursor.Cursor at 0x7f8fd96fd370>"
     },
     "execution_count": 213,
     "metadata": {},
     "output_type": "execute_result"
    }
   ],
   "source": [
    "cursor.execute(\"select * from event limit 10\")"
   ],
   "metadata": {
    "collapsed": false,
    "pycharm": {
     "name": "#%%\n"
    }
   }
  },
  {
   "cell_type": "code",
   "execution_count": 214,
   "outputs": [
    {
     "data": {
      "text/plain": "[('984549936',\n  '8.9',\n  '8.9',\n  'jp',\n  'abx:login',\n  'c21efdb8-b6e5-4ccc-a474-aff72a62c248',\n  datetime.datetime(2018, 5, 18, 12, 23, 15, 303000),\n  None,\n  None),\n ('885033552',\n  '8.9',\n  '8.9',\n  'gb',\n  'abx:login',\n  'b4470f3b-4bb9-43ef-9248-25b503fa5660',\n  datetime.datetime(2018, 5, 18, 12, 32, 46, 395000),\n  None,\n  None),\n ('768602461',\n  '7.1',\n  '7.1',\n  'ge',\n  'abx:firstopen',\n  '372dfecc-a27f-4a16-8e31-eccf34b8855f',\n  datetime.datetime(2018, 5, 18, 12, 34, 55, 196000),\n  None,\n  None),\n ('1666798466',\n  '3.4',\n  '3.4',\n  'gb',\n  'abx:end_session',\n  '08730bdc-2895-4061-8399-f45df94d3fd0',\n  datetime.datetime(2018, 5, 18, 12, 30, 23, 945000),\n  None,\n  None),\n ('683694696',\n  '7.1',\n  '7.1',\n  'kr',\n  'abx:start_session',\n  'a9556df7-f6ee-4600-af5b-89a44f18673c',\n  datetime.datetime(2018, 5, 18, 12, 31, 14, 824000),\n  None,\n  None),\n ('1913817773',\n  '3.4',\n  '3.4',\n  'kr',\n  'custom:battle',\n  '2e223c51-d516-4c8d-b9b5-2f6dbbf5ed86',\n  datetime.datetime(2018, 5, 18, 12, 8, 32, 854000),\n  None,\n  None),\n ('1822718134',\n  '3.4',\n  '3.4',\n  'us',\n  'abx:end_session',\n  'bb18b3fe-fcfb-4bc3-ab9c-0b2999fee322',\n  datetime.datetime(2018, 5, 18, 12, 10, 20, 849000),\n  None,\n  None),\n ('352349900',\n  '6.0',\n  '6.0',\n  'gb',\n  'abx:purchase',\n  '1d934b94-7149-46f4-94d0-d039f5da7433',\n  datetime.datetime(2018, 5, 18, 12, 11, 56, 27000),\n  1,\n  Decimal('2000.0')),\n ('2035367638',\n  '5.5',\n  '5.5',\n  'kr',\n  'abx:end_session',\n  '0e6df7c2-59f0-4c9c-bf4c-ef07c39946bc',\n  datetime.datetime(2018, 5, 18, 12, 18, 41, 172000),\n  None,\n  None),\n ('1015144038',\n  '8.9',\n  '8.9',\n  'gb',\n  'abx:end_session',\n  '2ebaa1d1-90e9-4b30-bf37-a598be755b69',\n  datetime.datetime(2018, 5, 18, 12, 21, 16, 170000),\n  None,\n  None)]"
     },
     "execution_count": 214,
     "metadata": {},
     "output_type": "execute_result"
    }
   ],
   "source": [
    "cursor.fetchall()"
   ],
   "metadata": {
    "collapsed": false,
    "pycharm": {
     "name": "#%%\n"
    }
   }
  },
  {
   "cell_type": "code",
   "execution_count": 88,
   "outputs": [],
   "source": [
    "# session = boto3.Session(profile_name=\"mentha\")\n",
    "# athena_client = session.client(\"athena\")\n",
    "# athena_client.list_data_catalogs()\n",
    "# athena_client.list_databases(CatalogName=\"AwsDataCatalog\")\n",
    "# athena_client.list_work_groups()\n",
    "# exec = athena_client.start_query_execution(QueryString=\"select * from event limit 10\",\n",
    "#                                            QueryExecutionContext={\n",
    "#                                                \"Database\": \"data_store\"\n",
    "#                                            },\n",
    "#                                            ResultConfiguration={\n",
    "#                                                \"OutputLocation\": \"s3://mentha-athena-query-result\"\n",
    "#                                            }\n",
    "# )\n",
    "# athena_client.get_query_execution(\n",
    "#     QueryExecutionId=exec[\"QueryExecutionId\"]\n",
    "# )\n",
    "# result = athena_client.get_query_results(\n",
    "#     QueryExecutionId=exec[\"QueryExecutionId\"]\n",
    "# )\n",
    "# result[\"ResultSet\"]\n",
    "# athena_client.get_query_execution(\n",
    "#     QueryExecutionId=exec[\"QueryExecutionId\"]\n",
    "# )\n",
    "# athena_client.stop_query_execution(\n",
    "#     QueryExecutionId=exec[\"QueryExecutionId\"]\n",
    "# )"
   ],
   "metadata": {
    "collapsed": false,
    "pycharm": {
     "name": "#%%\n"
    }
   }
  },
  {
   "cell_type": "markdown",
   "source": [
    "# References"
   ],
   "metadata": {
    "collapsed": false,
    "pycharm": {
     "name": "#%% md\n"
    }
   }
  },
  {
   "cell_type": "markdown",
   "source": [
    "## 1. DataFrame decimal\n",
    "- https://stackoverflow.com/questions/38114654/pandas-read-csv-column-dtype-is-set-to-decimal-but-converts-to-string"
   ],
   "metadata": {
    "collapsed": false,
    "pycharm": {
     "name": "#%% md\n"
    }
   }
  },
  {
   "cell_type": "code",
   "execution_count": 121,
   "outputs": [
    {
     "name": "stdout",
     "output_type": "stream",
     "text": [
      "<class 'int'> <class 'float'> <class 'decimal.Decimal'> <class 'decimal.Decimal'>\n"
     ]
    }
   ],
   "source": [
    "import pandas as pd\n",
    "import io\n",
    "import decimal as D\n",
    "\n",
    "temp = u\"\"\"a,b,c,d\n",
    "           1,1,1,1.0\"\"\"\n",
    "\n",
    "# after testing replace io.StringIO(temp) to filename\n",
    "df = pd.read_csv(io.StringIO(temp),\n",
    "                 dtype={'a': int, 'b': float},\n",
    "                 converters={'c': D.Decimal, 'd': D.Decimal})\n",
    "\n",
    "for i, v in df.iterrows():\n",
    "    print(type(v.a), type(v.b), type(v.c), type(v.d))"
   ],
   "metadata": {
    "collapsed": false,
    "pycharm": {
     "name": "#%%\n"
    }
   }
  },
  {
   "cell_type": "markdown",
   "source": [
    "## 2. Pandas NA\n",
    "- https://note.nkmk.me/en/python-pandas-nan-none-na/"
   ],
   "metadata": {
    "collapsed": false,
    "pycharm": {
     "name": "#%% md\n"
    }
   }
  },
  {
   "cell_type": "markdown",
   "source": [
    "## 3. Python csv to parquet\n",
    "- https://www.quora.com/How-do-I-convert-CSV-to-parquet-using-Python-and-without-using-Spark\n",
    "- Chunk Example: https://stackoverflow.com/questions/26124417/how-to-convert-a-csv-file-to-parquet"
   ],
   "metadata": {
    "collapsed": false,
    "pycharm": {
     "name": "#%% md\n"
    }
   }
  },
  {
   "cell_type": "code",
   "execution_count": 134,
   "outputs": [],
   "source": [
    "## 4. Glue"
   ],
   "metadata": {
    "collapsed": false,
    "pycharm": {
     "name": "#%%\n"
    }
   }
  },
  {
   "cell_type": "code",
   "execution_count": 135,
   "outputs": [],
   "source": [
    "# {\n",
    "#     \"Version\": \"2012-10-17\",\n",
    "#     \"Statement\": [\n",
    "#         {\n",
    "#             \"Sid\": \"Statement1\",\n",
    "#             \"Effect\": \"Allow\",\n",
    "#             \"Principal\": \"*\",\n",
    "#             \"Action\": \"s3:*\",\n",
    "#             \"Resource\": \"arn:aws:s3:::mentha-query-datastore/*\"\n",
    "#         }\n",
    "#     ]\n",
    "# }"
   ],
   "metadata": {
    "collapsed": false,
    "pycharm": {
     "name": "#%%\n"
    }
   }
  },
  {
   "cell_type": "markdown",
   "source": [
    "## 4. Read parquet file metadata\n",
    "- https://arrow.apache.org/docs/python/generated/pyarrow.parquet.read_metadata.html"
   ],
   "metadata": {
    "collapsed": false,
    "pycharm": {
     "name": "#%% md\n"
    }
   }
  },
  {
   "cell_type": "code",
   "execution_count": 215,
   "outputs": [],
   "source": [
    "# s3_client.list_objects(Bucket=\"mentha-athena-datastore\")"
   ],
   "metadata": {
    "collapsed": false,
    "pycharm": {
     "name": "#%%\n"
    }
   }
  }
 ],
 "metadata": {
  "kernelspec": {
   "display_name": "Python 3",
   "language": "python",
   "name": "python3"
  },
  "language_info": {
   "codemirror_mode": {
    "name": "ipython",
    "version": 2
   },
   "file_extension": ".py",
   "mimetype": "text/x-python",
   "name": "python",
   "nbconvert_exporter": "python",
   "pygments_lexer": "ipython2",
   "version": "2.7.6"
  }
 },
 "nbformat": 4,
 "nbformat_minor": 0
}