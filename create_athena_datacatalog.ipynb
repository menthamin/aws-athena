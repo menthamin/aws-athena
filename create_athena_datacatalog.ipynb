{
 "cells": [
  {
   "cell_type": "code",
   "execution_count": 251,
   "outputs": [],
   "source": [
    "import os\n",
    "import boto3\n",
    "import pandas as pd\n",
    "import pyarrow as pa\n",
    "import pyarrow.parquet as pq\n",
    "from decimal import Decimal\n",
    "from s3fs import S3FileSystem\n",
    "from datetime import datetime\n",
    "from dotenv import load_dotenv"
   ],
   "metadata": {
    "collapsed": false,
    "pycharm": {
     "name": "#%%\n"
    }
   }
  },
  {
   "cell_type": "code",
   "execution_count": 229,
   "outputs": [
    {
     "data": {
      "text/plain": "True"
     },
     "execution_count": 229,
     "metadata": {},
     "output_type": "execute_result"
    }
   ],
   "source": [
    "load_dotenv()"
   ],
   "metadata": {
    "collapsed": false,
    "pycharm": {
     "name": "#%%\n"
    }
   }
  },
  {
   "cell_type": "markdown",
   "source": [
    "\n",
    "# 1. Create Bucket"
   ],
   "metadata": {
    "collapsed": false,
    "pycharm": {
     "name": "#%% md\n"
    }
   }
  },
  {
   "cell_type": "code",
   "execution_count": 230,
   "outputs": [],
   "source": [
    "session = boto3.Session(profile_name=\"mentha\")\n",
    "s3_client = session.client(\"s3\")"
   ],
   "metadata": {
    "collapsed": false,
    "pycharm": {
     "name": "#%%\n"
    }
   }
  },
  {
   "cell_type": "markdown",
   "source": [],
   "metadata": {
    "collapsed": false,
    "pycharm": {
     "name": "#%% md\n"
    }
   }
  },
  {
   "cell_type": "code",
   "execution_count": 231,
   "outputs": [
    {
     "data": {
      "text/plain": "[{'Name': 'aws-glue-assets-305045122135-ap-northeast-2',\n  'CreationDate': datetime.datetime(2022, 5, 19, 14, 23, 19, tzinfo=tzutc())},\n {'Name': 'mentha-athena-datastore',\n  'CreationDate': datetime.datetime(2022, 10, 2, 5, 52, 13, tzinfo=tzutc())},\n {'Name': 'mentha-athena-query-result',\n  'CreationDate': datetime.datetime(2022, 5, 22, 4, 57, 56, tzinfo=tzutc())},\n {'Name': 'mentha-datastore',\n  'CreationDate': datetime.datetime(2022, 10, 2, 6, 33, tzinfo=tzutc())},\n {'Name': 'mentha-sample-datastore',\n  'CreationDate': datetime.datetime(2022, 5, 22, 5, 40, 57, tzinfo=tzutc())}]"
     },
     "execution_count": 231,
     "metadata": {},
     "output_type": "execute_result"
    }
   ],
   "source": [
    "# s3_client.list_buckets()[\"Buckets\"]\n",
    "\n",
    "# s3_client.create_bucket(Bucket=\"mentha-athena-datastore\",\n",
    "#                         ACL=\"public-read\",\n",
    "#                         CreateBucketConfiguration={\n",
    "#                             \"LocationConstraint\": \"ap-northeast-2\"\n",
    "#                         }\n",
    "# )\n",
    "\n",
    "s3_client.list_buckets()[\"Buckets\"]"
   ],
   "metadata": {
    "collapsed": false,
    "pycharm": {
     "name": "#%%\n"
    }
   }
  },
  {
   "cell_type": "markdown",
   "source": [
    "# 2. Convert csv(local) to parquet(s3)"
   ],
   "metadata": {
    "collapsed": false,
    "pycharm": {
     "name": "#%% md\n"
    }
   }
  },
  {
   "cell_type": "markdown",
   "source": [
    "## 2.1. Read csv"
   ],
   "metadata": {
    "collapsed": false,
    "pycharm": {
     "name": "#%% md\n"
    }
   }
  },
  {
   "cell_type": "code",
   "execution_count": 232,
   "outputs": [],
   "source": [
    "def decimal_from_value(value):\n",
    "    if value == \"null\":\n",
    "        return pd.NA\n",
    "    else:\n",
    "        return Decimal(value)\n",
    "\n",
    "event_metadata = {\n",
    "    \"column_list\": [\"identity_adid\", \"os\", \"model\", \"country\", \"event_name\", \"log_id\", \"server_datetime\", \"quantity\", \"price\"],\n",
    "    \"dtype_dict\": {\n",
    "        \"identity_adid\": \"str\",\n",
    "        \"os\": \"str\",\n",
    "        \"model\": \"str\",\n",
    "        \"country\": \"str\",\n",
    "        \"event_name\": \"str\",\n",
    "        \"log_id\": \"str\",\n",
    "        \"quantity\": \"Int64\",\n",
    "        \"server_datetime\": \"str\"\n",
    "    },\n",
    "    \"convert_dict\": {\n",
    "        \"price\": decimal_from_value\n",
    "    },\n",
    "}\n",
    "\n",
    "attribution_metadata = {\n",
    "    \"column_list\": [\"partner\", \"campaign\", \"server_datetime\", \"tracker_id\", \"log_id\", \"attribution_type\", \"identity_adid\"],\n",
    "    \"dtype_dict\": {\n",
    "        \"partner\": \"str\",\n",
    "        \"campaign\": \"str\",\n",
    "        \"tracker_id\": \"str\",\n",
    "        \"log_id\": \"str\",\n",
    "        \"attribution_type\": \"Int64\",\n",
    "        \"identity_adid\": \"str\",\n",
    "        \"server_datetime\": \"str\"\n",
    "    }\n",
    "}"
   ],
   "metadata": {
    "collapsed": false,
    "pycharm": {
     "name": "#%%\n"
    }
   }
  },
  {
   "cell_type": "code",
   "execution_count": 233,
   "outputs": [],
   "source": [
    "df_event = pd.read_csv(\"data/event.csv\",\n",
    "                       names=event_metadata[\"column_list\"],\n",
    "                       dtype=event_metadata[\"dtype_dict\"],\n",
    "                       converters=event_metadata[\"convert_dict\"]\n",
    ")"
   ],
   "metadata": {
    "collapsed": false,
    "pycharm": {
     "name": "#%%\n"
    }
   }
  },
  {
   "cell_type": "code",
   "execution_count": 234,
   "outputs": [],
   "source": [
    "df_attribution = pd.read_csv(\"data/attribution.csv\",\n",
    "                             names=attribution_metadata[\"column_list\"],\n",
    "                             dtype=attribution_metadata[\"dtype_dict\"],\n",
    ")"
   ],
   "metadata": {
    "collapsed": false,
    "pycharm": {
     "name": "#%%\n"
    }
   }
  },
  {
   "cell_type": "markdown",
   "source": [
    "### server_datetime 에러 케이스 확인\n",
    "- event 테이블에서 \"0001-01-01 00:00:00.0\"인 경우 Null로 대체하자"
   ],
   "metadata": {
    "collapsed": false,
    "pycharm": {
     "name": "#%% md\n"
    }
   }
  },
  {
   "cell_type": "code",
   "execution_count": 235,
   "outputs": [],
   "source": [
    "df_event[\"server_datetime\"] = pd.to_datetime(df_event[\"server_datetime\"], errors = \"coerce\")\n",
    "df_attribution[\"server_datetime\"] = pd.to_datetime(df_attribution[\"server_datetime\"], errors = \"coerce\")"
   ],
   "metadata": {
    "collapsed": false,
    "pycharm": {
     "name": "#%%\n"
    }
   }
  },
  {
   "cell_type": "code",
   "execution_count": 237,
   "outputs": [],
   "source": [
    "df_event[\"date\"] = df_event[\"server_datetime\"].dt.date\n",
    "df_attribution[\"date\"] = df_attribution[\"server_datetime\"].dt.date"
   ],
   "metadata": {
    "collapsed": false,
    "pycharm": {
     "name": "#%%\n"
    }
   }
  },
  {
   "cell_type": "code",
   "execution_count": 238,
   "outputs": [
    {
     "name": "stdout",
     "output_type": "stream",
     "text": [
      "<class 'pandas.core.frame.DataFrame'>\n",
      "RangeIndex: 17966166 entries, 0 to 17966165\n",
      "Data columns (total 10 columns):\n",
      " #   Column           Dtype         \n",
      "---  ------           -----         \n",
      " 0   identity_adid    object        \n",
      " 1   os               object        \n",
      " 2   model            object        \n",
      " 3   country          object        \n",
      " 4   event_name       object        \n",
      " 5   log_id           object        \n",
      " 6   server_datetime  datetime64[ns]\n",
      " 7   quantity         Int64         \n",
      " 8   price            object        \n",
      " 9   date             object        \n",
      "dtypes: Int64(1), datetime64[ns](1), object(8)\n",
      "memory usage: 1.4+ GB\n"
     ]
    }
   ],
   "source": [
    "df_event.info()"
   ],
   "metadata": {
    "collapsed": false,
    "pycharm": {
     "name": "#%%\n"
    }
   }
  },
  {
   "cell_type": "code",
   "execution_count": 239,
   "outputs": [
    {
     "data": {
      "text/plain": "  identity_adid   os model country         event_name  \\\n0     984549936  8.9   8.9      jp          abx:login   \n1     885033552  8.9   8.9      gb          abx:login   \n2     768602461  7.1   7.1      ge      abx:firstopen   \n3    1666798466  3.4   3.4      gb    abx:end_session   \n4     683694696  7.1   7.1      kr  abx:start_session   \n\n                                 log_id         server_datetime  quantity  \\\n0  c21efdb8-b6e5-4ccc-a474-aff72a62c248 2018-05-18 12:23:15.303      <NA>   \n1  b4470f3b-4bb9-43ef-9248-25b503fa5660 2018-05-18 12:32:46.395      <NA>   \n2  372dfecc-a27f-4a16-8e31-eccf34b8855f 2018-05-18 12:34:55.196      <NA>   \n3  08730bdc-2895-4061-8399-f45df94d3fd0 2018-05-18 12:30:23.945      <NA>   \n4  a9556df7-f6ee-4600-af5b-89a44f18673c 2018-05-18 12:31:14.824      <NA>   \n\n  price        date  \n0  <NA>  2018-05-18  \n1  <NA>  2018-05-18  \n2  <NA>  2018-05-18  \n3  <NA>  2018-05-18  \n4  <NA>  2018-05-18  ",
      "text/html": "<div>\n<style scoped>\n    .dataframe tbody tr th:only-of-type {\n        vertical-align: middle;\n    }\n\n    .dataframe tbody tr th {\n        vertical-align: top;\n    }\n\n    .dataframe thead th {\n        text-align: right;\n    }\n</style>\n<table border=\"1\" class=\"dataframe\">\n  <thead>\n    <tr style=\"text-align: right;\">\n      <th></th>\n      <th>identity_adid</th>\n      <th>os</th>\n      <th>model</th>\n      <th>country</th>\n      <th>event_name</th>\n      <th>log_id</th>\n      <th>server_datetime</th>\n      <th>quantity</th>\n      <th>price</th>\n      <th>date</th>\n    </tr>\n  </thead>\n  <tbody>\n    <tr>\n      <th>0</th>\n      <td>984549936</td>\n      <td>8.9</td>\n      <td>8.9</td>\n      <td>jp</td>\n      <td>abx:login</td>\n      <td>c21efdb8-b6e5-4ccc-a474-aff72a62c248</td>\n      <td>2018-05-18 12:23:15.303</td>\n      <td>&lt;NA&gt;</td>\n      <td>&lt;NA&gt;</td>\n      <td>2018-05-18</td>\n    </tr>\n    <tr>\n      <th>1</th>\n      <td>885033552</td>\n      <td>8.9</td>\n      <td>8.9</td>\n      <td>gb</td>\n      <td>abx:login</td>\n      <td>b4470f3b-4bb9-43ef-9248-25b503fa5660</td>\n      <td>2018-05-18 12:32:46.395</td>\n      <td>&lt;NA&gt;</td>\n      <td>&lt;NA&gt;</td>\n      <td>2018-05-18</td>\n    </tr>\n    <tr>\n      <th>2</th>\n      <td>768602461</td>\n      <td>7.1</td>\n      <td>7.1</td>\n      <td>ge</td>\n      <td>abx:firstopen</td>\n      <td>372dfecc-a27f-4a16-8e31-eccf34b8855f</td>\n      <td>2018-05-18 12:34:55.196</td>\n      <td>&lt;NA&gt;</td>\n      <td>&lt;NA&gt;</td>\n      <td>2018-05-18</td>\n    </tr>\n    <tr>\n      <th>3</th>\n      <td>1666798466</td>\n      <td>3.4</td>\n      <td>3.4</td>\n      <td>gb</td>\n      <td>abx:end_session</td>\n      <td>08730bdc-2895-4061-8399-f45df94d3fd0</td>\n      <td>2018-05-18 12:30:23.945</td>\n      <td>&lt;NA&gt;</td>\n      <td>&lt;NA&gt;</td>\n      <td>2018-05-18</td>\n    </tr>\n    <tr>\n      <th>4</th>\n      <td>683694696</td>\n      <td>7.1</td>\n      <td>7.1</td>\n      <td>kr</td>\n      <td>abx:start_session</td>\n      <td>a9556df7-f6ee-4600-af5b-89a44f18673c</td>\n      <td>2018-05-18 12:31:14.824</td>\n      <td>&lt;NA&gt;</td>\n      <td>&lt;NA&gt;</td>\n      <td>2018-05-18</td>\n    </tr>\n  </tbody>\n</table>\n</div>"
     },
     "execution_count": 239,
     "metadata": {},
     "output_type": "execute_result"
    }
   ],
   "source": [
    "df_event.head(5)"
   ],
   "metadata": {
    "collapsed": false,
    "pycharm": {
     "name": "#%%\n"
    }
   }
  },
  {
   "cell_type": "code",
   "execution_count": 240,
   "outputs": [
    {
     "name": "stdout",
     "output_type": "stream",
     "text": [
      "<class 'pandas.core.frame.DataFrame'>\n",
      "RangeIndex: 3760185 entries, 0 to 3760184\n",
      "Data columns (total 8 columns):\n",
      " #   Column            Dtype         \n",
      "---  ------            -----         \n",
      " 0   partner           object        \n",
      " 1   campaign          object        \n",
      " 2   server_datetime   datetime64[ns]\n",
      " 3   tracker_id        object        \n",
      " 4   log_id            object        \n",
      " 5   attribution_type  Int64         \n",
      " 6   identity_adid     object        \n",
      " 7   date              object        \n",
      "dtypes: Int64(1), datetime64[ns](1), object(6)\n",
      "memory usage: 233.1+ MB\n"
     ]
    }
   ],
   "source": [
    "df_attribution.info()"
   ],
   "metadata": {
    "collapsed": false,
    "pycharm": {
     "name": "#%%\n"
    }
   }
  },
  {
   "cell_type": "code",
   "execution_count": 241,
   "outputs": [
    {
     "data": {
      "text/plain": "  partner campaign         server_datetime tracker_id  \\\n0     NaN      NaN 2018-05-03 07:19:24.813        NaN   \n1     NaN      NaN 2018-05-03 10:25:11.034        NaN   \n2     NaN      NaN 2018-05-03 10:26:08.081        NaN   \n3     NaN      NaN 2018-05-03 22:38:15.378        NaN   \n4     NaN      NaN 2018-05-03 04:14:55.453        NaN   \n\n                                 log_id  attribution_type identity_adid  \\\n0  bdb8fc95-4f66-4d1d-8186-d10e86fe6433                 0     764796223   \n1  67c41325-a700-4f98-ad72-108025e9af8d                 0    2126194985   \n2  0e41af66-3f17-4bde-91db-806296209ad1                 0     738518810   \n3  a5f7ed1f-5d4e-4adf-96ce-e94f6820c2c2                 0     595719449   \n4  1e1aae33-282d-4dc2-9267-22fbd4ee2798                 0     302402748   \n\n         date  \n0  2018-05-03  \n1  2018-05-03  \n2  2018-05-03  \n3  2018-05-03  \n4  2018-05-03  ",
      "text/html": "<div>\n<style scoped>\n    .dataframe tbody tr th:only-of-type {\n        vertical-align: middle;\n    }\n\n    .dataframe tbody tr th {\n        vertical-align: top;\n    }\n\n    .dataframe thead th {\n        text-align: right;\n    }\n</style>\n<table border=\"1\" class=\"dataframe\">\n  <thead>\n    <tr style=\"text-align: right;\">\n      <th></th>\n      <th>partner</th>\n      <th>campaign</th>\n      <th>server_datetime</th>\n      <th>tracker_id</th>\n      <th>log_id</th>\n      <th>attribution_type</th>\n      <th>identity_adid</th>\n      <th>date</th>\n    </tr>\n  </thead>\n  <tbody>\n    <tr>\n      <th>0</th>\n      <td>NaN</td>\n      <td>NaN</td>\n      <td>2018-05-03 07:19:24.813</td>\n      <td>NaN</td>\n      <td>bdb8fc95-4f66-4d1d-8186-d10e86fe6433</td>\n      <td>0</td>\n      <td>764796223</td>\n      <td>2018-05-03</td>\n    </tr>\n    <tr>\n      <th>1</th>\n      <td>NaN</td>\n      <td>NaN</td>\n      <td>2018-05-03 10:25:11.034</td>\n      <td>NaN</td>\n      <td>67c41325-a700-4f98-ad72-108025e9af8d</td>\n      <td>0</td>\n      <td>2126194985</td>\n      <td>2018-05-03</td>\n    </tr>\n    <tr>\n      <th>2</th>\n      <td>NaN</td>\n      <td>NaN</td>\n      <td>2018-05-03 10:26:08.081</td>\n      <td>NaN</td>\n      <td>0e41af66-3f17-4bde-91db-806296209ad1</td>\n      <td>0</td>\n      <td>738518810</td>\n      <td>2018-05-03</td>\n    </tr>\n    <tr>\n      <th>3</th>\n      <td>NaN</td>\n      <td>NaN</td>\n      <td>2018-05-03 22:38:15.378</td>\n      <td>NaN</td>\n      <td>a5f7ed1f-5d4e-4adf-96ce-e94f6820c2c2</td>\n      <td>0</td>\n      <td>595719449</td>\n      <td>2018-05-03</td>\n    </tr>\n    <tr>\n      <th>4</th>\n      <td>NaN</td>\n      <td>NaN</td>\n      <td>2018-05-03 04:14:55.453</td>\n      <td>NaN</td>\n      <td>1e1aae33-282d-4dc2-9267-22fbd4ee2798</td>\n      <td>0</td>\n      <td>302402748</td>\n      <td>2018-05-03</td>\n    </tr>\n  </tbody>\n</table>\n</div>"
     },
     "execution_count": 241,
     "metadata": {},
     "output_type": "execute_result"
    }
   ],
   "source": [
    "df_attribution.head(5)"
   ],
   "metadata": {
    "collapsed": false,
    "pycharm": {
     "name": "#%%\n"
    }
   }
  },
  {
   "cell_type": "markdown",
   "source": [
    "## 2.2. Convert csv to parquet"
   ],
   "metadata": {
    "collapsed": false,
    "pycharm": {
     "name": "#%% md\n"
    }
   }
  },
  {
   "cell_type": "code",
   "execution_count": 247,
   "outputs": [],
   "source": [
    "event_table = pa.Table.from_pandas(df_event)\n",
    "attribution_table = pa.Table.from_pandas(df_attribution)\n",
    "# event_output_path = \"s3://mentha-athena-datastore/sample/event\"\n",
    "# attribution_output_path = \"s3://mentha-athena-datastore/sample/attribution\""
   ],
   "metadata": {
    "collapsed": false,
    "pycharm": {
     "name": "#%%\n"
    }
   }
  },
  {
   "cell_type": "markdown",
   "source": [],
   "metadata": {
    "collapsed": false,
    "pycharm": {
     "name": "#%% md\n"
    }
   }
  },
  {
   "cell_type": "code",
   "execution_count": 243,
   "outputs": [],
   "source": [
    "pq.write_to_dataset(event_table,\n",
    "                    root_path=\"data/event/\",\n",
    "                    partition_cols=[\"date\"]\n",
    ")"
   ],
   "metadata": {
    "collapsed": false,
    "pycharm": {
     "name": "#%%\n"
    }
   }
  },
  {
   "cell_type": "code",
   "execution_count": 244,
   "outputs": [],
   "source": [
    "pq.write_to_dataset(attribution_table,\n",
    "                    root_path=\"data/attribution/\",\n",
    "                    partition_cols=[\"date\"]\n",
    ")"
   ],
   "metadata": {
    "collapsed": false,
    "pycharm": {
     "name": "#%%\n"
    }
   }
  },
  {
   "cell_type": "code",
   "execution_count": 84,
   "outputs": [],
   "source": [
    "# pq.write_table(event_table, \"data/event.parquet\")\n",
    "# pq.write_table(attribution_table, \"data/attribution.parquet\")\n",
    "# # https://arrow.apache.org/docs/python/generated/pyarrow.parquet.read_metadata.html"
   ],
   "metadata": {
    "collapsed": false,
    "pycharm": {
     "name": "#%%\n"
    }
   }
  },
  {
   "cell_type": "code",
   "execution_count": 67,
   "outputs": [],
   "source": [
    "# pq.read_metadata(\"data/event.parquet\")\n",
    "# read_event_schema = pq.read_schema(\"data/event.parquet\")\n",
    "# read_event_schema"
   ],
   "metadata": {
    "collapsed": false,
    "pycharm": {
     "name": "#%%\n"
    }
   }
  },
  {
   "cell_type": "markdown",
   "source": [
    "## 2.3. Upload parquet files to S3\n",
    "- ref: https://stackoverflow.com/questions/25380774/upload-a-directory-to-s3-with-boto"
   ],
   "metadata": {
    "collapsed": false,
    "pycharm": {
     "name": "#%% md\n"
    }
   }
  },
  {
   "cell_type": "code",
   "execution_count": 259,
   "outputs": [],
   "source": [
    "def upload_folder_to_s3(s3bucket, inputDir, s3Path):\n",
    "    print(\"Uploading results to s3 initiated...\")\n",
    "    print(\"Local Source:\", inputDir)\n",
    "    os.system(\"ls -ltR \" + inputDir)\n",
    "\n",
    "    print(\"Dest  S3path:\", s3Path)\n",
    "\n",
    "    try:\n",
    "        for path, subdirs, files in os.walk(inputDir):\n",
    "            for file in files:\n",
    "                dest_path = path.replace(inputDir,\"\")\n",
    "                __s3file = os.path.normpath(s3Path + '/' + dest_path + '/' + file)\n",
    "                __local_file = os.path.join(path, file)\n",
    "                print(\"upload : \", __local_file, \" to Target: \", __s3file, end=\"\")\n",
    "                s3bucket.upload_file(__local_file, __s3file)\n",
    "                print(\" ...Success\")\n",
    "    except Exception as e:\n",
    "        print(\" ... Failed!! Quitting Upload!!\")\n",
    "        print(e)\n",
    "        raise e"
   ],
   "metadata": {
    "collapsed": false,
    "pycharm": {
     "name": "#%%\n"
    }
   }
  },
  {
   "cell_type": "code",
   "execution_count": 256,
   "outputs": [],
   "source": [
    "s3 = boto3.resource(\"s3\")\n",
    "s3bucket = s3.Bucket(\"mentha-athena-datastore\")"
   ],
   "metadata": {
    "collapsed": false,
    "pycharm": {
     "name": "#%%\n"
    }
   }
  },
  {
   "cell_type": "code",
   "execution_count": 260,
   "outputs": [
    {
     "name": "stdout",
     "output_type": "stream",
     "text": [
      "Uploading results to s3 initiated...\n",
      "Local Source: data/attribution\n",
      "total 0\n",
      "drwxr-xr-x  3 jmjeon  staff  96 Oct  2 17:24 date=2018-05-29\n",
      "drwxr-xr-x  3 jmjeon  staff  96 Oct  2 17:24 date=__HIVE_DEFAULT_PARTITION__\n",
      "drwxr-xr-x  3 jmjeon  staff  96 Oct  2 17:24 date=2018-05-04\n",
      "drwxr-xr-x  3 jmjeon  staff  96 Oct  2 17:24 date=2018-05-05\n",
      "drwxr-xr-x  3 jmjeon  staff  96 Oct  2 17:24 date=2018-06-09\n",
      "drwxr-xr-x  3 jmjeon  staff  96 Oct  2 17:24 date=2018-06-08\n",
      "drwxr-xr-x  3 jmjeon  staff  96 Oct  2 17:24 date=2018-05-25\n",
      "drwxr-xr-x  3 jmjeon  staff  96 Oct  2 17:24 date=2018-05-17\n",
      "drwxr-xr-x  3 jmjeon  staff  96 Oct  2 17:24 date=2018-05-12\n",
      "drwxr-xr-x  3 jmjeon  staff  96 Oct  2 17:24 date=2018-05-13\n",
      "drwxr-xr-x  3 jmjeon  staff  96 Oct  2 17:24 date=2018-05-22\n",
      "drwxr-xr-x  3 jmjeon  staff  96 Oct  2 17:24 date=2018-05-19\n",
      "drwxr-xr-x  3 jmjeon  staff  96 Oct  2 17:24 date=2018-05-23\n",
      "drwxr-xr-x  3 jmjeon  staff  96 Oct  2 17:24 date=2018-05-24\n",
      "drwxr-xr-x  3 jmjeon  staff  96 Oct  2 17:24 date=2018-05-20\n",
      "drwxr-xr-x  3 jmjeon  staff  96 Oct  2 17:24 date=2018-05-21\n",
      "drwxr-xr-x  3 jmjeon  staff  96 Oct  2 17:24 date=2018-05-14\n",
      "drwxr-xr-x  3 jmjeon  staff  96 Oct  2 17:24 date=2018-05-15\n",
      "drwxr-xr-x  3 jmjeon  staff  96 Oct  2 17:24 date=2018-05-16\n",
      "drwxr-xr-x  3 jmjeon  staff  96 Oct  2 17:24 date=2018-05-18\n",
      "drwxr-xr-x  3 jmjeon  staff  96 Oct  2 17:24 date=2018-06-07\n",
      "drwxr-xr-x  3 jmjeon  staff  96 Oct  2 17:24 date=2018-05-26\n",
      "drwxr-xr-x  3 jmjeon  staff  96 Oct  2 17:24 date=2018-05-27\n",
      "drwxr-xr-x  3 jmjeon  staff  96 Oct  2 17:24 date=2018-05-30\n",
      "drwxr-xr-x  3 jmjeon  staff  96 Oct  2 17:24 date=2018-06-02\n",
      "drwxr-xr-x  3 jmjeon  staff  96 Oct  2 17:24 date=2018-05-28\n",
      "drwxr-xr-x  3 jmjeon  staff  96 Oct  2 17:24 date=2018-05-31\n",
      "drwxr-xr-x  3 jmjeon  staff  96 Oct  2 17:24 date=2018-06-01\n",
      "drwxr-xr-x  3 jmjeon  staff  96 Oct  2 17:24 date=2018-06-10\n",
      "drwxr-xr-x  3 jmjeon  staff  96 Oct  2 17:24 date=2018-06-11\n",
      "drwxr-xr-x  3 jmjeon  staff  96 Oct  2 17:24 date=2018-06-13\n",
      "drwxr-xr-x  3 jmjeon  staff  96 Oct  2 17:24 date=2018-06-12\n",
      "drwxr-xr-x  3 jmjeon  staff  96 Oct  2 17:24 date=2018-05-07\n",
      "drwxr-xr-x  3 jmjeon  staff  96 Oct  2 17:24 date=2018-05-03\n",
      "drwxr-xr-x  3 jmjeon  staff  96 Oct  2 17:24 date=2018-06-06\n",
      "drwxr-xr-x  3 jmjeon  staff  96 Oct  2 17:24 date=2018-05-06\n",
      "drwxr-xr-x  3 jmjeon  staff  96 Oct  2 17:24 date=2018-05-08\n",
      "drwxr-xr-x  3 jmjeon  staff  96 Oct  2 17:24 date=2018-05-02\n",
      "drwxr-xr-x  3 jmjeon  staff  96 Oct  2 17:24 date=2018-05-10\n",
      "drwxr-xr-x  3 jmjeon  staff  96 Oct  2 17:24 date=2018-06-03\n",
      "drwxr-xr-x  3 jmjeon  staff  96 Oct  2 17:24 date=2018-05-11\n",
      "drwxr-xr-x  3 jmjeon  staff  96 Oct  2 17:24 date=2018-05-09\n",
      "drwxr-xr-x  3 jmjeon  staff  96 Oct  2 17:24 date=2018-06-04\n",
      "drwxr-xr-x  3 jmjeon  staff  96 Oct  2 17:24 date=2018-06-05\n",
      "\n",
      "data/attribution/date=2018-05-29:\n",
      "total 7872\n",
      "-rw-r--r--  1 jmjeon  staff  4027657 Oct  2 17:24 4292b1e21c054697a7613e74ba79ece6-0.parquet\n",
      "\n",
      "data/attribution/date=__HIVE_DEFAULT_PARTITION__:\n",
      "total 288\n",
      "-rw-r--r--  1 jmjeon  staff  146090 Oct  2 17:24 4292b1e21c054697a7613e74ba79ece6-0.parquet\n",
      "\n",
      "data/attribution/date=2018-05-04:\n",
      "total 19216\n",
      "-rw-r--r--  1 jmjeon  staff  9835506 Oct  2 17:24 4292b1e21c054697a7613e74ba79ece6-0.parquet\n",
      "\n",
      "data/attribution/date=2018-05-05:\n",
      "total 19016\n",
      "-rw-r--r--  1 jmjeon  staff  9735273 Oct  2 17:24 4292b1e21c054697a7613e74ba79ece6-0.parquet\n",
      "\n",
      "data/attribution/date=2018-06-09:\n",
      "total 3848\n",
      "-rw-r--r--  1 jmjeon  staff  1969437 Oct  2 17:24 4292b1e21c054697a7613e74ba79ece6-0.parquet\n",
      "\n",
      "data/attribution/date=2018-06-08:\n",
      "total 3928\n",
      "-rw-r--r--  1 jmjeon  staff  2009261 Oct  2 17:24 4292b1e21c054697a7613e74ba79ece6-0.parquet\n",
      "\n",
      "data/attribution/date=2018-05-25:\n",
      "total 9224\n",
      "-rw-r--r--  1 jmjeon  staff  4722489 Oct  2 17:24 4292b1e21c054697a7613e74ba79ece6-0.parquet\n",
      "\n",
      "data/attribution/date=2018-05-17:\n",
      "total 12600\n",
      "-rw-r--r--  1 jmjeon  staff  6449929 Oct  2 17:24 4292b1e21c054697a7613e74ba79ece6-0.parquet\n",
      "\n",
      "data/attribution/date=2018-05-12:\n",
      "total 18992\n",
      "-rw-r--r--  1 jmjeon  staff  9722243 Oct  2 17:24 4292b1e21c054697a7613e74ba79ece6-0.parquet\n",
      "\n",
      "data/attribution/date=2018-05-13:\n",
      "total 18944\n",
      "-rw-r--r--  1 jmjeon  staff  9695958 Oct  2 17:24 4292b1e21c054697a7613e74ba79ece6-0.parquet\n",
      "\n",
      "data/attribution/date=2018-05-22:\n",
      "total 80\n",
      "-rw-r--r--  1 jmjeon  staff  40623 Oct  2 17:24 4292b1e21c054697a7613e74ba79ece6-0.parquet\n",
      "\n",
      "data/attribution/date=2018-05-19:\n",
      "total 32\n",
      "-rw-r--r--  1 jmjeon  staff  15580 Oct  2 17:24 4292b1e21c054697a7613e74ba79ece6-0.parquet\n",
      "\n",
      "data/attribution/date=2018-05-23:\n",
      "total 10744\n",
      "-rw-r--r--  1 jmjeon  staff  5500181 Oct  2 17:24 4292b1e21c054697a7613e74ba79ece6-0.parquet\n",
      "\n",
      "data/attribution/date=2018-05-24:\n",
      "total 8680\n",
      "-rw-r--r--  1 jmjeon  staff  4442123 Oct  2 17:24 4292b1e21c054697a7613e74ba79ece6-0.parquet\n",
      "\n",
      "data/attribution/date=2018-05-20:\n",
      "total 40\n",
      "-rw-r--r--  1 jmjeon  staff  16850 Oct  2 17:24 4292b1e21c054697a7613e74ba79ece6-0.parquet\n",
      "\n",
      "data/attribution/date=2018-05-21:\n",
      "total 13208\n",
      "-rw-r--r--  1 jmjeon  staff  6761095 Oct  2 17:24 4292b1e21c054697a7613e74ba79ece6-0.parquet\n",
      "\n",
      "data/attribution/date=2018-05-14:\n",
      "total 12264\n",
      "-rw-r--r--  1 jmjeon  staff  6276379 Oct  2 17:24 4292b1e21c054697a7613e74ba79ece6-0.parquet\n",
      "\n",
      "data/attribution/date=2018-05-15:\n",
      "total 10240\n",
      "-rw-r--r--  1 jmjeon  staff  5240838 Oct  2 17:24 4292b1e21c054697a7613e74ba79ece6-0.parquet\n",
      "\n",
      "data/attribution/date=2018-05-16:\n",
      "total 10240\n",
      "-rw-r--r--  1 jmjeon  staff  5240902 Oct  2 17:24 4292b1e21c054697a7613e74ba79ece6-0.parquet\n",
      "\n",
      "data/attribution/date=2018-05-18:\n",
      "total 8032\n",
      "-rw-r--r--  1 jmjeon  staff  4108582 Oct  2 17:24 4292b1e21c054697a7613e74ba79ece6-0.parquet\n",
      "\n",
      "data/attribution/date=2018-06-07:\n",
      "total 3856\n",
      "-rw-r--r--  1 jmjeon  staff  1974031 Oct  2 17:24 4292b1e21c054697a7613e74ba79ece6-0.parquet\n",
      "\n",
      "data/attribution/date=2018-05-26:\n",
      "total 7872\n",
      "-rw-r--r--  1 jmjeon  staff  4030139 Oct  2 17:24 4292b1e21c054697a7613e74ba79ece6-0.parquet\n",
      "\n",
      "data/attribution/date=2018-05-27:\n",
      "total 7880\n",
      "-rw-r--r--  1 jmjeon  staff  4031871 Oct  2 17:24 4292b1e21c054697a7613e74ba79ece6-0.parquet\n",
      "\n",
      "data/attribution/date=2018-05-30:\n",
      "total 4984\n",
      "-rw-r--r--  1 jmjeon  staff  2547730 Oct  2 17:24 4292b1e21c054697a7613e74ba79ece6-0.parquet\n",
      "\n",
      "data/attribution/date=2018-06-02:\n",
      "total 3968\n",
      "-rw-r--r--  1 jmjeon  staff  2028669 Oct  2 17:24 4292b1e21c054697a7613e74ba79ece6-0.parquet\n",
      "\n",
      "data/attribution/date=2018-05-28:\n",
      "total 13928\n",
      "-rw-r--r--  1 jmjeon  staff  7131009 Oct  2 17:24 4292b1e21c054697a7613e74ba79ece6-0.parquet\n",
      "\n",
      "data/attribution/date=2018-05-31:\n",
      "total 5600\n",
      "-rw-r--r--  1 jmjeon  staff  2863433 Oct  2 17:24 4292b1e21c054697a7613e74ba79ece6-0.parquet\n",
      "\n",
      "data/attribution/date=2018-06-01:\n",
      "total 4240\n",
      "-rw-r--r--  1 jmjeon  staff  2168654 Oct  2 17:24 4292b1e21c054697a7613e74ba79ece6-0.parquet\n",
      "\n",
      "data/attribution/date=2018-06-10:\n",
      "total 3880\n",
      "-rw-r--r--  1 jmjeon  staff  1984148 Oct  2 17:24 4292b1e21c054697a7613e74ba79ece6-0.parquet\n",
      "\n",
      "data/attribution/date=2018-06-11:\n",
      "total 3840\n",
      "-rw-r--r--  1 jmjeon  staff  1965764 Oct  2 17:24 4292b1e21c054697a7613e74ba79ece6-0.parquet\n",
      "\n",
      "data/attribution/date=2018-06-13:\n",
      "total 40\n",
      "-rw-r--r--  1 jmjeon  staff  16966 Oct  2 17:24 4292b1e21c054697aDest  S3path:7613e74ba79ece6-0.parquet\n",
      "\n",
      "data/attribution/date=2018-06-12:\n",
      "total 3816\n",
      "-rw-r--r--  1 jmjeon  staff  1951313 Oct  2 17:24 4292b1e21c054697a7613e74ba79ece6-0.parquet\n",
      "\n",
      "data/attribution/date=2018-05-07:\n",
      "total 18936\n",
      "-rw-r--r--  1 jmjeon  staff  9693558 Oct  2 17:24 4292b1e21c054697a7613e74ba79ece6-0.parquet\n",
      "\n",
      "data/attribution/date=2018-05-03:\n",
      "total 19168\n",
      "-rw-r--r--  1 jmjeon  staff  9812879 Oct  2 17:24 4292b1e21c054697a7613e74ba79ece6-0.parquet\n",
      "\n",
      "data/attribution/date=2018-06-06:\n",
      "total 3920\n",
      "-rw-r--r--  1 jmjeon  staff  2004141 Oct  2 17:24 4292b1e21c054697a7613e74ba79ece6-0.parquet\n",
      "\n",
      "data/attribution/date=2018-05-06:\n",
      "total 19008\n",
      "-rw-r--r--  1 jmjeon  staff  9729226 Oct  2 17:24 4292b1e21c054697a7613e74ba79ece6-0.parquet\n",
      "\n",
      "data/attribution/date=2018-05-08:\n",
      "total 18784\n",
      "-rw-r--r--  1 jmjeon  staff  9615740 Oct  2 17:24 4292b1e21c054697a7613e74ba79ece6-0.parquet\n",
      "\n",
      "data/attribution/date=2018-05-02:\n",
      "total 14800\n",
      "-rw-r--r--  1 jmjeon  staff  7576780 Oct  2 17:24 4292b1e21c054697a7613e74ba79ece6-0.parq sample/attribution\n",
      "uet\n",
      "\n",
      "data/attribution/date=2018-05-10:\n",
      "total 18880\n",
      "-rw-r--r--  1 jmjeon  staff  9665207 Oct  2 17:24 4292b1e21c054697a7613e74ba79ece6-0.parquet\n",
      "\n",
      "data/attribution/date=2018-06-03:\n",
      "total 3888\n",
      "-rw-r--r--  1 jmjeon  staff  1989754 Oct  2 17:24 4292b1e21c054697a7613e74ba79ece6-0.parquet\n",
      "\n",
      "data/attribution/date=2018-05-11:\n",
      "total 18944\n",
      "-rw-r--r--  1 jmjeon  staff  9699193 Oct  2 17:24 4292b1e21c054697a7613e74ba79ece6-0.parquet\n",
      "\n",
      "data/attribution/date=2018-05-09:\n",
      "total 15512\n",
      "-rw-r--r--  1 jmjeon  staff  7939862 Oct  2 17:24 4292b1e21c054697a7613e74ba79ece6-0.parquet\n",
      "\n",
      "data/attribution/date=2018-06-04:\n",
      "total 4728\n",
      "-rw-r--r--  1 jmjeon  staff  2416887 Oct  2 17:24 4292b1e21c054697a7613e74ba79ece6-0.parquet\n",
      "\n",
      "data/attribution/date=2018-06-05:\n",
      "total 4056\n",
      "-rw-r--r--  1 jmjeon  staff  2073443 Oct  2 17:24 4292b1e21c054697a7613e74ba79ece6-0.parquet\n",
      "upload :  data/attribution/date=2018-05-17/4292b1e21c054697a7613e74ba79ece6-0.parquet  to Target:  sample/attribution/date=2018-05-17/4292b1e21c054697a7613e74ba79ece6-0.parquet ...Success\n",
      "upload :  data/attribution/date=2018-05-28/4292b1e21c054697a7613e74ba79ece6-0.parquet  to Target:  sample/attribution/date=2018-05-28/4292b1e21c054697a7613e74ba79ece6-0.parquet ...Success\n",
      "upload :  data/attribution/date=2018-05-10/4292b1e21c054697a7613e74ba79ece6-0.parquet  to Target:  sample/attribution/date=2018-05-10/4292b1e21c054697a7613e74ba79ece6-0.parquet ...Success\n",
      "upload :  data/attribution/date=2018-06-08/4292b1e21c054697a7613e74ba79ece6-0.parquet  to Target:  sample/attribution/date=2018-06-08/4292b1e21c054697a7613e74ba79ece6-0.parquet ...Success\n",
      "upload :  data/attribution/date=2018-05-26/4292b1e21c054697a7613e74ba79ece6-0.parquet  to Target:  sample/attribution/date=2018-05-26/4292b1e21c054697a7613e74ba79ece6-0.parquet ...Success\n",
      "upload :  data/attribution/date=2018-06-01/4292b1e21c054697a7613e74ba79ece6-0.parquet  to Target:  sample/attribution/date=2018-06-01/4292b1e21c054697a7613e74ba79ece6-0.parquet ...Success\n",
      "upload :  data/attribution/date=2018-05-19/4292b1e21c054697a7613e74ba79ece6-0.parquet  to Target:  sample/attribution/date=2018-05-19/4292b1e21c054697a7613e74ba79ece6-0.parquet ...Success\n",
      "upload :  data/attribution/date=2018-06-06/4292b1e21c054697a7613e74ba79ece6-0.parquet  to Target:  sample/attribution/date=2018-06-06/4292b1e21c054697a7613e74ba79ece6-0.parquet ...Success\n",
      "upload :  data/attribution/date=2018-05-21/4292b1e21c054697a7613e74ba79ece6-0.parquet  to Target:  sample/attribution/date=2018-05-21/4292b1e21c054697a7613e74ba79ece6-0.parquet ...Success\n",
      "upload :  data/attribution/date=2018-05-20/4292b1e21c054697a7613e74ba79ece6-0.parquet  to Target:  sample/attribution/date=2018-05-20/4292b1e21c054697a7613e74ba79ece6-0.parquet ...Success\n",
      "upload :  data/attribution/date=2018-06-07/4292b1e21c054697a7613e74ba79ece6-0.parquet  to Target:  sample/attribution/date=2018-06-07/4292b1e21c054697a7613e74ba79ece6-0.parquet ...Success\n",
      "upload :  data/attribution/date=2018-05-27/4292b1e21c054697a7613e74ba79ece6-0.parquet  to Target:  sample/attribution/date=2018-05-27/4292b1e21c054697a7613e74ba79ece6-0.parquet ...Success\n",
      "upload :  data/attribution/date=2018-05-18/4292b1e21c054697a7613e74ba79ece6-0.parquet  to Target:  sample/attribution/date=2018-05-18/4292b1e21c054697a7613e74ba79ece6-0.parquet ...Success\n",
      "upload :  data/attribution/date=2018-05-11/4292b1e21c054697a7613e74ba79ece6-0.parquet  to Target:  sample/attribution/date=2018-05-11/4292b1e21c054697a7613e74ba79ece6-0.parquet ...Success\n",
      "upload :  data/attribution/date=2018-06-09/4292b1e21c054697a7613e74ba79ece6-0.parquet  to Target:  sample/attribution/date=2018-06-09/4292b1e21c054697a7613e74ba79ece6-0.parquet ...Success\n",
      "upload :  data/attribution/date=2018-05-16/4292b1e21c054697a7613e74ba79ece6-0.parquet  to Target:  sample/attribution/date=2018-05-16/4292b1e21c054697a7613e74ba79ece6-0.parquet ...Success\n",
      "upload :  data/attribution/date=2018-05-29/4292b1e21c054697a7613e74ba79ece6-0.parquet  to Target:  sample/attribution/date=2018-05-29/4292b1e21c054697a7613e74ba79ece6-0.parquet ...Success\n",
      "upload :  data/attribution/date=2018-06-13/4292b1e21c054697a7613e74ba79ece6-0.parquet  to Target:  sample/attribution/date=2018-06-13/4292b1e21c054697a7613e74ba79ece6-0.parquet ...Success\n",
      "upload :  data/attribution/date=2018-05-05/4292b1e21c054697a7613e74ba79ece6-0.parquet  to Target:  sample/attribution/date=2018-05-05/4292b1e21c054697a7613e74ba79ece6-0.parquet ...Success\n",
      "upload :  data/attribution/date=2018-05-02/4292b1e21c054697a7613e74ba79ece6-0.parquet  to Target:  sample/attribution/date=2018-05-02/4292b1e21c054697a7613e74ba79ece6-0.parquet ...Success\n",
      "upload :  data/attribution/date=2018-05-03/4292b1e21c054697a7613e74ba79ece6-0.parquet  to Target:  sample/attribution/date=2018-05-03/4292b1e21c054697a7613e74ba79ece6-0.parquet ...Success\n",
      "upload :  data/attribution/date=2018-05-04/4292b1e21c054697a7613e74ba79ece6-0.parquet  to Target:  sample/attribution/date=2018-05-04/4292b1e21c054697a7613e74ba79ece6-0.parquet ...Success\n",
      "upload :  data/attribution/date=2018-06-12/4292b1e21c054697a7613e74ba79ece6-0.parquet  to Target:  sample/attribution/date=2018-06-12/4292b1e21c054697a7613e74ba79ece6-0.parquet ...Success\n",
      "upload :  data/attribution/date=2018-05-13/4292b1e21c054697a7613e74ba79ece6-0.parquet  to Target:  sample/attribution/date=2018-05-13/4292b1e21c054697a7613e74ba79ece6-0.parquet ...Success\n",
      "upload :  data/attribution/date=2018-05-14/4292b1e21c054697a7613e74ba79ece6-0.parquet  to Target:  sample/attribution/date=2018-05-14/4292b1e21c054697a7613e74ba79ece6-0.parquet ...Success\n",
      "upload :  data/attribution/date=2018-06-05/4292b1e21c054697a7613e74ba79ece6-0.parquet  to Target:  sample/attribution/date=2018-06-05/4292b1e21c054697a7613e74ba79ece6-0.parquet ...Success\n",
      "upload :  data/attribution/date=2018-05-22/4292b1e21c054697a7613e74ba79ece6-0.parquet  to Target:  sample/attribution/date=2018-05-22/4292b1e21c054697a7613e74ba79ece6-0.parquet ...Success\n",
      "upload :  data/attribution/date=2018-05-25/4292b1e21c054697a7613e74ba79ece6-0.parquet  to Target:  sample/attribution/date=2018-05-25/4292b1e21c054697a7613e74ba79ece6-0.parquet ...Success\n",
      "upload :  data/attribution/date=2018-06-02/4292b1e21c054697a7613e74ba79ece6-0.parquet  to Target:  sample/attribution/date=2018-06-02/4292b1e21c054697a7613e74ba79ece6-0.parquet ...Success\n",
      "upload :  data/attribution/date=2018-06-03/4292b1e21c054697a7613e74ba79ece6-0.parquet  to Target:  sample/attribution/date=2018-06-03/4292b1e21c054697a7613e74ba79ece6-0.parquet ...Success\n",
      "upload :  data/attribution/date=2018-05-24/4292b1e21c054697a7613e74ba79ece6-0.parquet  to Target:  sample/attribution/date=2018-05-24/4292b1e21c054697a7613e74ba79ece6-0.parquet ...Success\n",
      "upload :  data/attribution/date=2018-05-23/4292b1e21c054697a7613e74ba79ece6-0.parquet  to Target:  sample/attribution/date=2018-05-23/4292b1e21c054697a7613e74ba79ece6-0.parquet ...Success\n",
      "upload :  data/attribution/date=2018-06-04/4292b1e21c054697a7613e74ba79ece6-0.parquet  to Target:  sample/attribution/date=2018-06-04/4292b1e21c054697a7613e74ba79ece6-0.parquet ...Success\n",
      "upload :  data/attribution/date=2018-05-15/4292b1e21c054697a7613e74ba79ece6-0.parquet  to Target:  sample/attribution/date=2018-05-15/4292b1e21c054697a7613e74ba79ece6-0.parquet ...Success\n",
      "upload :  data/attribution/date=2018-05-12/4292b1e21c054697a7613e74ba79ece6-0.parquet  to Target:  sample/attribution/date=2018-05-12/4292b1e21c054697a7613e74ba79ece6-0.parquet ...Success\n",
      "upload :  data/attribution/date=__HIVE_DEFAULT_PARTITION__/4292b1e21c054697a7613e74ba79ece6-0.parquet  to Target:  sample/attribution/date=__HIVE_DEFAULT_PARTITION__/4292b1e21c054697a7613e74ba79ece6-0.parquet ...Success\n",
      "upload :  data/attribution/date=2018-05-30/4292b1e21c054697a7613e74ba79ece6-0.parquet  to Target:  sample/attribution/date=2018-05-30/4292b1e21c054697a7613e74ba79ece6-0.parquet ...Success\n",
      "upload :  data/attribution/date=2018-05-08/4292b1e21c054697a7613e74ba79ece6-0.parquet  to Target:  sample/attribution/date=2018-05-08/4292b1e21c054697a7613e74ba79ece6-0.parquet ...Success\n",
      "upload :  data/attribution/date=2018-06-10/4292b1e21c054697a7613e74ba79ece6-0.parquet  to Target:  sample/attribution/date=2018-06-10/4292b1e21c054697a7613e74ba79ece6-0.parquet ...Success\n",
      "upload :  data/attribution/date=2018-05-06/4292b1e21c054697a7613e74ba79ece6-0.parquet  to Target:  sample/attribution/date=2018-05-06/4292b1e21c054697a7613e74ba79ece6-0.parquet ...Success\n",
      "upload :  data/attribution/date=2018-05-07/4292b1e21c054697a7613e74ba79ece6-0.parquet  to Target:  sample/attribution/date=2018-05-07/4292b1e21c054697a7613e74ba79ece6-0.parquet ...Success\n",
      "upload :  data/attribution/date=2018-05-09/4292b1e21c054697a7613e74ba79ece6-0.parquet  to Target:  sample/attribution/date=2018-05-09/4292b1e21c054697a7613e74ba79ece6-0.parquet ...Success\n",
      "upload :  data/attribution/date=2018-06-11/4292b1e21c054697a7613e74ba79ece6-0.parquet  to Target:  sample/attribution/date=2018-06-11/4292b1e21c054697a7613e74ba79ece6-0.parquet ...Success\n",
      "upload :  data/attribution/date=2018-05-31/4292b1e21c054697a7613e74ba79ece6-0.parquet  to Target:  sample/attribution/date=2018-05-31/4292b1e21c054697a7613e74ba79ece6-0.parquet ...Success\n"
     ]
    }
   ],
   "source": [
    "upload_folder_to_s3(s3bucket, \"data/attribution\", \"sample/attribution\")"
   ],
   "metadata": {
    "collapsed": false,
    "pycharm": {
     "name": "#%%\n"
    }
   }
  },
  {
   "cell_type": "code",
   "execution_count": 261,
   "outputs": [
    {
     "name": "stdout",
     "output_type": "stream",
     "text": [
      "Uploading results to s3 initiated...\n",
      "Local Source: data/event\n",
      "total 0\n",
      "drwxr-xr-x  4 jmjeon  staff  128 Oct  2 17:24 date=2018-06-09\n",
      "drwxr-xr-x  4 jmjeon  staff  128 Oct  2 17:24 date=2018-05-01\n",
      "drwxr-xr-x  4 jmjeon  staff  128 Oct  2 17:24 date=2018-06-02\n",
      "drwxr-xr-x  4 jmjeon  staff  128 Oct  2 17:24 date=2018-06-03\n",
      "drwxr-xr-x  4 jmjeon  staff  128 Oct  2 17:24 date=2018-05-13\n",
      "drwxr-xr-x  4 jmjeon  staff  128 Oct  2 17:24 date=2018-06-05\n",
      "drwxr-xr-x  4 jmjeon  staff  128 Oct  2 17:24 date=2018-05-25\n",
      "drwxr-xr-x  4 jmjeon  staff  128 Oct  2 17:24 date=__HIVE_DEFAULT_PARTITION__\n",
      "drwxr-xr-x  4 jmjeon  staff  128 Oct  2 17:24 date=2018-05-09\n",
      "drwxr-xr-x  4 jmjeon  staff  128 Oct  2 17:24 date=2018-05-24\n",
      "drwxr-xr-x  4 jmjeon  staff  128 Oct  2 17:24 date=2018-05-22\n",
      "drwxr-xr-x  4 jmjeon  staff  128 Oct  2 17:24 date=2018-05-23\n",
      "drwxr-xr-x  4 jmjeon  staff  128 Oct  2 17:24 date=2018-05-31\n",
      "drwxr-xr-x  4 jmjeon  staff  128 Oct  2 17:24 date=2018-06-01\n",
      "drwxr-xr-x  4 jmjeon  staff  128 Oct  2 17:24 date=2018-05-20\n",
      "drwxr-xr-x  4 jmjeon  staff  128 Oct  2 17:24 date=2018-05-21\n",
      "drwxr-xr-x  4 jmjeon  staff  128 Oct  2 17:24 date=2018-05-28\n",
      "drwxr-xr-x  4 jmjeon  staff  128 Oct  2 17:24 date=2018-05-11\n",
      "drwxr-xr-x  4 jmjeon  staff  128 Oct  2 17:24 date=2018-05-12\n",
      "drwxr-xr-x  4 jmjeon  staff  128 Oct  2 17:24 date=2018-05-16\n",
      "drwxr-xr-x  4 jmjeon  staff  128 Oct  2 17:24 date=2018-06-13\n",
      "drwxr-xr-x  4 jmjeon  staff  128 Oct  2 17:24 date=2018-06-12\n",
      "drwxr-xr-x  4 jmjeon  staff  128 Oct  2 17:24 date=2018-05-14\n",
      "drwxr-xr-x  4 jmjeon  staff  128 Oct  2 17:24 date=2018-05-15\n",
      "drwxr-xr-x  4 jmjeon  staff  128 Oct  2 17:24 date=2018-05-07\n",
      "drwxr-xr-x  4 jmjeon  staff  128 Oct  2 17:24 date=2018-05-08\n",
      "drwxr-xr-x  4 jmjeon  staff  128 Oct  2 17:24 date=2018-05-04\n",
      "drwxr-xr-x  4 jmjeon  staff  128 Oct  2 17:24 date=2018-05-02\n",
      "drwxr-xr-x  4 jmjeon  staff  128 Oct  2 17:24 date=2018-05-03\n",
      "drwxr-xr-x  4 jmjeon  staff  128 Oct  2 17:24 date=2018-05-10\n",
      "drwxr-xr-x  4 jmjeon  staff  128 Oct  2 17:24 date=2018-06-04\n",
      "drwxr-xr-x  4 jmjeon  staff  128 Oct  2 17:24 date=2018-06-11\n",
      "drwxr-xr-x  4 jmjeon  staff  128 Oct  2 17:24 date=2018-06-07\n",
      "drwxr-xr-x  4 jmjeon  staff  128 Oct  2 17:24 date=2018-06-08\n",
      "drwxr-xr-x  4 jmjeon  staff  128 Oct  2 17:24 date=2018-06-10\n",
      "drwxr-xr-x  4 jmjeon  staff  128 Oct  2 17:24 date=2018-06-06\n",
      "drwxr-xr-x  4 jmjeon  staff  128 Oct  2 17:24 date=2018-05-29\n",
      "drwxr-xr-x  4 jmjeon  staff  128 Oct  2 17:24 date=2018-05-30\n",
      "drwxr-xr-x  4 jmjeon  staff  128 Oct  2 17:24 date=2018-05-26\n",
      "drwxr-xr-x  4 jmjeon  staff  128 Oct  2 17:24 date=2018-05-27\n",
      "drwxr-xr-x  4 jmjeon  staff  128 Oct  2 17:24 date=2018-05-06\n",
      "drwxr-xr-x  4 jmjeon  staff  128 Oct  2 17:24 date=2018-05-05\n",
      "drwxr-xr-x  4 jmjeon  staff  128 Oct  2 17:24 date=2018-05-18\n",
      "drwxr-xr-x  4 jmjeon  staff  128 Oct  2 17:24 date=2018-05-17\n",
      "\n",
      "data/event/date=2018-06-09:\n",
      "total 56080\n",
      "-rw-r--r--  1 jmjeon  staff  14352676 Oct  2 17:24 521d77e8dd2f4ca091982c1f6a1ddab1-0.parquet\n",
      "-rw-r--r--  1 jmjeon  staff  14352684 Oct  2 17:23 68cc3ceb7cff4cb48cffe2c628aacecb-0.parquet\n",
      "\n",
      "data/event/date=2018-05-01:\n",
      "total 704\n",
      "-rw-r--r--  1 jmjeon  staff  179505 Oct  2 17:24 521d77e8dd2f4ca091982c1f6a1ddab1-0.parquet\n",
      "-rw-r--r--  1 jmjeon  staff  179505 Oct  2 17:23 68cc3ceb7cff4cb48cffe2c628aacecb-0.parquet\n",
      "\n",
      "data/event/date=2018-06-02:\n",
      "total 56512\n",
      "-rw-r--r--  1 jmjeon  staff  14464556 Oct  2 17:24 521d77e8dd2f4ca091982c1f6a1ddab1-0.parquet\n",
      "-rw-r--r--  1 jmjeon  staff  14464556 Oct  2 17:23 68cc3ceb7cff4cb48cffe2c628aacecb-0.parquet\n",
      "\n",
      "data/event/date=2018-06-03:\n",
      "total 56640\n",
      "-rw-r--r--  1 jmjeon  staff  14497663 Oct  2 17:24 521d77e8dd2f4ca091982c1f6a1ddab1-0.parquet\n",
      "-rw-r--r--  1 jmjeon  staff  14497663 Oct  2 17:23 68cc3ceb7cff4cb48cffe2c628aacecb-0.parquet\n",
      "\n",
      "data/event/date=2018-05-13:\n",
      "total 79424\n",
      "-rw-r--r--  1 jmjeon  staff  20329990 Oct  2 17:24 521d77e8dd2f4ca091982c1f6a1ddab1-0.parquet\n",
      "-rw-r--r--  1 jmjeon  staff  20329990 Oct  2 17:23 68cc3ceb7cff4cb48cffe2c628aacecb-0.parquet\n",
      "\n",
      "data/event/date=2018-06-05:\n",
      "total 57776\n",
      "-rw-r--r--  1 jmjeon  staff  14788097 Oct  2 17:24 521d77e8dd2f4ca091982c1f6a1ddab1-0.parquet\n",
      "-rw-r--r--  1 jmjeon  staff  14788097 Oct  2 17:23 68cc3ceb7cff4cb48cffe2c628aacecb-0.parquet\n",
      "\n",
      "data/event/date=2018-05-25:\n",
      "total 134144\n",
      "-rw-r--r--  1 jmjeon  staff  34340676 Oct  2 17:24 521d77e8dd2f4ca091982c1f6a1ddab1-0.parquet\n",
      "-rw-r--r--  1 jmjeon  staff  34340696 Oct  2 17:23 68cc3ceb7cff4cb48cffe2c628aacecb-0.parquet\n",
      "\n",
      "data/event/date=__HIVE_DEFAULT_PARTITION__:\n",
      "total 288\n",
      "-rw-r--r--  1 jmjeon  staff  72415 Oct  2 17:24 521d77e8dd2f4ca091982c1f6a1ddab1-0.parquet\n",
      "-rw-r--r--  1 jmjeon  staff  72415 Oct  2 17:23 68cc3ceb7cff4cb48cffe2c628aacecb-0.parquet\n",
      "\n",
      "data/event/date=2018-05-09:\n",
      "total 65728\n",
      "-rw-r--r--  1 jmjeon  staff  16825896 Oct  2 17:24 521d77e8dd2f4ca091982c1f6a1ddab1-0.parquet\n",
      "-rw-r--r--  1 jmjeon  staff  16825868 Oct  2 17:23 68cc3ceb7cff4cb48cffe2c628aacecb-0.parquet\n",
      "\n",
      "data/event/date=2018-05-24:\n",
      "total 118288\n",
      "-rw-r--r--  1 jmjeon  staff  29676809 Oct  2 17:24 521d77e8dd2f4ca091982c1f6a1ddab1-0.parquet\n",
      "-rw-r--r--  1 jmjeon  staff  29676787 Oct  2 17:23 68cc3ceb7cff4cb48cffe2c628aacecb-0.parquet\n",
      "\n",
      "data/event/date=2018-05-22:\n",
      "total 416\n",
      "-rw-r--r--  1 jmjeon  staff  105342 Oct  2 17:24 521d77e8dd2f4ca091982c1f6a1ddab1-0.parquet\n",
      "-rw-r--r--  1 jmjeon  staff  105342 Oct  2 17:23 68cc3ceb7cff4cb48cffe2c628aacecb-0.parquet\n",
      "\n",
      "data/event/date=2018-05-23:\n",
      "total 185904\n",
      "-rw-r--r--  1 jmjeon  staff  47166671 Oct  2 17:24 521d77e8dd2f4ca091982c1f6a1ddab1-0.parquet\n",
      "-rw-r--r--  1 jmjeon  staff  47166671 Oct  2 17:23 68cc3ceb7cff4cb48cffe2c628aacecb-0.parquet\n",
      "\n",
      "data/event/date=2018-05-31:\n",
      "total 85000\n",
      "-rw-r--r--  1 jmjeon  staff  21237580 Oct  2 17:24 521d77e8dd2f4ca091982c1f6a1ddab1-0.parquet\n",
      "-rw-r--r--  1 jmjeon  staff  21237602 Oct  2 17:23 68cc3ceb7cff4cb48cffe2c628aacecb-0.parquet\n",
      "\n",
      "data/event/date=2018-06-01:\n",
      "total 62560\n",
      "-rw-r--r--  1 jmjeon  staff  16012050 Oct  2 17:24 521d77e8dd2f4ca091982c1f6a1ddab1-0.parquet\n",
      "-rw-r--r--  1 jmjeon  staff  16012050 Oct  2 17:23 68cc3ceb7cff4cb48cffe2c628aacecb-0.parquet\n",
      "\n",
      "data/event/date=2018-05-20:\n",
      "total 440\n",
      "-rw-r--r--  1 jmjeon  staff  89282 Oct  2 17:24 521d77e8dd2f4ca091982c1f6a1ddab1-0.parquet\n",
      "-rw-r--r--  1 jmjeon  staff  89282 Oct  2 17:23 68cc3ceb7cff4cb48cffe2c628aacecb-0.parquet\n",
      "\n",
      "data/event/date=2018-05-21:\n",
      "total 330584\n",
      "-rw-r--r--  1 jmjeon  staff  71516496 Oct  2 17:24 521d77e8dd2f4ca091982c1f6a1ddab1-0.parquet\n",
      "-rw-r--r--  1 jmjeon  staff  71516512 Oct  2 17:23 68cc3ceb7cff4cb48cffe2c628aacecb-0.parquet\n",
      "\n",
      "data/event/date=2018-05-28:\n",
      "total 330672\n",
      "-rw-r--r--  1 jmjeon  staff  74467273 Oct  2 17:24 521d77e8dd2f4ca091982c1f6a1ddab1-0.parquet\n",
      "-rw-r--r--  1 jmjeon  staff  74467257 Oct  2 17:23 68cc3ceb7cff4cb48cffe2c628aacecb-0.parquet\n",
      "\n",
      "data/event/date=2018-05-11:\n",
      "total 37464\n",
      "-rw-r--r--  1 jmjeon  staff  9534589 Oct  2 17:24 521d77e8dd2f4ca091982c1f6a1ddab1-0.parquet\n",
      "-rw-r--r--  1 jmjeon  staff  9534615 Oct  2 17:23 68cc3ceb7cff4cb48cffe2c628aacecb-0.parquet\n",
      "\n",
      "data/event/date=2018-05-12:\n",
      "total 80872\n",
      "-rw-r--r--  1 jmjeon  staff  20213718 Oct  2 17:24 521d77e8dd2f4ca091982c1f6a1ddab1-0.parquet\n",
      "-rw-r--r--  1 jmjeon  staff  20213690 Oct  2 17:23 68cc3ceb7cff4cb48cffe2c628aacecb-0.parquet\n",
      "\n",
      "data/event/date=2018-05-16:\n",
      "total 157168\n",
      "-rw-r--r--  1 jmjeon  staff  39984485 Oct  2 17:24 521d77e8dd2f4ca091982c1f6a1ddab1-0.parquet\n",
      "-rw-r--r--  1 jmjeon  staff  39984485 Oct  2 17:23 68cc3ceb7cff4cb48cffe2c628aacecb-0.parquet\n",
      "\n",
      "data/event/date=2018-06-13:\n",
      "total 768\n",
      "-rw-r--r--  1 jmjeon  staff  165142 Oct  2 17:24 521d77e8dd2f4ca091982c1f6a1ddab1-0.parquet\n",
      "-rw-r--r--  1 jmjeon  staff  165142 Oct  2 17:23 68cc3ceb7cff4cb48cffe2c628aacecb-0.parquet\n",
      "\n",
      "data/event/date=2018-06-12:\n",
      "total 59872\n",
      "-rw-r--r--  1 jmjeon  staff  14284229 Oct  2 17:24 521d77e8dd2f4ca091982c1f6a1ddab1-0.parquet\n",
      "-rw-r--r--  1 jmjeon  staff  14284229 Oct  2 17:23 68cc3ceb7cff4cb48cffe2c628aacecb-0.parquet\n",
      "\n",
      "data/event/date=2018-05-14:\n",
      "total 122808\n",
      "-rw-r--r--  1 jmjeon  staff  30921581 Oct  2 17:24 521d77e8dd2f4ca091982c1f6a1ddab1-0.parquet\n",
      "-rw-r--r--  1 jmjeon  staff  30921581 Oct  2 17:23 68cc3ceb7cff4cb48cffe2c628aacecb-0.paDest  S3path:rquet\n",
      "\n",
      "data/event/date=2018-05-15:\n",
      "total 156368\n",
      "-rw-r--r--  1 jmjeon  staff  39695563 Oct  2 17:24 521d77e8dd2f4ca091982c1f6a1ddab1-0.parquet\n",
      "-rw-r--r--  1 jmjeon  staff  39695563 Oct  2 17:23 68cc3ceb7cff4cb48cffe2c628aacecb-0.parquet\n",
      "\n",
      "data/event/date=2018-05-07:\n",
      "total 82112\n",
      "-rw-r--r--  1 jmjeon  staff  20147035 Oct  2 17:24 521d77e8dd2f4ca091982c1f6a1ddab1-0.parquet\n",
      "-rw-r--r--  1 jmjeon  staff  20147055 Oct  2 17:23 68cc3ceb7cff4cb48cffe2c628aacecb-0.parquet\n",
      "\n",
      "data/event/date=2018-05-08:\n",
      "total 81456\n",
      "-rw-r--r--  1 jmjeon  staff  20175658 Oct  2 17:24 521d77e8dd2f4ca091982c1f6a1ddab1-0.parquet\n",
      "-rw-r--r--  1 jmjeon  staff  20175658 Oct  2 17:23 68cc3ceb7cff4cb48cffe2c628aacecb-0.parquet\n",
      "\n",
      "data/event/date=2018-05-04:\n",
      "total 83456\n",
      "-rw-r--r--  1 jmjeon  staff  20324066 Oct  2 17:24 521d77e8dd2f4ca091982c1f6a1ddab1-0.parquet\n",
      "-rw-r--r--  1 jmjeon  staff  20324074 Oct  2 17:23 68cc3ceb7cff4cb48cffe2c628aacecb-0.parquet\n",
      "\n",
      "data/event/date=2018-05-02:\n",
      "total 79952\n",
      "-rw-r--r--  1 jmjeon  staff  1942121 sample/event\n",
      "3 Oct  2 17:24 521d77e8dd2f4ca091982c1f6a1ddab1-0.parquet\n",
      "-rw-r--r--  1 jmjeon  staff  19421227 Oct  2 17:23 68cc3ceb7cff4cb48cffe2c628aacecb-0.parquet\n",
      "\n",
      "data/event/date=2018-05-03:\n",
      "total 81520\n",
      "-rw-r--r--  1 jmjeon  staff  19824902 Oct  2 17:24 521d77e8dd2f4ca091982c1f6a1ddab1-0.parquet\n",
      "-rw-r--r--  1 jmjeon  staff  19824930 Oct  2 17:23 68cc3ceb7cff4cb48cffe2c628aacecb-0.parquet\n",
      "\n",
      "data/event/date=2018-05-10:\n",
      "total 75872\n",
      "-rw-r--r--  1 jmjeon  staff  18461122 Oct  2 17:24 521d77e8dd2f4ca091982c1f6a1ddab1-0.parquet\n",
      "-rw-r--r--  1 jmjeon  staff  18461177 Oct  2 17:23 68cc3ceb7cff4cb48cffe2c628aacecb-0.parquet\n",
      "\n",
      "data/event/date=2018-06-04:\n",
      "total 71888\n",
      "-rw-r--r--  1 jmjeon  staff  17556964 Oct  2 17:24 521d77e8dd2f4ca091982c1f6a1ddab1-0.parquet\n",
      "-rw-r--r--  1 jmjeon  staff  17556964 Oct  2 17:23 68cc3ceb7cff4cb48cffe2c628aacecb-0.parquet\n",
      "\n",
      "data/event/date=2018-06-11:\n",
      "total 60064\n",
      "-rw-r--r--  1 jmjeon  staff  14339254 Oct  2 17:24 521d77e8dd2f4ca091982c1f6a1ddab1-0.parquet\n",
      "-rw-r--r--  1 jmjeon  staff  14339254 Oct  2 17:23 68cc3ceb7cff4cb48cffe2c628aacecb-0.parquet\n",
      "\n",
      "data/event/date=2018-06-07:\n",
      "total 60480\n",
      "-rw-r--r--  1 jmjeon  staff  14443146 Oct  2 17:24 521d77e8dd2f4ca091982c1f6a1ddab1-0.parquet\n",
      "-rw-r--r--  1 jmjeon  staff  14443006 Oct  2 17:23 68cc3ceb7cff4cb48cffe2c628aacecb-0.parquet\n",
      "\n",
      "data/event/date=2018-06-08:\n",
      "total 60304\n",
      "-rw-r--r--  1 jmjeon  staff  14445503 Oct  2 17:24 521d77e8dd2f4ca091982c1f6a1ddab1-0.parquet\n",
      "-rw-r--r--  1 jmjeon  staff  14445503 Oct  2 17:23 68cc3ceb7cff4cb48cffe2c628aacecb-0.parquet\n",
      "\n",
      "data/event/date=2018-06-10:\n",
      "total 57568\n",
      "-rw-r--r--  1 jmjeon  staff  14456783 Oct  2 17:24 521d77e8dd2f4ca091982c1f6a1ddab1-0.parquet\n",
      "-rw-r--r--  1 jmjeon  staff  14456783 Oct  2 17:23 68cc3ceb7cff4cb48cffe2c628aacecb-0.parquet\n",
      "\n",
      "data/event/date=2018-06-06:\n",
      "total 61088\n",
      "-rw-r--r--  1 jmjeon  staff  14655599 Oct  2 17:24 521d77e8dd2f4ca091982c1f6a1ddab1-0.parquet\n",
      "-rw-r--r--  1 jmjeon  staff  14655599 Oct  2 17:23 68cc3ceb7cff4cb48cffe2c628aacecb-0.parquet\n",
      "\n",
      "data/event/date=2018-05-29:\n",
      "total 102040\n",
      "-rw-r--r--  1 jmjeon  staff  25283823 Oct  2 17:24 521d77e8dd2f4ca091982c1f6a1ddab1-0.parquet\n",
      "-rw-r--r--  1 jmjeon  staff  25283823 Oct  2 17:23 68cc3ceb7cff4cb48cffe2c628aacecb-0.parquet\n",
      "\n",
      "data/event/date=2018-05-30:\n",
      "total 92352\n",
      "-rw-r--r--  1 jmjeon  staff  22793444 Oct  2 17:24 521d77e8dd2f4ca091982c1f6a1ddab1-0.parquet\n",
      "-rw-r--r--  1 jmjeon  staff  22793444 Oct  2 17:23 68cc3ceb7cff4cb48cffe2c628aacecb-0.parquet\n",
      "\n",
      "data/event/date=2018-05-26:\n",
      "total 86600\n",
      "-rw-r--r--  1 jmjeon  staff  21477632 Oct  2 17:24 521d77e8dd2f4ca091982c1f6a1ddab1-0.parquet\n",
      "-rw-r--r--  1 jmjeon  staff  21477632 Oct  2 17:23 68cc3ceb7cff4cb48cffe2c628aacecb-0.parquet\n",
      "\n",
      "data/event/date=2018-05-27:\n",
      "total 88992\n",
      "-rw-r--r--  1 jmjeon  staff  21843733 Oct  2 17:24 521d77e8dd2f4ca091982c1f6a1ddab1-0.parquet\n",
      "-rw-r--r--  1 jmjeon  staff  21843733 Oct  2 17:23 68cc3ceb7cff4cb48cffe2c628aacecb-0.parquet\n",
      "\n",
      "data/event/date=2018-05-06:\n",
      "total 83152\n",
      "-rw-r--r--  1 jmjeon  staff  20379289 Oct  2 17:24 521d77e8dd2f4ca091982c1f6a1ddab1-0.parquet\n",
      "-rw-r--r--  1 jmjeon  staff  20379289 Oct  2 17:23 68cc3ceb7cff4cb48cffe2c628aacecb-0.parquet\n",
      "\n",
      "data/event/date=2018-05-05:\n",
      "total 83760\n",
      "-rw-r--r--  1 jmjeon  staff  20402043 Oct  2 17:24 521d77e8dd2f4ca091982c1f6a1ddab1-0.parquet\n",
      "-rw-r--r--  1 jmjeon  staff  20402043 Oct  2 17:23 68cc3ceb7cff4cb48cffe2c628aacecb-0.parquet\n",
      "\n",
      "data/event/date=2018-05-18:\n",
      "total 122080\n",
      "-rw-r--r--  1 jmjeon  staff  30212458 Oct  2 17:24 521d77e8dd2f4ca091982c1f6a1ddab1-0.parquet\n",
      "-rw-r--r--  1 jmjeon  staff  30212458 Oct  2 17:23 68cc3ceb7cff4cb48cffe2c628aacecb-0.parquet\n",
      "\n",
      "data/event/date=2018-05-17:\n",
      "total 197408\n",
      "-rw-r--r--  1 jmjeon  staff  50392647 Oct  2 17:24 521d77e8dd2f4ca091982c1f6a1ddab1-0.parquet\n",
      "-rw-r--r--  1 jmjeon  staff  50392647 Oct  2 17:23 68cc3ceb7cff4cb48cffe2c628aacecb-0.parquet\n",
      "upload :  data/event/date=2018-05-17/521d77e8dd2f4ca091982c1f6a1ddab1-0.parquet  to Target:  sample/event/date=2018-05-17/521d77e8dd2f4ca091982c1f6a1ddab1-0.parquet ...Success\n",
      "upload :  data/event/date=2018-05-17/68cc3ceb7cff4cb48cffe2c628aacecb-0.parquet  to Target:  sample/event/date=2018-05-17/68cc3ceb7cff4cb48cffe2c628aacecb-0.parquet ...Success\n",
      "upload :  data/event/date=2018-05-28/521d77e8dd2f4ca091982c1f6a1ddab1-0.parquet  to Target:  sample/event/date=2018-05-28/521d77e8dd2f4ca091982c1f6a1ddab1-0.parquet ...Success\n",
      "upload :  data/event/date=2018-05-28/68cc3ceb7cff4cb48cffe2c628aacecb-0.parquet  to Target:  sample/event/date=2018-05-28/68cc3ceb7cff4cb48cffe2c628aacecb-0.parquet ...Success\n",
      "upload :  data/event/date=2018-05-10/521d77e8dd2f4ca091982c1f6a1ddab1-0.parquet  to Target:  sample/event/date=2018-05-10/521d77e8dd2f4ca091982c1f6a1ddab1-0.parquet ...Success\n",
      "upload :  data/event/date=2018-05-10/68cc3ceb7cff4cb48cffe2c628aacecb-0.parquet  to Target:  sample/event/date=2018-05-10/68cc3ceb7cff4cb48cffe2c628aacecb-0.parquet ...Success\n",
      "upload :  data/event/date=2018-06-08/521d77e8dd2f4ca091982c1f6a1ddab1-0.parquet  to Target:  sample/event/date=2018-06-08/521d77e8dd2f4ca091982c1f6a1ddab1-0.parquet ...Success\n",
      "upload :  data/event/date=2018-06-08/68cc3ceb7cff4cb48cffe2c628aacecb-0.parquet  to Target:  sample/event/date=2018-06-08/68cc3ceb7cff4cb48cffe2c628aacecb-0.parquet ...Success\n",
      "upload :  data/event/date=2018-05-26/521d77e8dd2f4ca091982c1f6a1ddab1-0.parquet  to Target:  sample/event/date=2018-05-26/521d77e8dd2f4ca091982c1f6a1ddab1-0.parquet ...Success\n",
      "upload :  data/event/date=2018-05-26/68cc3ceb7cff4cb48cffe2c628aacecb-0.parquet  to Target:  sample/event/date=2018-05-26/68cc3ceb7cff4cb48cffe2c628aacecb-0.parquet ...Success\n",
      "upload :  data/event/date=2018-06-01/521d77e8dd2f4ca091982c1f6a1ddab1-0.parquet  to Target:  sample/event/date=2018-06-01/521d77e8dd2f4ca091982c1f6a1ddab1-0.parquet ...Success\n",
      "upload :  data/event/date=2018-06-01/68cc3ceb7cff4cb48cffe2c628aacecb-0.parquet  to Target:  sample/event/date=2018-06-01/68cc3ceb7cff4cb48cffe2c628aacecb-0.parquet ...Success\n",
      "upload :  data/event/date=2018-06-06/521d77e8dd2f4ca091982c1f6a1ddab1-0.parquet  to Target:  sample/event/date=2018-06-06/521d77e8dd2f4ca091982c1f6a1ddab1-0.parquet ...Success\n",
      "upload :  data/event/date=2018-06-06/68cc3ceb7cff4cb48cffe2c628aacecb-0.parquet  to Target:  sample/event/date=2018-06-06/68cc3ceb7cff4cb48cffe2c628aacecb-0.parquet ...Success\n",
      "upload :  data/event/date=2018-05-21/521d77e8dd2f4ca091982c1f6a1ddab1-0.parquet  to Target:  sample/event/date=2018-05-21/521d77e8dd2f4ca091982c1f6a1ddab1-0.parquet ...Success\n",
      "upload :  data/event/date=2018-05-21/68cc3ceb7cff4cb48cffe2c628aacecb-0.parquet  to Target:  sample/event/date=2018-05-21/68cc3ceb7cff4cb48cffe2c628aacecb-0.parquet ...Success\n",
      "upload :  data/event/date=2018-05-20/521d77e8dd2f4ca091982c1f6a1ddab1-0.parquet  to Target:  sample/event/date=2018-05-20/521d77e8dd2f4ca091982c1f6a1ddab1-0.parquet ...Success\n",
      "upload :  data/event/date=2018-05-20/68cc3ceb7cff4cb48cffe2c628aacecb-0.parquet  to Target:  sample/event/date=2018-05-20/68cc3ceb7cff4cb48cffe2c628aacecb-0.parquet ...Success\n",
      "upload :  data/event/date=2018-06-07/521d77e8dd2f4ca091982c1f6a1ddab1-0.parquet  to Target:  sample/event/date=2018-06-07/521d77e8dd2f4ca091982c1f6a1ddab1-0.parquet ...Success\n",
      "upload :  data/event/date=2018-06-07/68cc3ceb7cff4cb48cffe2c628aacecb-0.parquet  to Target:  sample/event/date=2018-06-07/68cc3ceb7cff4cb48cffe2c628aacecb-0.parquet ...Success\n",
      "upload :  data/event/date=2018-05-27/521d77e8dd2f4ca091982c1f6a1ddab1-0.parquet  to Target:  sample/event/date=2018-05-27/521d77e8dd2f4ca091982c1f6a1ddab1-0.parquet ...Success\n",
      "upload :  data/event/date=2018-05-27/68cc3ceb7cff4cb48cffe2c628aacecb-0.parquet  to Target:  sample/event/date=2018-05-27/68cc3ceb7cff4cb48cffe2c628aacecb-0.parquet ...Success\n",
      "upload :  data/event/date=2018-05-18/521d77e8dd2f4ca091982c1f6a1ddab1-0.parquet  to Target:  sample/event/date=2018-05-18/521d77e8dd2f4ca091982c1f6a1ddab1-0.parquet ...Success\n",
      "upload :  data/event/date=2018-05-18/68cc3ceb7cff4cb48cffe2c628aacecb-0.parquet  to Target:  sample/event/date=2018-05-18/68cc3ceb7cff4cb48cffe2c628aacecb-0.parquet ...Success\n",
      "upload :  data/event/date=2018-05-11/521d77e8dd2f4ca091982c1f6a1ddab1-0.parquet  to Target:  sample/event/date=2018-05-11/521d77e8dd2f4ca091982c1f6a1ddab1-0.parquet ...Success\n",
      "upload :  data/event/date=2018-05-11/68cc3ceb7cff4cb48cffe2c628aacecb-0.parquet  to Target:  sample/event/date=2018-05-11/68cc3ceb7cff4cb48cffe2c628aacecb-0.parquet ...Success\n",
      "upload :  data/event/date=2018-06-09/521d77e8dd2f4ca091982c1f6a1ddab1-0.parquet  to Target:  sample/event/date=2018-06-09/521d77e8dd2f4ca091982c1f6a1ddab1-0.parquet ...Success\n",
      "upload :  data/event/date=2018-06-09/68cc3ceb7cff4cb48cffe2c628aacecb-0.parquet  to Target:  sample/event/date=2018-06-09/68cc3ceb7cff4cb48cffe2c628aacecb-0.parquet ...Success\n",
      "upload :  data/event/date=2018-05-16/521d77e8dd2f4ca091982c1f6a1ddab1-0.parquet  to Target:  sample/event/date=2018-05-16/521d77e8dd2f4ca091982c1f6a1ddab1-0.parquet ...Success\n",
      "upload :  data/event/date=2018-05-16/68cc3ceb7cff4cb48cffe2c628aacecb-0.parquet  to Target:  sample/event/date=2018-05-16/68cc3ceb7cff4cb48cffe2c628aacecb-0.parquet ...Success\n",
      "upload :  data/event/date=2018-05-29/521d77e8dd2f4ca091982c1f6a1ddab1-0.parquet  to Target:  sample/event/date=2018-05-29/521d77e8dd2f4ca091982c1f6a1ddab1-0.parquet ...Success\n",
      "upload :  data/event/date=2018-05-29/68cc3ceb7cff4cb48cffe2c628aacecb-0.parquet  to Target:  sample/event/date=2018-05-29/68cc3ceb7cff4cb48cffe2c628aacecb-0.parquet ...Success\n",
      "upload :  data/event/date=2018-06-13/521d77e8dd2f4ca091982c1f6a1ddab1-0.parquet  to Target:  sample/event/date=2018-06-13/521d77e8dd2f4ca091982c1f6a1ddab1-0.parquet ...Success\n",
      "upload :  data/event/date=2018-06-13/68cc3ceb7cff4cb48cffe2c628aacecb-0.parquet  to Target:  sample/event/date=2018-06-13/68cc3ceb7cff4cb48cffe2c628aacecb-0.parquet ...Success\n",
      "upload :  data/event/date=2018-05-05/521d77e8dd2f4ca091982c1f6a1ddab1-0.parquet  to Target:  sample/event/date=2018-05-05/521d77e8dd2f4ca091982c1f6a1ddab1-0.parquet ...Success\n",
      "upload :  data/event/date=2018-05-05/68cc3ceb7cff4cb48cffe2c628aacecb-0.parquet  to Target:  sample/event/date=2018-05-05/68cc3ceb7cff4cb48cffe2c628aacecb-0.parquet ...Success\n",
      "upload :  data/event/date=2018-05-02/521d77e8dd2f4ca091982c1f6a1ddab1-0.parquet  to Target:  sample/event/date=2018-05-02/521d77e8dd2f4ca091982c1f6a1ddab1-0.parquet ...Success\n",
      "upload :  data/event/date=2018-05-02/68cc3ceb7cff4cb48cffe2c628aacecb-0.parquet  to Target:  sample/event/date=2018-05-02/68cc3ceb7cff4cb48cffe2c628aacecb-0.parquet ...Success\n",
      "upload :  data/event/date=2018-05-03/521d77e8dd2f4ca091982c1f6a1ddab1-0.parquet  to Target:  sample/event/date=2018-05-03/521d77e8dd2f4ca091982c1f6a1ddab1-0.parquet ...Success\n",
      "upload :  data/event/date=2018-05-03/68cc3ceb7cff4cb48cffe2c628aacecb-0.parquet  to Target:  sample/event/date=2018-05-03/68cc3ceb7cff4cb48cffe2c628aacecb-0.parquet ...Success\n",
      "upload :  data/event/date=2018-05-04/521d77e8dd2f4ca091982c1f6a1ddab1-0.parquet  to Target:  sample/event/date=2018-05-04/521d77e8dd2f4ca091982c1f6a1ddab1-0.parquet ...Success\n",
      "upload :  data/event/date=2018-05-04/68cc3ceb7cff4cb48cffe2c628aacecb-0.parquet  to Target:  sample/event/date=2018-05-04/68cc3ceb7cff4cb48cffe2c628aacecb-0.parquet ...Success\n",
      "upload :  data/event/date=2018-06-12/521d77e8dd2f4ca091982c1f6a1ddab1-0.parquet  to Target:  sample/event/date=2018-06-12/521d77e8dd2f4ca091982c1f6a1ddab1-0.parquet ...Success\n",
      "upload :  data/event/date=2018-06-12/68cc3ceb7cff4cb48cffe2c628aacecb-0.parquet  to Target:  sample/event/date=2018-06-12/68cc3ceb7cff4cb48cffe2c628aacecb-0.parquet ...Success\n",
      "upload :  data/event/date=2018-05-13/521d77e8dd2f4ca091982c1f6a1ddab1-0.parquet  to Target:  sample/event/date=2018-05-13/521d77e8dd2f4ca091982c1f6a1ddab1-0.parquet ...Success\n",
      "upload :  data/event/date=2018-05-13/68cc3ceb7cff4cb48cffe2c628aacecb-0.parquet  to Target:  sample/event/date=2018-05-13/68cc3ceb7cff4cb48cffe2c628aacecb-0.parquet ...Success\n",
      "upload :  data/event/date=2018-05-14/521d77e8dd2f4ca091982c1f6a1ddab1-0.parquet  to Target:  sample/event/date=2018-05-14/521d77e8dd2f4ca091982c1f6a1ddab1-0.parquet ...Success\n",
      "upload :  data/event/date=2018-05-14/68cc3ceb7cff4cb48cffe2c628aacecb-0.parquet  to Target:  sample/event/date=2018-05-14/68cc3ceb7cff4cb48cffe2c628aacecb-0.parquet ...Success\n",
      "upload :  data/event/date=2018-06-05/521d77e8dd2f4ca091982c1f6a1ddab1-0.parquet  to Target:  sample/event/date=2018-06-05/521d77e8dd2f4ca091982c1f6a1ddab1-0.parquet ...Success\n",
      "upload :  data/event/date=2018-06-05/68cc3ceb7cff4cb48cffe2c628aacecb-0.parquet  to Target:  sample/event/date=2018-06-05/68cc3ceb7cff4cb48cffe2c628aacecb-0.parquet ...Success\n",
      "upload :  data/event/date=2018-05-22/521d77e8dd2f4ca091982c1f6a1ddab1-0.parquet  to Target:  sample/event/date=2018-05-22/521d77e8dd2f4ca091982c1f6a1ddab1-0.parquet ...Success\n",
      "upload :  data/event/date=2018-05-22/68cc3ceb7cff4cb48cffe2c628aacecb-0.parquet  to Target:  sample/event/date=2018-05-22/68cc3ceb7cff4cb48cffe2c628aacecb-0.parquet ...Success\n",
      "upload :  data/event/date=2018-05-25/521d77e8dd2f4ca091982c1f6a1ddab1-0.parquet  to Target:  sample/event/date=2018-05-25/521d77e8dd2f4ca091982c1f6a1ddab1-0.parquet ...Success\n",
      "upload :  data/event/date=2018-05-25/68cc3ceb7cff4cb48cffe2c628aacecb-0.parquet  to Target:  sample/event/date=2018-05-25/68cc3ceb7cff4cb48cffe2c628aacecb-0.parquet ...Success\n",
      "upload :  data/event/date=2018-06-02/521d77e8dd2f4ca091982c1f6a1ddab1-0.parquet  to Target:  sample/event/date=2018-06-02/521d77e8dd2f4ca091982c1f6a1ddab1-0.parquet ...Success\n",
      "upload :  data/event/date=2018-06-02/68cc3ceb7cff4cb48cffe2c628aacecb-0.parquet  to Target:  sample/event/date=2018-06-02/68cc3ceb7cff4cb48cffe2c628aacecb-0.parquet ...Success\n",
      "upload :  data/event/date=2018-06-03/521d77e8dd2f4ca091982c1f6a1ddab1-0.parquet  to Target:  sample/event/date=2018-06-03/521d77e8dd2f4ca091982c1f6a1ddab1-0.parquet ...Success\n",
      "upload :  data/event/date=2018-06-03/68cc3ceb7cff4cb48cffe2c628aacecb-0.parquet  to Target:  sample/event/date=2018-06-03/68cc3ceb7cff4cb48cffe2c628aacecb-0.parquet ...Success\n",
      "upload :  data/event/date=2018-05-24/521d77e8dd2f4ca091982c1f6a1ddab1-0.parquet  to Target:  sample/event/date=2018-05-24/521d77e8dd2f4ca091982c1f6a1ddab1-0.parquet ...Success\n",
      "upload :  data/event/date=2018-05-24/68cc3ceb7cff4cb48cffe2c628aacecb-0.parquet  to Target:  sample/event/date=2018-05-24/68cc3ceb7cff4cb48cffe2c628aacecb-0.parquet ...Success\n",
      "upload :  data/event/date=2018-05-23/521d77e8dd2f4ca091982c1f6a1ddab1-0.parquet  to Target:  sample/event/date=2018-05-23/521d77e8dd2f4ca091982c1f6a1ddab1-0.parquet ...Success\n",
      "upload :  data/event/date=2018-05-23/68cc3ceb7cff4cb48cffe2c628aacecb-0.parquet  to Target:  sample/event/date=2018-05-23/68cc3ceb7cff4cb48cffe2c628aacecb-0.parquet ...Success\n",
      "upload :  data/event/date=2018-06-04/521d77e8dd2f4ca091982c1f6a1ddab1-0.parquet  to Target:  sample/event/date=2018-06-04/521d77e8dd2f4ca091982c1f6a1ddab1-0.parquet ...Success\n",
      "upload :  data/event/date=2018-06-04/68cc3ceb7cff4cb48cffe2c628aacecb-0.parquet  to Target:  sample/event/date=2018-06-04/68cc3ceb7cff4cb48cffe2c628aacecb-0.parquet ...Success\n",
      "upload :  data/event/date=2018-05-15/521d77e8dd2f4ca091982c1f6a1ddab1-0.parquet  to Target:  sample/event/date=2018-05-15/521d77e8dd2f4ca091982c1f6a1ddab1-0.parquet ...Success\n",
      "upload :  data/event/date=2018-05-15/68cc3ceb7cff4cb48cffe2c628aacecb-0.parquet  to Target:  sample/event/date=2018-05-15/68cc3ceb7cff4cb48cffe2c628aacecb-0.parquet ...Success\n",
      "upload :  data/event/date=2018-05-12/521d77e8dd2f4ca091982c1f6a1ddab1-0.parquet  to Target:  sample/event/date=2018-05-12/521d77e8dd2f4ca091982c1f6a1ddab1-0.parquet ...Success\n",
      "upload :  data/event/date=2018-05-12/68cc3ceb7cff4cb48cffe2c628aacecb-0.parquet  to Target:  sample/event/date=2018-05-12/68cc3ceb7cff4cb48cffe2c628aacecb-0.parquet ...Success\n",
      "upload :  data/event/date=__HIVE_DEFAULT_PARTITION__/521d77e8dd2f4ca091982c1f6a1ddab1-0.parquet  to Target:  sample/event/date=__HIVE_DEFAULT_PARTITION__/521d77e8dd2f4ca091982c1f6a1ddab1-0.parquet ...Success\n",
      "upload :  data/event/date=__HIVE_DEFAULT_PARTITION__/68cc3ceb7cff4cb48cffe2c628aacecb-0.parquet  to Target:  sample/event/date=__HIVE_DEFAULT_PARTITION__/68cc3ceb7cff4cb48cffe2c628aacecb-0.parquet ...Success\n",
      "upload :  data/event/date=2018-05-30/521d77e8dd2f4ca091982c1f6a1ddab1-0.parquet  to Target:  sample/event/date=2018-05-30/521d77e8dd2f4ca091982c1f6a1ddab1-0.parquet ...Success\n",
      "upload :  data/event/date=2018-05-30/68cc3ceb7cff4cb48cffe2c628aacecb-0.parquet  to Target:  sample/event/date=2018-05-30/68cc3ceb7cff4cb48cffe2c628aacecb-0.parquet ...Success\n",
      "upload :  data/event/date=2018-05-08/521d77e8dd2f4ca091982c1f6a1ddab1-0.parquet  to Target:  sample/event/date=2018-05-08/521d77e8dd2f4ca091982c1f6a1ddab1-0.parquet ...Success\n",
      "upload :  data/event/date=2018-05-08/68cc3ceb7cff4cb48cffe2c628aacecb-0.parquet  to Target:  sample/event/date=2018-05-08/68cc3ceb7cff4cb48cffe2c628aacecb-0.parquet ...Success\n",
      "upload :  data/event/date=2018-06-10/521d77e8dd2f4ca091982c1f6a1ddab1-0.parquet  to Target:  sample/event/date=2018-06-10/521d77e8dd2f4ca091982c1f6a1ddab1-0.parquet ...Success\n",
      "upload :  data/event/date=2018-06-10/68cc3ceb7cff4cb48cffe2c628aacecb-0.parquet  to Target:  sample/event/date=2018-06-10/68cc3ceb7cff4cb48cffe2c628aacecb-0.parquet ...Success\n",
      "upload :  data/event/date=2018-05-01/521d77e8dd2f4ca091982c1f6a1ddab1-0.parquet  to Target:  sample/event/date=2018-05-01/521d77e8dd2f4ca091982c1f6a1ddab1-0.parquet ...Success\n",
      "upload :  data/event/date=2018-05-01/68cc3ceb7cff4cb48cffe2c628aacecb-0.parquet  to Target:  sample/event/date=2018-05-01/68cc3ceb7cff4cb48cffe2c628aacecb-0.parquet ...Success\n",
      "upload :  data/event/date=2018-05-06/521d77e8dd2f4ca091982c1f6a1ddab1-0.parquet  to Target:  sample/event/date=2018-05-06/521d77e8dd2f4ca091982c1f6a1ddab1-0.parquet ...Success\n",
      "upload :  data/event/date=2018-05-06/68cc3ceb7cff4cb48cffe2c628aacecb-0.parquet  to Target:  sample/event/date=2018-05-06/68cc3ceb7cff4cb48cffe2c628aacecb-0.parquet ...Success\n",
      "upload :  data/event/date=2018-05-07/521d77e8dd2f4ca091982c1f6a1ddab1-0.parquet  to Target:  sample/event/date=2018-05-07/521d77e8dd2f4ca091982c1f6a1ddab1-0.parquet ...Success\n",
      "upload :  data/event/date=2018-05-07/68cc3ceb7cff4cb48cffe2c628aacecb-0.parquet  to Target:  sample/event/date=2018-05-07/68cc3ceb7cff4cb48cffe2c628aacecb-0.parquet ...Success\n",
      "upload :  data/event/date=2018-05-09/521d77e8dd2f4ca091982c1f6a1ddab1-0.parquet  to Target:  sample/event/date=2018-05-09/521d77e8dd2f4ca091982c1f6a1ddab1-0.parquet ...Success\n",
      "upload :  data/event/date=2018-05-09/68cc3ceb7cff4cb48cffe2c628aacecb-0.parquet  to Target:  sample/event/date=2018-05-09/68cc3ceb7cff4cb48cffe2c628aacecb-0.parquet ...Success\n",
      "upload :  data/event/date=2018-06-11/521d77e8dd2f4ca091982c1f6a1ddab1-0.parquet  to Target:  sample/event/date=2018-06-11/521d77e8dd2f4ca091982c1f6a1ddab1-0.parquet ...Success\n",
      "upload :  data/event/date=2018-06-11/68cc3ceb7cff4cb48cffe2c628aacecb-0.parquet  to Target:  sample/event/date=2018-06-11/68cc3ceb7cff4cb48cffe2c628aacecb-0.parquet ...Success\n",
      "upload :  data/event/date=2018-05-31/521d77e8dd2f4ca091982c1f6a1ddab1-0.parquet  to Target:  sample/event/date=2018-05-31/521d77e8dd2f4ca091982c1f6a1ddab1-0.parquet ...Success\n",
      "upload :  data/event/date=2018-05-31/68cc3ceb7cff4cb48cffe2c628aacecb-0.parquet  to Target:  sample/event/date=2018-05-31/68cc3ceb7cff4cb48cffe2c628aacecb-0.parquet ...Success\n"
     ]
    }
   ],
   "source": [
    "upload_folder_to_s3(s3bucket, \"data/event\", \"sample/event\")"
   ],
   "metadata": {
    "collapsed": false,
    "pycharm": {
     "name": "#%%\n"
    }
   }
  },
  {
   "cell_type": "code",
   "execution_count": 252,
   "outputs": [],
   "source": [
    "# s3_file.put(\"data/event/\", \"mentha-athena-datastore/sample\", recursive=True)\n",
    "# s3_file.put(\"data/attribution/\", \"mentha-athena-datastore/sample\", recursive=True)"
   ],
   "metadata": {
    "collapsed": false,
    "pycharm": {
     "name": "#%%\n"
    }
   }
  },
  {
   "cell_type": "code",
   "execution_count": 85,
   "outputs": [],
   "source": [
    "# s3_client.upload_file(Filename=\"data/event.parquet\",\n",
    "#                       Bucket=\"mentha-athena-datastore\",\n",
    "#                       Key=\"sample/event/event.parquet\"\n",
    "# )"
   ],
   "metadata": {
    "collapsed": false,
    "pycharm": {
     "name": "#%%\n"
    }
   }
  },
  {
   "cell_type": "code",
   "execution_count": 72,
   "outputs": [],
   "source": [
    "# s3_client.upload_file(Filename=\"data/attribution.parquet\",\n",
    "#                       Bucket=\"mentha-athena-datastore\",\n",
    "#                       Key=\"sample/attribution/attribution.parquet\"\n",
    "# )"
   ],
   "metadata": {
    "collapsed": false,
    "pycharm": {
     "name": "#%%\n"
    }
   }
  },
  {
   "cell_type": "code",
   "execution_count": 64,
   "outputs": [],
   "source": [
    "# s3 = S3FileSystem()\n",
    "pq.write_to_dataset(event_table, root_path=event_output_path, filesystem=s3)\n",
    "# pq.write_to_dataset(attribution_table, root_path=attribution_output_path, filesystem=s3)"
   ],
   "metadata": {
    "collapsed": false,
    "pycharm": {
     "name": "#%%\n"
    }
   }
  },
  {
   "cell_type": "markdown",
   "source": [
    "# 3. Athena"
   ],
   "metadata": {
    "collapsed": false,
    "pycharm": {
     "name": "#%% md\n"
    }
   }
  },
  {
   "cell_type": "markdown",
   "source": [
    "## 3.1. Create Athena tables"
   ],
   "metadata": {
    "collapsed": false,
    "pycharm": {
     "name": "#%% md\n"
    }
   }
  },
  {
   "cell_type": "code",
   "execution_count": 264,
   "outputs": [],
   "source": [
    "from pyathena import connect"
   ],
   "metadata": {
    "collapsed": false,
    "pycharm": {
     "name": "#%%\n"
    }
   }
  },
  {
   "cell_type": "code",
   "execution_count": 265,
   "outputs": [],
   "source": [
    "cursor = connect(s3_staging_dir=\"s3://mentha-athena-query-result/sample\",\n",
    "                 region_name=\"ap-northeast-2\",\n",
    "                 schema_name=\"data_store\"\n",
    ").cursor()"
   ],
   "metadata": {
    "collapsed": false,
    "pycharm": {
     "name": "#%%\n"
    }
   }
  },
  {
   "cell_type": "code",
   "execution_count": 266,
   "outputs": [],
   "source": [
    "create_event_table = \"\"\"\n",
    "CREATE EXTERNAL TABLE IF NOT EXISTS `data_store`.`event` (\n",
    "  `identity_adid` string,\n",
    "  `os` string,\n",
    "  `model` string,\n",
    "  `country` string,\n",
    "  `event_name` string,\n",
    "  `log_id` string,\n",
    "  `server_datetime` timestamp,\n",
    "  `quantity` int,\n",
    "  `price` decimal(10, 1)\n",
    ")\n",
    "PARTITIONED BY (date date)\n",
    "ROW FORMAT SERDE 'org.apache.hadoop.hive.ql.io.parquet.serde.ParquetHiveSerDe'\n",
    "WITH SERDEPROPERTIES ('serialization.format' = '1')\n",
    "LOCATION 's3://mentha-athena-datastore/sample/event/'\n",
    "TBLPROPERTIES ('has_encrypted_data' = 'false');\n",
    "\"\"\"\n",
    "\n",
    "create_event_partition = \"\"\"\n",
    "MSCK REPAIR TABLE `data_store`.`event`;\n",
    "\"\"\""
   ],
   "metadata": {
    "collapsed": false,
    "pycharm": {
     "name": "#%%\n"
    }
   }
  },
  {
   "cell_type": "code",
   "execution_count": 267,
   "outputs": [],
   "source": [
    "create_attribution_table = \"\"\"\n",
    "CREATE EXTERNAL TABLE IF NOT EXISTS `data_store`.`attribution` (\n",
    "  `partner` string,\n",
    "  `campaign` string,\n",
    "  `server_datetime` timestamp,\n",
    "  `tracker_id` string,\n",
    "  `log_id` string,\n",
    "  `attribution_type` int,\n",
    "  `identity_adid` string\n",
    ")\n",
    "PARTITIONED BY (date date)\n",
    "ROW FORMAT SERDE 'org.apache.hadoop.hive.ql.io.parquet.serde.ParquetHiveSerDe'\n",
    "WITH SERDEPROPERTIES ('serialization.format' = '1')\n",
    "LOCATION 's3://mentha-athena-datastore/sample/attribution/'\n",
    "TBLPROPERTIES ('has_encrypted_data' = 'false');\n",
    "\"\"\"\n",
    "\n",
    "create_attribution_partition = \"\"\"\n",
    "MSCK REPAIR TABLE `data_store`.`attribution`;\n",
    "\"\"\""
   ],
   "metadata": {
    "collapsed": false,
    "pycharm": {
     "name": "#%%\n"
    }
   }
  },
  {
   "cell_type": "code",
   "execution_count": 268,
   "outputs": [
    {
     "data": {
      "text/plain": "<pyathena.cursor.Cursor at 0x7f9051199a90>"
     },
     "execution_count": 268,
     "metadata": {},
     "output_type": "execute_result"
    }
   ],
   "source": [
    "cursor.execute(create_event_table)\n",
    "cursor.execute(create_attribution_table)"
   ],
   "metadata": {
    "collapsed": false,
    "pycharm": {
     "name": "#%%\n"
    }
   }
  },
  {
   "cell_type": "code",
   "execution_count": 269,
   "outputs": [
    {
     "data": {
      "text/plain": "<pyathena.cursor.Cursor at 0x7f9051199a90>"
     },
     "execution_count": 269,
     "metadata": {},
     "output_type": "execute_result"
    }
   ],
   "source": [
    "cursor.execute(create_event_partition)\n",
    "cursor.execute(create_attribution_partition)"
   ],
   "metadata": {
    "collapsed": false,
    "pycharm": {
     "name": "#%%\n"
    }
   }
  },
  {
   "cell_type": "code",
   "execution_count": 270,
   "outputs": [
    {
     "data": {
      "text/plain": "[('attribution',), ('event',), ('timestamp_error',), ('whether',)]"
     },
     "execution_count": 270,
     "metadata": {},
     "output_type": "execute_result"
    }
   ],
   "source": [
    "cursor.execute(\"show tables\")\n",
    "cursor.fetchall()"
   ],
   "metadata": {
    "collapsed": false,
    "pycharm": {
     "name": "#%%\n"
    }
   }
  },
  {
   "cell_type": "code",
   "execution_count": 271,
   "outputs": [
    {
     "data": {
      "text/plain": "<pyathena.cursor.Cursor at 0x7f9051199a90>"
     },
     "execution_count": 271,
     "metadata": {},
     "output_type": "execute_result"
    }
   ],
   "source": [
    "cursor.execute(\"select * from event limit 10\")"
   ],
   "metadata": {
    "collapsed": false,
    "pycharm": {
     "name": "#%%\n"
    }
   }
  },
  {
   "cell_type": "code",
   "execution_count": 272,
   "outputs": [
    {
     "data": {
      "text/plain": "[('818187194',\n  '7.1',\n  '7.1',\n  'ge',\n  'abx:start_session',\n  'b1f3eed7-e038-4973-bc52-90663ac8c48a',\n  None,\n  None,\n  None,\n  None),\n ('659691242',\n  '7.1',\n  '7.1',\n  'kr',\n  'abx:login',\n  'ba8f5ca8-c972-4b5b-98bf-84d0c15b8bd0',\n  None,\n  None,\n  None,\n  None),\n ('174649877',\n  '6.0',\n  '6.0',\n  'gb',\n  'abx:login',\n  'd05369ef-07b7-4347-bd79-075e39b2ae18',\n  None,\n  None,\n  None,\n  None),\n ('1010819176',\n  '8.9',\n  '8.9',\n  'gb',\n  'abx:start_session',\n  '7df56a60-8a6b-4ef6-b949-76189d908ec5',\n  None,\n  None,\n  None,\n  None),\n ('1035721498',\n  '8.9',\n  '8.9',\n  'us',\n  'abx:start_session',\n  '5154bf89-bfe9-431a-a83f-2d35bdda942d',\n  None,\n  None,\n  None,\n  None),\n ('1199745791',\n  '8.9',\n  '8.9',\n  'kr',\n  'abx:firstopen',\n  'fcf35f94-6bb2-41ce-8e7f-9ec4085bebf5',\n  None,\n  None,\n  None,\n  None),\n ('1771879785',\n  '3.4',\n  '3.4',\n  'jp',\n  'custom:battle',\n  'e73dce88-1f8f-4f58-932d-cf2ad78bc71a',\n  None,\n  None,\n  None,\n  None),\n ('932314574',\n  '8.9',\n  '8.9',\n  'jp',\n  'abx:start_session',\n  '1c4cbae5-9046-4318-8941-5df00591e75d',\n  None,\n  None,\n  None,\n  None),\n ('1276351575',\n  '8.9',\n  '8.9',\n  'ge',\n  'abx:firstopen',\n  'c2908da0-a718-4a27-8477-53bec28d898b',\n  None,\n  None,\n  None,\n  None),\n ('1354856177',\n  '8.9',\n  '8.9',\n  'kr',\n  'abx:firstopen',\n  '8ae6f148-0530-4b19-a71b-e3de02bd8ce2',\n  None,\n  None,\n  None,\n  None)]"
     },
     "execution_count": 272,
     "metadata": {},
     "output_type": "execute_result"
    }
   ],
   "source": [
    "cursor.fetchall()"
   ],
   "metadata": {
    "collapsed": false,
    "pycharm": {
     "name": "#%%\n"
    }
   }
  },
  {
   "cell_type": "code",
   "execution_count": 88,
   "outputs": [],
   "source": [
    "# session = boto3.Session(profile_name=\"mentha\")\n",
    "# athena_client = session.client(\"athena\")\n",
    "# athena_client.list_data_catalogs()\n",
    "# athena_client.list_databases(CatalogName=\"AwsDataCatalog\")\n",
    "# athena_client.list_work_groups()\n",
    "# exec = athena_client.start_query_execution(QueryString=\"select * from event limit 10\",\n",
    "#                                            QueryExecutionContext={\n",
    "#                                                \"Database\": \"data_store\"\n",
    "#                                            },\n",
    "#                                            ResultConfiguration={\n",
    "#                                                \"OutputLocation\": \"s3://mentha-athena-query-result\"\n",
    "#                                            }\n",
    "# )\n",
    "# athena_client.get_query_execution(\n",
    "#     QueryExecutionId=exec[\"QueryExecutionId\"]\n",
    "# )\n",
    "# result = athena_client.get_query_results(\n",
    "#     QueryExecutionId=exec[\"QueryExecutionId\"]\n",
    "# )\n",
    "# result[\"ResultSet\"]\n",
    "# athena_client.get_query_execution(\n",
    "#     QueryExecutionId=exec[\"QueryExecutionId\"]\n",
    "# )\n",
    "# athena_client.stop_query_execution(\n",
    "#     QueryExecutionId=exec[\"QueryExecutionId\"]\n",
    "# )"
   ],
   "metadata": {
    "collapsed": false,
    "pycharm": {
     "name": "#%%\n"
    }
   }
  },
  {
   "cell_type": "markdown",
   "source": [
    "# References"
   ],
   "metadata": {
    "collapsed": false,
    "pycharm": {
     "name": "#%% md\n"
    }
   }
  },
  {
   "cell_type": "markdown",
   "source": [
    "## 1. DataFrame decimal\n",
    "- https://stackoverflow.com/questions/38114654/pandas-read-csv-column-dtype-is-set-to-decimal-but-converts-to-string"
   ],
   "metadata": {
    "collapsed": false,
    "pycharm": {
     "name": "#%% md\n"
    }
   }
  },
  {
   "cell_type": "code",
   "execution_count": 121,
   "outputs": [
    {
     "name": "stdout",
     "output_type": "stream",
     "text": [
      "<class 'int'> <class 'float'> <class 'decimal.Decimal'> <class 'decimal.Decimal'>\n"
     ]
    }
   ],
   "source": [
    "import pandas as pd\n",
    "import io\n",
    "import decimal as D\n",
    "\n",
    "temp = u\"\"\"a,b,c,d\n",
    "           1,1,1,1.0\"\"\"\n",
    "\n",
    "# after testing replace io.StringIO(temp) to filename\n",
    "df = pd.read_csv(io.StringIO(temp),\n",
    "                 dtype={'a': int, 'b': float},\n",
    "                 converters={'c': D.Decimal, 'd': D.Decimal})\n",
    "\n",
    "for i, v in df.iterrows():\n",
    "    print(type(v.a), type(v.b), type(v.c), type(v.d))"
   ],
   "metadata": {
    "collapsed": false,
    "pycharm": {
     "name": "#%%\n"
    }
   }
  },
  {
   "cell_type": "markdown",
   "source": [
    "## 2. Pandas NA\n",
    "- https://note.nkmk.me/en/python-pandas-nan-none-na/"
   ],
   "metadata": {
    "collapsed": false,
    "pycharm": {
     "name": "#%% md\n"
    }
   }
  },
  {
   "cell_type": "markdown",
   "source": [
    "## 3. Python csv to parquet\n",
    "- https://www.quora.com/How-do-I-convert-CSV-to-parquet-using-Python-and-without-using-Spark\n",
    "- Chunk Example: https://stackoverflow.com/questions/26124417/how-to-convert-a-csv-file-to-parquet"
   ],
   "metadata": {
    "collapsed": false,
    "pycharm": {
     "name": "#%% md\n"
    }
   }
  },
  {
   "cell_type": "code",
   "execution_count": 134,
   "outputs": [],
   "source": [
    "## 4. Glue"
   ],
   "metadata": {
    "collapsed": false,
    "pycharm": {
     "name": "#%%\n"
    }
   }
  },
  {
   "cell_type": "code",
   "execution_count": 135,
   "outputs": [],
   "source": [
    "# {\n",
    "#     \"Version\": \"2012-10-17\",\n",
    "#     \"Statement\": [\n",
    "#         {\n",
    "#             \"Sid\": \"Statement1\",\n",
    "#             \"Effect\": \"Allow\",\n",
    "#             \"Principal\": \"*\",\n",
    "#             \"Action\": \"s3:*\",\n",
    "#             \"Resource\": \"arn:aws:s3:::mentha-query-datastore/*\"\n",
    "#         }\n",
    "#     ]\n",
    "# }"
   ],
   "metadata": {
    "collapsed": false,
    "pycharm": {
     "name": "#%%\n"
    }
   }
  },
  {
   "cell_type": "markdown",
   "source": [
    "## 4. Read parquet file metadata\n",
    "- https://arrow.apache.org/docs/python/generated/pyarrow.parquet.read_metadata.html"
   ],
   "metadata": {
    "collapsed": false,
    "pycharm": {
     "name": "#%% md\n"
    }
   }
  },
  {
   "cell_type": "code",
   "execution_count": 215,
   "outputs": [],
   "source": [
    "# s3_client.list_objects(Bucket=\"mentha-athena-datastore\")"
   ],
   "metadata": {
    "collapsed": false,
    "pycharm": {
     "name": "#%%\n"
    }
   }
  }
 ],
 "metadata": {
  "kernelspec": {
   "display_name": "Python 3",
   "language": "python",
   "name": "python3"
  },
  "language_info": {
   "codemirror_mode": {
    "name": "ipython",
    "version": 2
   },
   "file_extension": ".py",
   "mimetype": "text/x-python",
   "name": "python",
   "nbconvert_exporter": "python",
   "pygments_lexer": "ipython2",
   "version": "2.7.6"
  }
 },
 "nbformat": 4,
 "nbformat_minor": 0
}