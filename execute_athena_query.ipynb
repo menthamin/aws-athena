{
 "cells": [
  {
   "cell_type": "code",
   "execution_count": 3,
   "outputs": [
    {
     "data": {
      "text/plain": "True"
     },
     "execution_count": 3,
     "metadata": {},
     "output_type": "execute_result"
    }
   ],
   "source": [
    "import pandas as pd\n",
    "from pyathena import connect\n",
    "from dotenv import load_dotenv\n",
    "from script.parse_sql import parse_sql_file\n",
    "load_dotenv()"
   ],
   "metadata": {
    "collapsed": false,
    "pycharm": {
     "name": "#%%\n"
    }
   }
  },
  {
   "cell_type": "code",
   "execution_count": 5,
   "outputs": [],
   "source": [
    "def cursor_to_dataframe(cursor):\n",
    "\n",
    "    column_list = [row[0] for row in cursor.description]\n",
    "\n",
    "    return pd.DataFrame(data=cursor.fetchall(), columns=column_list)\n",
    "\n",
    "\n",
    "cursor = connect(s3_staging_dir=\"s3://mentha-athena-query-result/sample\",\n",
    "                 region_name=\"ap-northeast-2\",\n",
    "                 schema_name=\"data_store\"\n",
    ").cursor()"
   ],
   "metadata": {
    "collapsed": false,
    "pycharm": {
     "name": "#%%\n"
    }
   }
  },
  {
   "cell_type": "markdown",
   "source": [
    "# 쿼리 출력 및 csv 저장"
   ],
   "metadata": {
    "collapsed": false,
    "pycharm": {
     "name": "#%% md\n"
    }
   }
  },
  {
   "cell_type": "code",
   "execution_count": 6,
   "outputs": [
    {
     "name": "stdout",
     "output_type": "stream",
     "text": [
      "/* 1. 일별 Active User 데이터 추출 */\n",
      "         date  acitve_user\n",
      "0  2018-05-01         2830\n",
      "1  2018-05-02       333893\n",
      "2  2018-05-03       341539\n",
      "3  2018-05-04       350451\n",
      "4  2018-05-05       350957\n",
      "\n",
      "/* 2. 일별 구매 유저 및 구매 금액 추출 */\n",
      "         date  acitve_user      amount\n",
      "0  2018-05-01         2830    236000.0\n",
      "1  2018-05-02       333893  31058000.0\n",
      "2  2018-05-03       341539  31484000.0\n",
      "3  2018-05-04       350451  32048000.0\n",
      "4  2018-05-05       350957  32176000.0\n",
      "\n",
      "/* 3. 이벤트별 User 데이터 추출 */\n",
      "          event_name  acitve_user\n",
      "0      abx:firstopen      2858879\n",
      "1  abx:start_session      1981847\n",
      "2          abx:login      1514545\n",
      "3      custom:battle      1257559\n",
      "4    abx:end_session      1078501\n",
      "\n",
      "/* 4. 캠페인별 User 데이터 추출 */\n",
      "    campaign  acitve_user\n",
      "0  campaign1       250711\n",
      "1  campaign2       312656\n",
      "2  campaign3        65078\n",
      "3       None      2386560\n",
      "\n",
      "/* 5. 캠페인별 구매 금액 추출 */\n",
      "    campaign  acitve_user amount\n",
      "0  campaign1       250711    0.0\n",
      "1  campaign2       312656    0.0\n",
      "2  campaign3        65078    0.0\n",
      "3       None      2386560    0.0\n",
      "\n",
      "/* 6. 국가, 캠페인별 구매 금액 추출 */\n",
      "    campaign country  acitve_user amount\n",
      "0  campaign1      gb        48672    0.0\n",
      "1  campaign1      ge        24111    0.0\n",
      "2  campaign1      jp        48671    0.0\n",
      "3  campaign1      kr        73133    0.0\n",
      "4  campaign1      us        48638    0.0\n",
      "\n",
      "/* 7. Funnel 데이터 추출 */\n",
      "         date  abx:firstopen_user  abx:login  abx:purchase\n",
      "0  2018-05-01                1387        386            47\n",
      "1  2018-05-02              161986      44707          6233\n",
      "2  2018-05-03              166300      45264          6314\n",
      "3  2018-05-04              170683      46182          6397\n",
      "4  2018-05-05              170134      46467          6429\n",
      "\n",
      "/* 8. 파트너별 new_install 유저의 funnel 데이터 추출 */\n",
      "                  partner  acitve_user  abx:firstopen_user  abx:login  \\\n",
      "0  8MCosUQMik2Muvd-MU0lew       546505              526686          0   \n",
      "\n",
      "   abx:purchase  \n",
      "0             0  \n",
      "\n",
      "with\n",
      "   first_open  firstopen_day     D+0  D+1  D+2   D+3  D+7\n",
      "0  2018-05-01           1387    1387    0    0     0    0\n",
      "1  2018-05-02         161986  161986    0    0     0    0\n",
      "2  2018-05-03         166300  166300    0    0     0    0\n",
      "3  2018-05-04         170683  170683    1    0    10    0\n",
      "4  2018-05-05         170134  170134    0    0  1087    0\n",
      "\n"
     ]
    }
   ],
   "source": [
    "for i in range(1, 10):\n",
    "\n",
    "    query = parse_sql_file(f\"sql/query-{i}.sql\")\n",
    "    cursor.execute(query)\n",
    "    query_result = cursor_to_dataframe(cursor)\n",
    "\n",
    "    print(query.split(\"\\n\")[0])\n",
    "    print(query_result.head(5), end=\"\\n\\n\")\n",
    "\n",
    "    query_result.to_csv(f\"csv/query-{i}.csv\", index=False, encoding=\"utf-8\")"
   ],
   "metadata": {
    "collapsed": false,
    "pycharm": {
     "name": "#%%\n"
    }
   }
  },
  {
   "cell_type": "code",
   "execution_count": 6,
   "outputs": [],
   "source": [],
   "metadata": {
    "collapsed": false,
    "pycharm": {
     "name": "#%%\n"
    }
   }
  },
  {
   "cell_type": "markdown",
   "source": [
    "## Test: 일별 Active User 데이터 추출"
   ],
   "metadata": {
    "collapsed": false,
    "pycharm": {
     "name": "#%% md\n"
    }
   }
  },
  {
   "cell_type": "code",
   "execution_count": 7,
   "outputs": [
    {
     "data": {
      "text/plain": "         date  acitve_user\n0  2018-05-01         2830\n1  2018-05-02       333893\n2  2018-05-03       341539\n3  2018-05-04       350451\n4  2018-05-05       350957",
      "text/html": "<div>\n<style scoped>\n    .dataframe tbody tr th:only-of-type {\n        vertical-align: middle;\n    }\n\n    .dataframe tbody tr th {\n        vertical-align: top;\n    }\n\n    .dataframe thead th {\n        text-align: right;\n    }\n</style>\n<table border=\"1\" class=\"dataframe\">\n  <thead>\n    <tr style=\"text-align: right;\">\n      <th></th>\n      <th>date</th>\n      <th>acitve_user</th>\n    </tr>\n  </thead>\n  <tbody>\n    <tr>\n      <th>0</th>\n      <td>2018-05-01</td>\n      <td>2830</td>\n    </tr>\n    <tr>\n      <th>1</th>\n      <td>2018-05-02</td>\n      <td>333893</td>\n    </tr>\n    <tr>\n      <th>2</th>\n      <td>2018-05-03</td>\n      <td>341539</td>\n    </tr>\n    <tr>\n      <th>3</th>\n      <td>2018-05-04</td>\n      <td>350451</td>\n    </tr>\n    <tr>\n      <th>4</th>\n      <td>2018-05-05</td>\n      <td>350957</td>\n    </tr>\n  </tbody>\n</table>\n</div>"
     },
     "execution_count": 7,
     "metadata": {},
     "output_type": "execute_result"
    }
   ],
   "source": [
    "query1 = parse_sql_file(\"sql/query-1.sql\")\n",
    "cursor.execute(query1)\n",
    "query1_result = cursor_to_dataframe(cursor)\n",
    "query1_result.head(5)"
   ],
   "metadata": {
    "collapsed": false,
    "pycharm": {
     "name": "#%%\n"
    }
   }
  },
  {
   "cell_type": "code",
   "execution_count": null,
   "outputs": [],
   "source": [],
   "metadata": {
    "collapsed": false,
    "pycharm": {
     "name": "#%%\n"
    }
   }
  }
 ],
 "metadata": {
  "kernelspec": {
   "display_name": "Python 3",
   "language": "python",
   "name": "python3"
  },
  "language_info": {
   "codemirror_mode": {
    "name": "ipython",
    "version": 2
   },
   "file_extension": ".py",
   "mimetype": "text/x-python",
   "name": "python",
   "nbconvert_exporter": "python",
   "pygments_lexer": "ipython2",
   "version": "2.7.6"
  }
 },
 "nbformat": 4,
 "nbformat_minor": 0
}